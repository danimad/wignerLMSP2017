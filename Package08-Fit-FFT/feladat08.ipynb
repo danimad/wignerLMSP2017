{
 "cells": [
  {
   "cell_type": "markdown",
   "metadata": {
    "deletable": true,
    "editable": true
   },
   "source": [
    "# Feladatok\n",
    "- Minden feladatot feladatszámnak mgefelelő számú megoldásnotebookban oldd meg. Azaz az első feladatot az `1_feladat.ipynb` notebookban.\n",
    "- A **halálfejes (☠)** feladatokhoz, **hozz létre** a kötelező feladatokhoz hasonlóan egy új notebookot a MEGOLDÁSOK könyvtárban.\n",
    "- Csak azok a feladatok kerülnek elbírálásra amelyek a MEGOLDASOK mappában vannak!\n",
    "- A megoldás tartalmazza a megoldandó **feladat szövegét** a megoldás notebook első `markdown` cellájában!\n",
    "- **Kommentekkel** illetve `markdown` cellákkal magyarázd hogy éppen mit csinál az adott kódrészlet!<br> **Magyarázat nélkül a beküldött feladatok csak fél feladatnak számítanak!**\n",
    "- Az elkészített ábrák minden esetben rendelkezzenek **ábrafeliratokkal** (cím, tengelyfeliratok és amennyiben indokolt jelmagyarázat)!\n",
    "**Amennyiben a beadott ábrákon nincsenek feliratok az adott feladat automatikusan csak fél feladatnak számít**!\n",
    "\n",
    "----\n"
   ]
  },
  {
   "cell_type": "markdown",
   "metadata": {
    "deletable": true,
    "editable": true
   },
   "source": [
    "## 01-Baumgartner\n",
    "A mintapéldák között láttunk Felix Baumgartner ugrásával kapcsolatban több példát is. Határozzuk meg $g$ és $\\alpha$ értékét a $v(t)$ függvény elejéhez vett lineáris, illetve a $t=210\\dots260$ intervallumban illesztett konstans függvényekből! Itt is készítsünk szépen formázott ábrát! A szükséges adatok a `../data/v_vs_t` file-ban találhatóak. A file első oszlopa az esés ideje s-ban, a második oszlop a sebesség km/h-ban.\n",
    "Egy egyenletesen $g$-vel gyorsuló test sebessége az idő függvényében az egyszerű $$ v(t)=gt $$ kifejezés szerint változik.\n",
    "Az $\\alpha$ közegellenállási együttható pedig a $$ \\alpha=\\frac{mg}{v^2} $$ kifejezésből kapható meg, ahol a $v$ sebesség a $v(t)$ függvény $t=210\\dots260$ időintervallumban vett konstans illesztéséből adódó érték."
   ]
  },
  {
   "cell_type": "markdown",
   "metadata": {
    "deletable": true,
    "editable": true
   },
   "source": [
    "## 02-Ebola illesztés\n",
    "\n",
    "Az `../data/ebola.txt` file tartalmazza a legutóbbi ebolajárvány terjedési idősorát országokra lebontva. \n",
    "\n",
    "- Ábrázoljuk az idő függvényében az összes bekövetkezett haláleset számát (Ezt az adatsort több oszlop összegeként tudjuk előállítani! ). \n",
    "- Illesszünk az összes bekövetkezett haláleset számára egy exponenciális függvényalakot! $$f(t,A,\\beta)=A\\mathrm{e}^{\\beta t}$$   \n",
    "\n",
    "- Becsüljük meg, ha nem tett volna az ENSZ semmit, akkor mikor pusztult volna ki az emberiség!"
   ]
  },
  {
   "cell_type": "markdown",
   "metadata": {
    "deletable": true,
    "editable": true
   },
   "source": [
    "## 03-Csúcs keresés\n",
    "\n",
    "A `../data/pupos` file tartalmaz egy zajos adatsort.\n",
    "\n",
    "- Illesszünk erre az adatsorra két Gauss-görbe összegét! $$ f_{2G}(x)=A_1 \\mathrm{e}^{-(x-e_1)^2/s_1^2}+A_2 \\mathrm{e}^{-(x-e_2)^2/s_2^2} $$\n",
    "\n",
    "- Illesszünk erre az adatsorra két Lorentz-görbe összegét is! $$ f_{2L}(x)=\\frac{B_1}{w_1^2+(x-p_1)^2}+\\frac{B_2}{w_2^2+(x-p_2)^2} $$\n",
    "\n",
    "Ábrázoljuk az eredeti adatsort, illetve mind a két esetben ábrázoljuk az illesztés eredményét is! Ha az illesztés során esetleg problémákba ütközünk, akkor próbálkozzunk az illesztési paraméterek kezdeti értékének becslésével!"
   ]
  },
  {
   "cell_type": "markdown",
   "metadata": {
    "deletable": true,
    "editable": true
   },
   "source": [
    "## 04-Zenebona \n",
    "\n",
    "Vizsgáljuk meg a `../data/zenebona` nevű file-ban található zajos adatsor Fourier-spektrumát. Határozzuk meg azokat a pozitív frekvenciákat, melyek dominánsan szerepelnek ! Az file két oszlopot tartalmaz: az első oszlop az idő, a második pedig a jel.\n",
    "\n",
    "- Készíts ábrát a jel alakjáról!\n",
    "- Készíts ábrát a jel Fourier-transzformáltjáról!\n",
    "- Határozd meg a Fourier-transzformált domináns frekvenciáit, és jelöld azokat az ábrán! Például tegyünk esetlegesen előforduló csúcs(ok) tetejére valamilyen jelet!"
   ]
  },
  {
   "cell_type": "markdown",
   "metadata": {
    "deletable": true,
    "editable": true
   },
   "source": [
    "## 05 Hol vannak a fekete lyukak?\n",
    "\n",
    "A `../data/black_hole.npy` binárisan tárolt file-ban a [LIGO](https://www.ligo.caltech.edu/) detektor legfrissebb mérési adatai találhatóak. Az adatsort a detektor 44100 Hz-es mintavételezési frekvenciával vette fel. \n",
    "- Ábrázold az adatsor jelalakját !\n",
    "- Határozd meg a jel Fourier-spektrumának legnagyobb és legkissebb frekvenciáját.\n",
    "- A jel spektrogramjának segítségével becsüld meg a detektált fekete lyuk(ak) koordinátáit."
   ]
  },
  {
   "cell_type": "markdown",
   "metadata": {
    "deletable": true,
    "editable": true
   },
   "source": [
    "## ☠ 06-Frekvenciaszűrő\n",
    "\n",
    "Az `ifft` fügvény segítségével kaphatjuk meg egy függvény inverz Fourier transzformáltját. Alkalmazva ezt a függvényt, szűrjük ki a ` ../data/zenebona` fileban található hangmintából a 20Hz-nél magasabb frekvenciájú komponenseket! "
   ]
  },
  {
   "cell_type": "markdown",
   "metadata": {
    "deletable": true,
    "editable": true
   },
   "source": [
    "## ☠ 07-Árapály\n",
    "\n",
    "Vizsgáljuk meg az `../data/arapaly` fileban található adatokat, melyek egy idilli kis tengerparti angol falu, [Heysham](https://en.wikipedia.org/wiki/Heysham), atomerőművének tengerszintmérő berendezésének a méréseit tartalmazza. Az adatsor két oszlopból áll: az első oszlop az idő napban mérve, a második oszlop az aktuális tengerszint méterben. \n",
    "- Fizikai meggondolások alapján milyen domináns frekvenciát vársz az adatsortól? \n",
    "- Készíts ábrát az első 3 nap adatai alapján a tengerszint ingadozásáról!\n",
    "- Készíts ábrát a jel Fourier-transzformáltjáról! Megjelenik a várt frekvencia? "
   ]
  },
  {
   "cell_type": "markdown",
   "metadata": {
    "deletable": true,
    "editable": true
   },
   "source": [
    "## ☠ 08-AM-FM\n",
    "\n",
    "Generáljunk egy 20s hosszú 2500 Hz mintavételezésű jelet mely: \n",
    "- 200Hz-es vivő frekvencián a $J_0(t)$ [Bessel](https://en.wikipedia.org/wiki/Bessel_function)-függvény által amplitúdó modulált\n",
    "- 800Hz-es vivő frekvencián frekvencia modulációval tartalmazza az $\\alpha(t)=3t^2$ jelet.\n",
    "\n",
    "Készítsük el a jel spektrogramját és ábrázoljuk a két modulációs jelet is!\n",
    "\n",
    "Mit történik 12s környékén a frekvencia modulált jellel? Diszkutáljuk a jelentséget!"
   ]
  },
  {
   "cell_type": "markdown",
   "metadata": {
    "deletable": true,
    "editable": true
   },
   "source": [
    "## ☠ 09 Baumgartner légsűrűség mérő\n",
    "\n",
    "Felhasználva Felix Baumgartner ugrásának adatait, határozzuk meg az atmoszféra sűrűség-magasság profilját!\n",
    "Tételezzük fel, hogy a légellenállás a sebesség négyzetével arányos!"
   ]
  },
  {
   "cell_type": "markdown",
   "metadata": {
    "deletable": true,
    "editable": true
   },
   "source": [
    "## ☠  10 Hubble-állandó\n",
    "\n",
    "Feladatunkban szeretnénk meghatározni a Hubble-konstans értékét (\"az Univezum tágulásának ütemét\") az SDSS megfigyelésekől (Sloan Digital Sky Survey).\n",
    "\n",
    "Tegyük fel, hogy a megfigyelhető Világegyetemben minden időpillanatban megegyező arányban voltak fényes és halvány galaxisok, melyeknek abszolút értelemben vett fényessége az időben nem is változott. Ha ezt elfogadjuk, akkor a távolságtörvény segítségével megbecsülhető egy ismert abszolút fényességű galaxis távolsága. Másképp fogalmazva, ha megadjuk az adott \"tipusú\" galaxisokra jellemző abszolút fényességeket, kiszámolható a távolságuk a megfigyelt magnitúdó fényességükből a következő formulával:\n",
    "$$ m_{megfigyelt} - M_{abszolút} = 2,5 \\cdot (d[pc]/10)^2 $$, ahol `d` a távolság \"parszek\"-ben.\n",
    "\n",
    "Az `SDSS J020953.99-052818.1` nevű galaxis látszó megnitúdója 22,15 mag, és a távolsága 1013 Mpc (Megaparszek, azaz 1 millió parszek), mely tekinthető sztenderd gyertyának.  Forrás: [itt](http://ned.ipac.caltech.edu/level5/NED0D/NED.4D.V2.0.go.1.print.1.2007.htm)\n",
    "\n",
    "**Első feladatként adjuk meg mekkora abszólút fénnyeségűek ezek a etalonnak tekinthető óriásgalaxisok.**\n",
    "\n",
    "Azt is tudjuk, hogy a galaxisok mozognak a Tejútrendszerhez képest, így a kibocsájtott fényük [vöröseltolódást](https://hu.wikipedia.org/wiki/V%C3%B6r%C3%B6seltol%C3%B3d%C3%A1s) szenved el mire eljut hozzánk. A megfigyelt vöröseltolódásból megmondható a galaxis hozzánk viszonyított sebessége:\n",
    "$$ z \\approx \\frac{v}{c} $$, ahol `z` a vöröseltolódás mértéke, `v` a galaxis hozánk viszonyított sebessége, és `c` a fénysebesség.\n",
    "\n",
    "Az [itt](http://oroszl.web.elte.hu/hubble.csv) elérhető `hubble.csv` fájlban találhatóak az előbb bemutatott adatok:\n",
    "- z: Vöröseltolódás mértéke - Ezt kell használni a feladatban!\n",
    "- psfMag_r: Látszó, megfigyelt magnitúdó\n",
    "- dered_r: Galaktikus vörösödésre korrigált látszó magnitúdó - Ezt kell használni a feladatban!\n",
    "- psfMagErr_r: Megfigyelt magnitúdó hibája\n",
    "- zErr: Vöröseltolódás hibája\n",
    "\n",
    "**Második lépésben ábrázold a korrigált (dered) látszó magnitúdó függvényében a vöröseltolódást!**\n",
    "\n",
    "Majd készíts vöröseltolódás-távolság ($distance=log10(1+z)$) szerint 200 bint a galaxisokra (melyek 0.2-nél kisebb z-vel rendelkeznek). A binek száma csak elsőkörben legyen 200, mivel **ügyeljünk arra, hogy minimum 50 galaxis kerüljön a binekbe.** Azaz amelyik bin nem tartalmaz 50 galaxist azt a bint és galaxisait hadjuk ki a további elemzésből.\n",
    "\n",
    "Miután megvannak a binek, **minden binből vegyük ki a legkisebb magnitúdót mutató galaxisokat** (ezek a legfényesebbek fizikailag). Ezek lesznek a sztenderd gyertyák. **Ábrázoljuk** szintén magnitúdó és vöröseltolódással ábárán ezeket a galaxisokat. Mit látunk? **Rövid válaszodat `markdown` cellában fejtsd ki!**\n",
    "\n",
    "A következő, hogy az első lépésben meghatározott abszolút fényesség segítségével kiszámoljuk az összes imént megtalált fényes galaxis távolságát. Illetve számoljuk ki a sebességüket is a fent bemutatott módon a vöröseltolódásokból ($ z \\approx \\frac{v}{c} $). **Ábrázljuk ismét az eredményt!**\n",
    "\n",
    "**A kapott adatokra illesszünk egyenest $f(x)=a \\cdot x + b$ alakban! A kapott egyenes meredeksége adja meg a Hubble-állandó értékét. **\n",
    "\n",
    "**Röviden értelmezzük a kapott eredményt! Mennyire egyezik az irodalmi adatokkal?**\n",
    "\n",
    "Egy kis további segítség: \n",
    "- [Hubble-állandó](http://www.konkoly.hu/~kovari/CSILLAGASZAT/tananyag/CSILLAGASZAT/03_01.html) \n",
    "- [A feladat bővebb bemutatása](http://skyserver.sdss.org/dr7/hu/proj/basic/universe/)\n",
    "\n",
    "Megj.: Azz adatfájl beolvasása során `-999` jelőli a hibás rekordokat. \n",
    "\n",
    "Segítségként megadjuk az adatfájl beolvasását és beállítjuk a megfelelő elemzési tartományokat."
   ]
  },
  {
   "cell_type": "code",
   "execution_count": null,
   "metadata": {
    "collapsed": true
   },
   "outputs": [],
   "source": [
    "data=loadtxt(\"hubble.csv\",  delimiter=',', skiprows=1)\n",
    "z=data[(data[:,1]>-999) & (data[:,1] < 20) &(data[:,1] >10) & (data[:,4]>0.) & \n",
    "       (data[:,4]<0.1) & (data[:,3]>0.) & (data[:,3]<0.05)][:,0]\n",
    "mag=data[(data[:,1]>-999) & (data[:,1] < 20) &(data[:,1] >10) & (data[:,4]>0.) & \n",
    "         (data[:,4]<0.1) & (data[:,3]>0.) & (data[:,3]<0.05)][:,1]\n",
    "dered=data[(data[:,1]>-999) & (data[:,1] < 20) &(data[:,1] >10) & (data[:,4]>0.) & \n",
    "           (data[:,4]<0.1) & (data[:,3]>0.) & (data[:,3]<0.05)][:,2]"
   ]
  }
 ],
 "metadata": {
  "hide_input": false,
  "kernelspec": {
   "display_name": "Python 3",
   "language": "python",
   "name": "python3"
  },
  "language_info": {
   "codemirror_mode": {
    "name": "ipython",
    "version": 3
   },
   "file_extension": ".py",
   "mimetype": "text/x-python",
   "name": "python",
   "nbconvert_exporter": "python",
   "pygments_lexer": "ipython3",
   "version": "3.5.2"
  },
  "name": "feladat04.ipynb"
 },
 "nbformat": 4,
 "nbformat_minor": 0
}
