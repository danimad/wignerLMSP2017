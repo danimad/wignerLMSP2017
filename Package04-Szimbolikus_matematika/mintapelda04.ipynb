{
 "cells": [
  {
   "cell_type": "markdown",
   "metadata": {},
   "source": [
    "# Ismerkedés a [sympy](www.sympy.org) modullal\n",
    "\n",
    "Számos kereskedelmi ([Mathematica](https://www.wolfram.com/mathematica/), [Maple](http://www.maplesoft.com/products/maple/)) számítógépes algebrai csomag létezik már, melyek bonyolult analitikusformula-manipulációs készséggel rendelkeznek. A `sympy` csomag egy ingyenes nyílt forráskódú `python` modul, ami használható alternatívát kínál kereskedelmi vetélytársaival szemben. Ebben a notebookban néhány `sympy` függvénnyel fogunk megismerkedni. \n",
    "Mielőtt fejest ugranánk a modul ismertetésébe, álljon itt az alábbi két kép figyelmeztetésül:"
   ]
  },
  {
   "cell_type": "markdown",
   "metadata": {},
   "source": [
    "<table>\n",
    "<tr>\n",
    "<td style=\"border: 1px solid #ffffff\"><img src=\"http://lghttp.30059.nexcesscdn.net/80C479/magento/media/catalog/product/cache/1/image/330x330/140720ac20424209c6bb28e1b7731856/s/p/sp-kidcane.jpg\" width=200></img> </td>\n",
    "<td style=\"border: 1px solid #ffffff\">vs.</td>\n",
    "<td style=\"border: 1px solid #ffffff\"><img src=\"http://nsms6thgradesocialstudies.weebly.com/uploads/3/7/2/4/37241339/1021698_orig.jpg\" width=200></img> </td>\n",
    "</tr>\n",
    "</table>"
   ]
  },
  {
   "cell_type": "markdown",
   "metadata": {},
   "source": [
    "Általában ugyanis igaz az, hogy a hétköznapi felhasználók (alapvetően diákok) hajlamosak túlságosan megbízni ezekben a formulamanipulációs programcsomagokban. Sokszor hallani oktatási intézmények folyosóin, hogy: 'Még a Mathematica se tudta kiszámolni!' Ezek a programcsomagok nem mindentudó [orákulumok](https://en.wikipedia.org/wiki/Oracle)! Alapvetően inkább mankóként tekintsünk rájuk, amit a saját készségeinkhez próbálunk igazítani, s nem mint egy mindent tudó feketedobozra amely minden kérdésre tévedhetetlenül a pontos választ adja. \n",
    "\n",
    "**Fontos** megjegyezni, hogy mivel van pár, a `sympy` függvényeihez hasonló nevű függvény a `pylab` parancs által importált modulokban, ezért a kellemetlenségek elkerülése végett célszerű - legalábbis a házi feladatok megoldása során - mindig külön notebookot indítani a `sympy`-os problémák megoldásánál!\n",
    "Ezen felül a már megszokott `%pylab inline` helyett `%matplotlib inline` -al kezdjük a notebookokat, hogy az esetlegesen megjeleníteni kívánt ábrák jól működjenek!"
   ]
  },
  {
   "cell_type": "code",
   "execution_count": 1,
   "metadata": {
    "collapsed": false
   },
   "outputs": [],
   "source": [
    "# Figyelem az alábbi parancs csak az ábrázolásra készíti fel a környezetet\n",
    "%matplotlib inline\n",
    "# Ez a két parancs pedig a szimbolikus számításra\n",
    "from sympy import * # a sympy csomag rutinjainak betöltése\n",
    "init_printing()     # szép kimenet  "
   ]
  },
  {
   "cell_type": "markdown",
   "metadata": {},
   "source": [
    "## Változók, egyenletek és egyenletrendszerek megoldása\n",
    "Ahhoz, hogy változókat szimbolikusan is manipulálni tudjunk, meg kell mondanunk a Pythonnak, hogy ezentúl tekintsen a változónkra mint valamilyen matematikai formulában előforduló szimbólumra. Ezt a legegyszerűbben így tehetjük meg:"
   ]
  },
  {
   "cell_type": "code",
   "execution_count": 2,
   "metadata": {
    "collapsed": false
   },
   "outputs": [],
   "source": [
    "x=symbols('x')"
   ]
  },
  {
   "cell_type": "markdown",
   "metadata": {},
   "source": [
    "Ezek után az $x$ változót használhatjuk szimbolikus számításokra. Oldjuk meg például a következő egyszerű egyenletet: $$3x=5$$\n",
    "Ezt a `solve` függvény segítségével tehetjük meg. A `solve` függvény első bementete a megoldandó egyenlet 0-ra rendezve, a második pedig a keresett változó:"
   ]
  },
  {
   "cell_type": "code",
   "execution_count": 3,
   "metadata": {
    "collapsed": false
   },
   "outputs": [
    {
     "data": {
      "image/png": "[encoded data removed]",
      "text/latex": [
       "$$\\left [ \\frac{5}{3}\\right ]$$"
      ],
      "text/plain": [
       "[5/3]"
      ]
     },
     "execution_count": 3,
     "metadata": {},
     "output_type": "execute_result"
    }
   ],
   "source": [
    "solve(3*x-5,x)"
   ]
  },
  {
   "cell_type": "markdown",
   "metadata": {},
   "source": [
    "Definiáljunk néhány további változót is!"
   ]
  },
  {
   "cell_type": "code",
   "execution_count": 4,
   "metadata": {
    "collapsed": true
   },
   "outputs": [],
   "source": [
    "y,z,a,b,c=symbols('y,z,a,b,c') # Így definiálunk egyszerre több változót"
   ]
  },
  {
   "cell_type": "code",
   "execution_count": 5,
   "metadata": {
    "collapsed": true
   },
   "outputs": [],
   "source": [
    "k,l=symbols('k,l',integer=True) # Így specifikáljuk hogy a defiiált változók egész számok\n",
    "p,q=symbols('p,q',real=True) # Így pedig hogy valósak"
   ]
  },
  {
   "cell_type": "markdown",
   "metadata": {},
   "source": [
    "Oldjuk meg most az $$a x+b=y$$ egyenletet $x$ -re!"
   ]
  },
  {
   "cell_type": "code",
   "execution_count": 6,
   "metadata": {
    "collapsed": false
   },
   "outputs": [
    {
     "data": {
      "image/png": "[encoded data removed]",
      "text/latex": [
       "$$\\left [ \\frac{1}{a} \\left(- b + y\\right)\\right ]$$"
      ],
      "text/plain": [
       "⎡-b + y⎤\n",
       "⎢──────⎥\n",
       "⎣  a   ⎦"
      ]
     },
     "execution_count": 6,
     "metadata": {},
     "output_type": "execute_result"
    }
   ],
   "source": [
    "solve(a*x+b-y,x)"
   ]
  },
  {
   "cell_type": "markdown",
   "metadata": {},
   "source": [
    "Ha több megoldása is van az egyenletnek, akkor a `sympy` `solve` függvénye lehetőség szerint mind a kettőt megtalálja. Jól mutatja ezt a másodfokú egyenlet megoldásának \"megtalálása\":"
   ]
  },
  {
   "cell_type": "code",
   "execution_count": 7,
   "metadata": {
    "collapsed": false
   },
   "outputs": [
    {
     "data": {
      "image/png": "[encoded data removed]",
      "text/latex": [
       "$$\\left [ \\frac{1}{2 a} \\left(- b + \\sqrt{- 4 a c + b^{2}}\\right), \\quad - \\frac{1}{2 a} \\left(b + \\sqrt{- 4 a c + b^{2}}\\right)\\right ]$$"
      ],
      "text/plain": [
       "⎡        _____________   ⎛       _____________⎞ ⎤\n",
       "⎢       ╱           2    ⎜      ╱           2 ⎟ ⎥\n",
       "⎢-b + ╲╱  -4⋅a⋅c + b    -⎝b + ╲╱  -4⋅a⋅c + b  ⎠ ⎥\n",
       "⎢─────────────────────, ────────────────────────⎥\n",
       "⎣         2⋅a                     2⋅a           ⎦"
      ]
     },
     "execution_count": 7,
     "metadata": {},
     "output_type": "execute_result"
    }
   ],
   "source": [
    "solve(a*x**2+b*x+c,x)"
   ]
  },
  {
   "cell_type": "markdown",
   "metadata": {},
   "source": [
    "Természetesen a megoldás nem feltétlenül valós szám! A komplex egységgyököt a `sympy` `I`-vel jelöli:"
   ]
  },
  {
   "cell_type": "code",
   "execution_count": 8,
   "metadata": {
    "collapsed": false
   },
   "outputs": [
    {
     "data": {
      "image/png": "[encoded data removed]",
      "text/latex": [
       "$$-1$$"
      ],
      "text/plain": [
       "-1"
      ]
     },
     "execution_count": 8,
     "metadata": {},
     "output_type": "execute_result"
    }
   ],
   "source": [
    "I**2"
   ]
  },
  {
   "cell_type": "markdown",
   "metadata": {},
   "source": [
    "A `solve` függvényt egyenletrendszerek megoldására is lehet használni. Ilyenkor a nullára rendezett egyenleteket listába foglaljuk. A keresett változókat szintúgy. Oldjuk meg a következő egyenletrendszert az $x$ és $y$ változókra:\n",
    "$$y=x^2+ax-4b$$\n",
    "$$y=x-b$$\n",
    "Mivel $x$-ben másodrendű az első egyenlet, ezért két megoldáspárt várunk (A parabola legfeljebb két helyen metszi az egyenest...)"
   ]
  },
  {
   "cell_type": "code",
   "execution_count": 9,
   "metadata": {
    "collapsed": false
   },
   "outputs": [
    {
     "data": {
      "image/png": "[encoded data removed]",
      "text/latex": [
       "$$\\left [ \\left ( - \\frac{a}{2} - \\frac{1}{2} \\sqrt{a^{2} - 2 a - 4 b + 1} + \\frac{1}{2}, \\quad - \\frac{a}{2} - b - \\frac{1}{2} \\sqrt{a^{2} - 2 a - 4 b + 1} + \\frac{1}{2}\\right ), \\quad \\left ( - \\frac{a}{2} + \\frac{1}{2} \\sqrt{a^{2} - 2 a - 4 b + 1} + \\frac{1}{2}, \\quad - \\frac{a}{2} - b + \\frac{1}{2} \\sqrt{a^{2} - 2 a - 4 b + 1} + \\frac{1}{2}\\right )\\right ]$$"
      ],
      "text/plain": [
       "⎡⎛         ____________________                   ____________________    ⎞  ⎛\n",
       "⎢⎜        ╱  2                                   ╱  2                     ⎟  ⎜\n",
       "⎢⎜  a   ╲╱  a  - 2⋅a - 4⋅b + 1    1    a       ╲╱  a  - 2⋅a - 4⋅b + 1    1⎟  ⎜\n",
       "⎢⎜- ─ - ─────────────────────── + ─, - ─ - b - ─────────────────────── + ─⎟, ⎜\n",
       "⎣⎝  2              2              2    2                  2              2⎠  ⎝\n",
       "\n",
       "         ____________________                   ____________________    ⎞⎤\n",
       "        ╱  2                                   ╱  2                     ⎟⎥\n",
       "  a   ╲╱  a  - 2⋅a - 4⋅b + 1    1    a       ╲╱  a  - 2⋅a - 4⋅b + 1    1⎟⎥\n",
       "- ─ + ─────────────────────── + ─, - ─ - b + ─────────────────────── + ─⎟⎥\n",
       "  2              2              2    2                  2              2⎠⎦"
      ]
     },
     "execution_count": 9,
     "metadata": {},
     "output_type": "execute_result"
    }
   ],
   "source": [
    "solve([x**2 + a*x - y, x - y - b],[x,y]) # Így kell egyenletrendszert megoldani\n"
   ]
  },
  {
   "cell_type": "markdown",
   "metadata": {},
   "source": [
    "A `solve` függvény kimenete most egy lista, amelynek az elemei a megfelelő $(x,y)$ párok."
   ]
  },
  {
   "cell_type": "markdown",
   "metadata": {},
   "source": [
    "## Behelyettesítés és kiértékelés"
   ]
  },
  {
   "cell_type": "markdown",
   "metadata": {},
   "source": [
    "Sokszor előfordul, hogy analitikus számítások során a képletek egyszerűsítése végett egy-egy gyakran ismétlődő kifejezésre az ember bevezet egy rövidítést. A számolás befejeztével ezeket a rövidítéseket vissza kell helyettesíteni az eredeti megfelelőikkel a végeredménybe. Ilyen és ehhez hasonló helyettesítésekre alkalmazható a `subs()` metódus, mely a `sympy` minden kifejezés objektumának metódusa. Lássunk erre egy példát! Legyen egy számolás eredménye $x^2+ax-y$, és legyen ez az eredmény a `valami` változóban eltárolva:"
   ]
  },
  {
   "cell_type": "code",
   "execution_count": 10,
   "metadata": {
    "collapsed": false
   },
   "outputs": [
    {
     "data": {
      "image/png": "[encoded data removed]",
      "text/latex": [
       "$$a x + x^{2} - y$$"
      ],
      "text/plain": [
       "       2    \n",
       "a⋅x + x  - y"
      ]
     },
     "execution_count": 10,
     "metadata": {},
     "output_type": "execute_result"
    }
   ],
   "source": [
    "valami=x**2 + a*x - y\n",
    "valami"
   ]
  },
  {
   "cell_type": "markdown",
   "metadata": {},
   "source": [
    "Tegyük most fel, hogy korábban az $y$-t az $x^3$ kifejezés helyettesítésére vezettük be, és most vissza akarjuk vezetni. Ekkor a `subs` metódus az alábbiak szerint alkalmazható:"
   ]
  },
  {
   "cell_type": "code",
   "execution_count": 11,
   "metadata": {
    "collapsed": false
   },
   "outputs": [
    {
     "data": {
      "image/png": "[encoded data removed]",
      "text/latex": [
       "$$a x - x^{3} + x^{2}$$"
      ],
      "text/plain": [
       "       3    2\n",
       "a⋅x - x  + x "
      ]
     },
     "execution_count": 11,
     "metadata": {},
     "output_type": "execute_result"
    }
   ],
   "source": [
    "valami.subs(y,x**3)"
   ]
  },
  {
   "cell_type": "markdown",
   "metadata": {},
   "source": [
    "A számítások végrehajtásának utolsó lépése, hogy numerikusan kiértékeljük az eredményeket. Ezt a `sympy`-ban az `evalf()` metódus segítségével tehetjük meg. Például:"
   ]
  },
  {
   "cell_type": "code",
   "execution_count": 12,
   "metadata": {
    "collapsed": true
   },
   "outputs": [],
   "source": [
    "ize=sqrt(8)"
   ]
  },
  {
   "cell_type": "code",
   "execution_count": 13,
   "metadata": {
    "collapsed": false
   },
   "outputs": [
    {
     "data": {
      "image/png": "[encoded data removed]",
      "text/latex": [
       "$$2.82842712474619$$"
      ],
      "text/plain": [
       "2.82842712474619"
      ]
     },
     "execution_count": 13,
     "metadata": {},
     "output_type": "execute_result"
    }
   ],
   "source": [
    "ize.evalf()"
   ]
  },
  {
   "cell_type": "markdown",
   "metadata": {},
   "source": [
    "Az `evalf` metódust egyetlen egész számú argumentummal meghívva tudjuk az eredmény elvárt numerikus precizióját befolyásolni:"
   ]
  },
  {
   "cell_type": "code",
   "execution_count": 14,
   "metadata": {
    "collapsed": false
   },
   "outputs": [
    {
     "data": {
      "image/png": "[encoded data removed]",
      "text/latex": [
       "$$2.828427124746190097603377448419396157139$$"
      ],
      "text/plain": [
       "2.828427124746190097603377448419396157139"
      ]
     },
     "execution_count": 14,
     "metadata": {},
     "output_type": "execute_result"
    }
   ],
   "source": [
    "ize.evalf(40)"
   ]
  },
  {
   "cell_type": "markdown",
   "metadata": {},
   "source": [
    "Ha a kifejezésünk több ismeretlent tartalmaz, akkor az `evalf`-nak a `subs` kulcsszavas arumentumába szótárszerűen felsorolhatjuk a kívánt numerikus behelyettesítési értékeket:"
   ]
  },
  {
   "cell_type": "code",
   "execution_count": 15,
   "metadata": {
    "collapsed": true
   },
   "outputs": [],
   "source": [
    "ize2=sin(2*x)+cos(y)"
   ]
  },
  {
   "cell_type": "code",
   "execution_count": 16,
   "metadata": {
    "collapsed": false
   },
   "outputs": [
    {
     "data": {
      "image/png": "[encoded data removed]",
      "text/latex": [
       "$$1.79680747393$$"
      ],
      "text/plain": [
       "1.79680747393"
      ]
     },
     "execution_count": 16,
     "metadata": {},
     "output_type": "execute_result"
    }
   ],
   "source": [
    "ize2.evalf(12,subs={x:0.5,y:0.3})"
   ]
  },
  {
   "cell_type": "markdown",
   "metadata": {},
   "source": [
    "## Függvényanalízis\n",
    "\n",
    "A `sympy` egyik legnagyobb előnye, hogy a `Python` nyelven belül lehetővé teszi egyszerűbb analízisbeli feladatok elvégzését. Alább a teljesség igénye nélkül összefoglalunk néhány egyszerű függvényt. Vizsgáljuk meg a következő két határértéket: $$\\lim_{x\\rightarrow 0}\\frac{\\sin x}{x}=? $$ illetve $$\\lim_{x\\rightarrow \\infty}\\frac{1}{1+\\mathrm{e}^{-x}}=? $$ A határértéket a `limit` függvény segítségével tudjuk meghatározni:"
   ]
  },
  {
   "cell_type": "code",
   "execution_count": 17,
   "metadata": {
    "collapsed": false
   },
   "outputs": [
    {
     "data": {
      "image/png": "[encoded data removed]",
      "text/latex": [
       "$$1$$"
      ],
      "text/plain": [
       "1"
      ]
     },
     "execution_count": 17,
     "metadata": {},
     "output_type": "execute_result"
    }
   ],
   "source": [
    "limit(sin(x)/x,x,0)# sin(x)/x határértéke az x=0 pontban."
   ]
  },
  {
   "cell_type": "markdown",
   "metadata": {},
   "source": [
    "Ha a végtelenben vagyunk kíváncsiak a határértékre, akkor azt az `oo`-szimbólummal tudjuk elérni!"
   ]
  },
  {
   "cell_type": "code",
   "execution_count": 18,
   "metadata": {
    "collapsed": false
   },
   "outputs": [
    {
     "data": {
      "image/png": "[encoded data removed]",
      "text/latex": [
       "$$1$$"
      ],
      "text/plain": [
       "1"
      ]
     },
     "execution_count": 18,
     "metadata": {},
     "output_type": "execute_result"
    }
   ],
   "source": [
    "limit(1/(1+exp(-x)),x,oo)"
   ]
  },
  {
   "cell_type": "markdown",
   "metadata": {},
   "source": [
    "Egy kifejezés deriváltjait a `diff` függvény segítségével tudjuk meghatározni. Például a $\\sin$ függvény első $x$-szerinti deriváltja:"
   ]
  },
  {
   "cell_type": "code",
   "execution_count": 19,
   "metadata": {
    "collapsed": false
   },
   "outputs": [
    {
     "data": {
      "image/png": "[encoded data removed]",
      "text/latex": [
       "$$\\cos{\\left (x \\right )}$$"
      ],
      "text/plain": [
       "cos(x)"
      ]
     },
     "execution_count": 19,
     "metadata": {},
     "output_type": "execute_result"
    }
   ],
   "source": [
    "diff(sin(x),x)"
   ]
  },
  {
   "cell_type": "markdown",
   "metadata": {},
   "source": [
    "A második deriváltat vagy így"
   ]
  },
  {
   "cell_type": "code",
   "execution_count": 20,
   "metadata": {
    "collapsed": false
   },
   "outputs": [
    {
     "data": {
      "image/png": "[encoded data removed]",
      "text/latex": [
       "$$- \\sin{\\left (x \\right )}$$"
      ],
      "text/plain": [
       "-sin(x)"
      ]
     },
     "execution_count": 20,
     "metadata": {},
     "output_type": "execute_result"
    }
   ],
   "source": [
    "diff(sin(x),x,x)"
   ]
  },
  {
   "cell_type": "markdown",
   "metadata": {},
   "source": [
    "vagy így, (talán egy kicsit átláthatóbban) írjuk."
   ]
  },
  {
   "cell_type": "code",
   "execution_count": 21,
   "metadata": {
    "collapsed": false
   },
   "outputs": [
    {
     "data": {
      "image/png": "[encoded data removed]",
      "text/latex": [
       "$$- \\sin{\\left (x \\right )}$$"
      ],
      "text/plain": [
       "-sin(x)"
      ]
     },
     "execution_count": 21,
     "metadata": {},
     "output_type": "execute_result"
    }
   ],
   "source": [
    "diff(sin(x),x,2)"
   ]
  },
  {
   "cell_type": "markdown",
   "metadata": {},
   "source": [
    "Természetesen parciális deriváltak elvégzésére is van mód:"
   ]
  },
  {
   "cell_type": "code",
   "execution_count": 22,
   "metadata": {
    "collapsed": false
   },
   "outputs": [
    {
     "data": {
      "image/png": "[encoded data removed]",
      "text/latex": [
       "$$- \\sin{\\left (y \\right )} \\cos{\\left (x \\right )}$$"
      ],
      "text/plain": [
       "-sin(y)⋅cos(x)"
      ]
     },
     "execution_count": 22,
     "metadata": {},
     "output_type": "execute_result"
    }
   ],
   "source": [
    "diff(sin(x)*cos(y),x,y)"
   ]
  },
  {
   "cell_type": "markdown",
   "metadata": {},
   "source": [
    "A magasabb rendű parciális deriváltak legyártása az egyszerű deriváltak általánosításán alapszik:"
   ]
  },
  {
   "cell_type": "code",
   "execution_count": 23,
   "metadata": {
    "collapsed": false
   },
   "outputs": [
    {
     "data": {
      "image/png": "[encoded data removed]",
      "text/latex": [
       "$$- \\sin{\\left (x \\right )} \\sin{\\left (y \\right )}$$"
      ],
      "text/plain": [
       "-sin(x)⋅sin(y)"
      ]
     },
     "execution_count": 23,
     "metadata": {},
     "output_type": "execute_result"
    }
   ],
   "source": [
    "diff(sin(x)*cos(y),x,2,y,3)"
   ]
  },
  {
   "cell_type": "markdown",
   "metadata": {},
   "source": [
    "Az `integrate` függvény segítségével határozott és határozattlan integrálokat tudunk elvégezni.  \n",
    "\n",
    "Határozzuk meg először az $x^2$ primitív függvényét:"
   ]
  },
  {
   "cell_type": "code",
   "execution_count": 24,
   "metadata": {
    "collapsed": false
   },
   "outputs": [
    {
     "data": {
      "image/png": "[encoded data removed]",
      "text/latex": [
       "$$\\frac{x^{3}}{3}$$"
      ],
      "text/plain": [
       " 3\n",
       "x \n",
       "──\n",
       "3 "
      ]
     },
     "execution_count": 24,
     "metadata": {},
     "output_type": "execute_result"
    }
   ],
   "source": [
    "integrate(x**2,x)"
   ]
  },
  {
   "cell_type": "markdown",
   "metadata": {},
   "source": [
    "Az\n",
    "$$\\int_0^3 x^2\\mathrm{d}x$$ határozott integrált pedig az alábbi módon értékelhetjük ki."
   ]
  },
  {
   "cell_type": "code",
   "execution_count": 25,
   "metadata": {
    "collapsed": false
   },
   "outputs": [
    {
     "data": {
      "image/png": "[encoded data removed]",
      "text/latex": [
       "$$9$$"
      ],
      "text/plain": [
       "9"
      ]
     },
     "execution_count": 25,
     "metadata": {},
     "output_type": "execute_result"
    }
   ],
   "source": [
    "integrate(x**2,(x,0,3))"
   ]
  },
  {
   "cell_type": "markdown",
   "metadata": {},
   "source": [
    "Természetesen az integrálás során szerepelhetnek a kifejezésben más paraméterek is:"
   ]
  },
  {
   "cell_type": "code",
   "execution_count": 26,
   "metadata": {
    "collapsed": false
   },
   "outputs": [
    {
     "data": {
      "image/png": "[encoded data removed]",
      "text/latex": [
       "$$3 y^{3} + 9$$"
      ],
      "text/plain": [
       "   3    \n",
       "3⋅y  + 9"
      ]
     },
     "execution_count": 26,
     "metadata": {},
     "output_type": "execute_result"
    }
   ],
   "source": [
    "integrate(x**2+y**3,(x,0,3))"
   ]
  },
  {
   "cell_type": "markdown",
   "metadata": {},
   "source": [
    "Többváltozós integrált egyszerűen a változók (és ha határozott integrálról van szó, akkor az integrálási határok) egymás után írásával értékelhetünk ki:"
   ]
  },
  {
   "cell_type": "markdown",
   "metadata": {},
   "source": [
    "A $$\\int x^2+y^3 \\mathrm{d}x\\mathrm{d}y $$ határozatlan integrál:"
   ]
  },
  {
   "cell_type": "code",
   "execution_count": 27,
   "metadata": {
    "collapsed": false
   },
   "outputs": [
    {
     "data": {
      "image/png": "[encoded data removed]",
      "text/latex": [
       "$$\\frac{x^{3} y}{3} + \\frac{x y^{4}}{4}$$"
      ],
      "text/plain": [
       " 3        4\n",
       "x ⋅y   x⋅y \n",
       "──── + ────\n",
       " 3      4  "
      ]
     },
     "execution_count": 27,
     "metadata": {},
     "output_type": "execute_result"
    }
   ],
   "source": [
    "integrate(x**2+y**3,x,y)"
   ]
  },
  {
   "cell_type": "markdown",
   "metadata": {},
   "source": [
    "A\n",
    "$$\\int_0^3\\int_{-3}^{5} x^2+y^3 \\mathrm{d}x\\mathrm{d}y $$ határozott integrál:"
   ]
  },
  {
   "cell_type": "code",
   "execution_count": 28,
   "metadata": {
    "collapsed": false
   },
   "outputs": [
    {
     "data": {
      "image/png": "[encoded data removed]",
      "text/latex": [
       "$$480$$"
      ],
      "text/plain": [
       "480"
      ]
     },
     "execution_count": 28,
     "metadata": {},
     "output_type": "execute_result"
    }
   ],
   "source": [
    "integrate(x**2+y**3,(x,0,3),(y,-3,5))"
   ]
  },
  {
   "cell_type": "markdown",
   "metadata": {},
   "source": [
    "## [Analitikus függvények ábrázolása](http://docs.sympy.org/latest/modules/plotting.html)\n",
    "\n",
    "A `sympy` modul segítségével a meghatározott analitikus függvényeket ábrázolni is tudjuk. Erre a sympy a már korábban megismert `matplotlib` csomag függvényeit használja, **DE** egy kicsit  **MÁST SZINTAKTIKÁT** követve! Az alapvető különbség a két csomag között, hogy míg a matplotlib szigorúan csak numerikus adatokat tud kezelni, a mintavételezésről és a függvény kiértékeléséről a felhasználó gondoskodik, addig a `sympy`-nak elég magát az analitikus kifelyezést megadni, és maga gondoskodik az ábrázolás létrehozásához szükséges numerikus értékeket tartalmazó struktúrák létrehozásáról.\n",
    "Az alábbiakban a `sympy` modul `plotting` almodulja segítségével síkbeli és térbeli analitikus görbék és alakzatok megjelenítésére látunk néhány példát:"
   ]
  },
  {
   "cell_type": "code",
   "execution_count": 29,
   "metadata": {
    "collapsed": true
   },
   "outputs": [],
   "source": [
    "from sympy.plotting import * # A modul betöltése"
   ]
  },
  {
   "cell_type": "markdown",
   "metadata": {},
   "source": [
    "Az `plot` függvény egyváltozós skalár kifejezések megjelenítését teszi lehetővé."
   ]
  },
  {
   "cell_type": "code",
   "execution_count": 30,
   "metadata": {
    "collapsed": false
   },
   "outputs": [
    {
     "data": {
      "image/png": "[encoded data removed]",
      "text/plain": [
       "<matplotlib.figure.Figure at 0x7fbcaf0f8320>"
      ]
     },
     "metadata": {},
     "output_type": "display_data"
    },
    {
     "data": {
      "text/plain": [
       "<sympy.plotting.plot.Plot at 0x7fbcae878128>"
      ]
     },
     "execution_count": 30,
     "metadata": {},
     "output_type": "execute_result"
    }
   ],
   "source": [
    "plot(1/(exp(x)+1),(x,-10,10))"
   ]
  },
  {
   "cell_type": "markdown",
   "metadata": {},
   "source": [
    "A `plot_parametric` síkbeli általános parametrikus görbék ábrázolására szolgál"
   ]
  },
  {
   "cell_type": "code",
   "execution_count": 31,
   "metadata": {
    "collapsed": false
   },
   "outputs": [
    {
     "data": {
      "image/png": "[encoded data removed]",
      "text/plain": [
       "<matplotlib.figure.Figure at 0x7fbcae8581d0>"
      ]
     },
     "metadata": {},
     "output_type": "display_data"
    },
    {
     "data": {
      "text/plain": [
       "<sympy.plotting.plot.Plot at 0x7fbcaea3edd8>"
      ]
     },
     "execution_count": 31,
     "metadata": {},
     "output_type": "execute_result"
    }
   ],
   "source": [
    "plot_parametric(sin(x),cos(x),(x,0,2*pi))"
   ]
  },
  {
   "cell_type": "markdown",
   "metadata": {},
   "source": [
    "Térbeli görbék a `plot3d_parametric_line` függvénnyel jeleníthetők meg."
   ]
  },
  {
   "cell_type": "code",
   "execution_count": 32,
   "metadata": {
    "collapsed": false
   },
   "outputs": [
    {
     "data": {
      "image/png": "[encoded data removed]",
      "text/plain": [
       "<matplotlib.figure.Figure at 0x7fbcaea2fc88>"
      ]
     },
     "metadata": {},
     "output_type": "display_data"
    },
    {
     "data": {
      "text/plain": [
       "<sympy.plotting.plot.Plot at 0x7fbcaeaec908>"
      ]
     },
     "execution_count": 32,
     "metadata": {},
     "output_type": "execute_result"
    }
   ],
   "source": [
    "plot3d_parametric_line(cos(3*x),sin(3*x),x,(x,0,2*pi))"
   ]
  },
  {
   "cell_type": "markdown",
   "metadata": {},
   "source": [
    "Térbeli felületek a ábrázolására a `plot3d` és `plot3d_parametric_surface` függvények szolgálnak:"
   ]
  },
  {
   "cell_type": "code",
   "execution_count": 33,
   "metadata": {
    "collapsed": false
   },
   "outputs": [
    {
     "data": {
      "image/png": "[encoded data removed]",
      "text/plain": [
       "<matplotlib.figure.Figure at 0x7fbcae92c160>"
      ]
     },
     "metadata": {},
     "output_type": "display_data"
    },
    {
     "data": {
      "text/plain": [
       "<sympy.plotting.plot.Plot at 0x7fbcae92cb70>"
      ]
     },
     "execution_count": 33,
     "metadata": {},
     "output_type": "execute_result"
    }
   ],
   "source": [
    "plot3d(sin(x)*cos(y),(x,-pi,pi),(y,-pi,pi))"
   ]
  },
  {
   "cell_type": "code",
   "execution_count": 34,
   "metadata": {
    "collapsed": true
   },
   "outputs": [],
   "source": [
    " u, v = symbols('u v')"
   ]
  },
  {
   "cell_type": "code",
   "execution_count": 35,
   "metadata": {
    "collapsed": false
   },
   "outputs": [
    {
     "data": {
      "image/png": "[encoded data removed]",
      "text/plain": [
       "<matplotlib.figure.Figure at 0x7fbcae7f4550>"
      ]
     },
     "metadata": {},
     "output_type": "display_data"
    },
    {
     "data": {
      "text/plain": [
       "<sympy.plotting.plot.Plot at 0x7fbcae7f4518>"
      ]
     },
     "execution_count": 35,
     "metadata": {},
     "output_type": "execute_result"
    }
   ],
   "source": [
    "plot3d_parametric_surface(sin(v)*cos(u),sin(v)*sin(u),cos(v), (u, 0, 2*pi), (v, 0, pi))"
   ]
  },
  {
   "cell_type": "markdown",
   "metadata": {},
   "source": [
    "## Egyszerűsítés\n",
    "\n",
    "A sympy csomag [számos](http://docs.sympy.org/latest/tutorial/simplification.html) szimbolikus kifejezések egyszerűűb alakra hozását elősegítő metódussal rendelkezik. Az alábbiakban tekintsük át ezek közül a legegyszerűbbeket!"
   ]
  },
  {
   "cell_type": "markdown",
   "metadata": {},
   "source": [
    "### Általános eset, a `simplify` fügvény\n",
    "\n",
    "A legáltalánosabb egyszerűsítő függvény a `simplify`, mely különösebb specifikációk nélkül arra törekszik, hogy a hasában szereplő kifejezést a lehető legtömörebb alakra hozza. Lássunk erre néhány példát:"
   ]
  },
  {
   "cell_type": "code",
   "execution_count": 36,
   "metadata": {
    "collapsed": false
   },
   "outputs": [
    {
     "data": {
      "image/png": "[encoded data removed]",
      "text/latex": [
       "$$1$$"
      ],
      "text/plain": [
       "1"
      ]
     },
     "execution_count": 36,
     "metadata": {},
     "output_type": "execute_result"
    }
   ],
   "source": [
    "simplify(sin(x)**2 + cos(x)**2)"
   ]
  },
  {
   "cell_type": "code",
   "execution_count": 37,
   "metadata": {
    "collapsed": false
   },
   "outputs": [
    {
     "data": {
      "image/png": "[encoded data removed]",
      "text/latex": [
       "$$x - 1$$"
      ],
      "text/plain": [
       "x - 1"
      ]
     },
     "execution_count": 37,
     "metadata": {},
     "output_type": "execute_result"
    }
   ],
   "source": [
    "simplify((x**3 + x**2 - x - 1)/(x**2 + 2*x + 1))"
   ]
  },
  {
   "cell_type": "markdown",
   "metadata": {},
   "source": [
    "Láttuk, hogy a fenti két példában valóban tömörebbre sikerült hozni egy-egy bonyolultabb kifejezést, lássunk egy ellenpéldát is! A `simplify` az alábbi, talán sokak számára könnyen egyszerűsíthető kifejezést nem egyszerűsíti tovább:"
   ]
  },
  {
   "cell_type": "code",
   "execution_count": 38,
   "metadata": {
    "collapsed": false
   },
   "outputs": [
    {
     "data": {
      "image/png": "[encoded data removed]",
      "text/latex": [
       "$$x^{2} + 2 x + 1$$"
      ],
      "text/plain": [
       " 2          \n",
       "x  + 2⋅x + 1"
      ]
     },
     "execution_count": 38,
     "metadata": {},
     "output_type": "execute_result"
    }
   ],
   "source": [
    "simplify(x**2 + 2*x +1)"
   ]
  },
  {
   "cell_type": "markdown",
   "metadata": {},
   "source": [
    "A fenti jelenség oka az, hogy algoritmikusan nehéz jól definiálni az 'egyszerűsítés' fogalmát. Ha kicsit jobban kifejtjük hogy milyen egyszerűsítésre gondolunk, akkor már könnyebb dolga van a `sympy`-nak is. Az alábbiakban megismerkedünk néhány olyan függvénnyel, ami kifejezések specifikus egyszerűsítésére vagy éppen kibontására ad lehetőséget."
   ]
  },
  {
   "cell_type": "markdown",
   "metadata": {},
   "source": [
    "### Polinomiális és racionális kifejezések"
   ]
  },
  {
   "cell_type": "markdown",
   "metadata": {},
   "source": [
    "Az `expand()` függvény segítségével legegyszerűbb esetben polinomiális kifejezéseket bonthatunk ki:"
   ]
  },
  {
   "cell_type": "code",
   "execution_count": 39,
   "metadata": {
    "collapsed": false
   },
   "outputs": [
    {
     "data": {
      "image/png": "[encoded data removed]",
      "text/latex": [
       "$$x^{3} + 3 x^{2} y + 3 x y^{2} + y^{3}$$"
      ],
      "text/plain": [
       " 3      2          2    3\n",
       "x  + 3⋅x ⋅y + 3⋅x⋅y  + y "
      ]
     },
     "execution_count": 39,
     "metadata": {},
     "output_type": "execute_result"
    }
   ],
   "source": [
    "expand((x+y)**3)"
   ]
  },
  {
   "cell_type": "markdown",
   "metadata": {},
   "source": [
    "A `factor()`  függvény talán egy kicsit az `expand()` függvény ellenkezője. A `factor` függvény a kapott kifejezést a lehető legtömörebb szorzatalakba próbálja hozni. Így például a `simplify` által nem egyszerűsített kifejezés a `factor()` segítségével:"
   ]
  },
  {
   "cell_type": "code",
   "execution_count": 40,
   "metadata": {
    "collapsed": false
   },
   "outputs": [
    {
     "data": {
      "image/png": "[encoded data removed]",
      "text/latex": [
       "$$\\left(x + 1\\right)^{2}$$"
      ],
      "text/plain": [
       "       2\n",
       "(x + 1) "
      ]
     },
     "execution_count": 40,
     "metadata": {},
     "output_type": "execute_result"
    }
   ],
   "source": [
    "factor(x**2 + 2*x +1)"
   ]
  },
  {
   "cell_type": "markdown",
   "metadata": {},
   "source": [
    "a várt egyszerűbb alakra alakul. "
   ]
  },
  {
   "cell_type": "markdown",
   "metadata": {},
   "source": [
    "Általánosabb többváltozós polinomiális kifejezések manipulálása során előfordul, hogy egy bizonyos változó szerint szeretnénk a polinomot rendezni. Erre való a `collect()` függvény. Lássunk erre is egy példát:"
   ]
  },
  {
   "cell_type": "code",
   "execution_count": 41,
   "metadata": {
    "collapsed": true
   },
   "outputs": [],
   "source": [
    "kifejezes=x*y + x - 3 + 2*x**2 - z*x**2 + x**3"
   ]
  },
  {
   "cell_type": "code",
   "execution_count": 42,
   "metadata": {
    "collapsed": false
   },
   "outputs": [
    {
     "data": {
      "image/png": "[encoded data removed]",
      "text/latex": [
       "$$x^{3} + x^{2} \\left(- z + 2\\right) + x \\left(y + 1\\right) - 3$$"
      ],
      "text/plain": [
       " 3    2                         \n",
       "x  + x ⋅(-z + 2) + x⋅(y + 1) - 3"
      ]
     },
     "execution_count": 42,
     "metadata": {},
     "output_type": "execute_result"
    }
   ],
   "source": [
    "collect(kifejezes,x)"
   ]
  },
  {
   "cell_type": "code",
   "execution_count": 43,
   "metadata": {
    "collapsed": false
   },
   "outputs": [],
   "source": [
    "xek=collect(kifejezes,x)"
   ]
  },
  {
   "cell_type": "markdown",
   "metadata": {},
   "source": [
    "A `coeff()`  metódussal pedig megkaphatjuk a polinom megfelelő hatványkitevőihez tartozó együtthatókat:"
   ]
  },
  {
   "cell_type": "code",
   "execution_count": 44,
   "metadata": {
    "collapsed": false
   },
   "outputs": [
    {
     "data": {
      "image/png": "[encoded data removed]",
      "text/latex": [
       "$$- z + 2$$"
      ],
      "text/plain": [
       "-z + 2"
      ]
     },
     "execution_count": 44,
     "metadata": {},
     "output_type": "execute_result"
    }
   ],
   "source": [
    "xek.coeff(x,2)"
   ]
  },
  {
   "cell_type": "markdown",
   "metadata": {},
   "source": [
    "A `cancel()` függvény racionális (polinom/polinom) kifejezések egyszerűsítésére szolgál:"
   ]
  },
  {
   "cell_type": "code",
   "execution_count": 45,
   "metadata": {
    "collapsed": false
   },
   "outputs": [
    {
     "data": {
      "image/png": "[encoded data removed]",
      "text/latex": [
       "$$\\frac{1}{x - 1} \\left(y^{2} - 2 y z + z^{2}\\right)$$"
      ],
      "text/plain": [
       " 2            2\n",
       "y  - 2⋅y⋅z + z \n",
       "───────────────\n",
       "     x - 1     "
      ]
     },
     "execution_count": 45,
     "metadata": {},
     "output_type": "execute_result"
    }
   ],
   "source": [
    "cancel((x*y**2 - 2*x*y*z + x*z**2 + y**2 - 2*y*z + z**2)/(x**2 - 1))"
   ]
  },
  {
   "cell_type": "markdown",
   "metadata": {},
   "source": [
    "Az `apart()` a [parciális törtekre](http://en.wikipedia.org/wiki/Partial_fraction_decomposition) bontást végző függvény:"
   ]
  },
  {
   "cell_type": "code",
   "execution_count": 46,
   "metadata": {
    "collapsed": false
   },
   "outputs": [
    {
     "data": {
      "image/png": "[encoded data removed]",
      "text/latex": [
       "$$\\frac{4 x^{3} + 21 x^{2} + 10 x + 12}{x^{4} + 5 x^{3} + 5 x^{2} + 4 x}$$"
      ],
      "text/plain": [
       "   3       2            \n",
       "4⋅x  + 21⋅x  + 10⋅x + 12\n",
       "────────────────────────\n",
       "  4      3      2       \n",
       " x  + 5⋅x  + 5⋅x  + 4⋅x "
      ]
     },
     "execution_count": 46,
     "metadata": {},
     "output_type": "execute_result"
    }
   ],
   "source": [
    "expr = (4*x**3 + 21*x**2 + 10*x + 12)/(x**4 + 5*x**3 + 5*x**2 + 4*x)\n",
    "expr"
   ]
  },
  {
   "cell_type": "code",
   "execution_count": 47,
   "metadata": {
    "collapsed": false
   },
   "outputs": [
    {
     "data": {
      "image/png": "[encoded data removed]",
      "text/latex": [
       "$$\\frac{2 x - 1}{x^{2} + x + 1} - \\frac{1}{x + 4} + \\frac{3}{x}$$"
      ],
      "text/plain": [
       " 2⋅x - 1       1     3\n",
       "────────── - ───── + ─\n",
       " 2           x + 4   x\n",
       "x  + x + 1            "
      ]
     },
     "execution_count": 47,
     "metadata": {},
     "output_type": "execute_result"
    }
   ],
   "source": [
    "apart(expr)"
   ]
  },
  {
   "cell_type": "markdown",
   "metadata": {},
   "source": [
    "### Trigonometrikus függvényeket tartalmazó kifejezések\n",
    "\n",
    "Trigonometrikus függvényeket tartalmazó kifejezések kezelésére két metódus szolgál: "
   ]
  },
  {
   "cell_type": "markdown",
   "metadata": {},
   "source": [
    "A `trigsimp()` trigonometrikus azonosságokat figyelembe véve a lehető legtömörebb kifejezés előállítására törekszik:"
   ]
  },
  {
   "cell_type": "code",
   "execution_count": 48,
   "metadata": {
    "collapsed": false
   },
   "outputs": [
    {
     "data": {
      "image/png": "[encoded data removed]",
      "text/latex": [
       "$$\\sin^{4}{\\left (x \\right )} - 2 \\sin^{2}{\\left (x \\right )} \\cos^{2}{\\left (x \\right )} + \\cos^{4}{\\left (x \\right )}$$"
      ],
      "text/plain": [
       "   4           2       2         4   \n",
       "sin (x) - 2⋅sin (x)⋅cos (x) + cos (x)"
      ]
     },
     "execution_count": 48,
     "metadata": {},
     "output_type": "execute_result"
    }
   ],
   "source": [
    "expr=sin(x)**4 - 2*cos(x)**2*sin(x)**2 + cos(x)**4\n",
    "expr"
   ]
  },
  {
   "cell_type": "code",
   "execution_count": 49,
   "metadata": {
    "collapsed": false
   },
   "outputs": [
    {
     "data": {
      "image/png": "[encoded data removed]",
      "text/latex": [
       "$$\\frac{1}{2} \\cos{\\left (4 x \\right )} + \\frac{1}{2}$$"
      ],
      "text/plain": [
       "cos(4⋅x)   1\n",
       "──────── + ─\n",
       "   2       2"
      ]
     },
     "execution_count": 49,
     "metadata": {},
     "output_type": "execute_result"
    }
   ],
   "source": [
    "trigsimp(expr)"
   ]
  },
  {
   "cell_type": "markdown",
   "metadata": {},
   "source": [
    "A `expand_trig()` függvény pedig olyan formulákká alakítja a trigonometrikus függvényeket tartalmazó kifejezéseket melyek argumentumai a lehető legegyszerűbbek... cserébe természetesen a végeredmény hosszabb lesz."
   ]
  },
  {
   "cell_type": "code",
   "execution_count": 50,
   "metadata": {
    "collapsed": false
   },
   "outputs": [
    {
     "data": {
      "image/png": "[encoded data removed]",
      "text/latex": [
       "$$8 \\cos^{4}{\\left (x \\right )} - 8 \\cos^{2}{\\left (x \\right )} + 1$$"
      ],
      "text/plain": [
       "     4           2       \n",
       "8⋅cos (x) - 8⋅cos (x) + 1"
      ]
     },
     "execution_count": 50,
     "metadata": {},
     "output_type": "execute_result"
    }
   ],
   "source": [
    "expand_trig(cos(4*x))"
   ]
  },
  {
   "cell_type": "markdown",
   "metadata": {},
   "source": [
    "### Rewrite \n",
    "\n",
    "A `rewrite` metódus a `sympy` kifejezések általánosabb átírását teszi lehetővé. \n",
    "Alkalmazható például trigonometrikus kifejezések boncolgatására:"
   ]
  },
  {
   "cell_type": "code",
   "execution_count": 51,
   "metadata": {
    "collapsed": false
   },
   "outputs": [
    {
     "data": {
      "image/png": "[encoded data removed]",
      "text/latex": [
       "$$\\frac{2 \\sin^{2}{\\left (x \\right )}}{\\sin{\\left (2 x \\right )}}$$"
      ],
      "text/plain": [
       "     2   \n",
       "2⋅sin (x)\n",
       "─────────\n",
       " sin(2⋅x)"
      ]
     },
     "execution_count": 51,
     "metadata": {},
     "output_type": "execute_result"
    }
   ],
   "source": [
    "tan(x).rewrite(sin)"
   ]
  },
  {
   "cell_type": "markdown",
   "metadata": {},
   "source": [
    "vagy trigonometrikus és exponenciális függvényeket tartalmazó kifejezések egymásba alakítására:"
   ]
  },
  {
   "cell_type": "code",
   "execution_count": 52,
   "metadata": {
    "collapsed": false
   },
   "outputs": [
    {
     "data": {
      "image/png": "[encoded data removed]",
      "text/latex": [
       "$$- \\frac{i}{2} \\left(e^{i x} - e^{- i x}\\right)$$"
      ],
      "text/plain": [
       "   ⎛ ⅈ⋅x    -ⅈ⋅x⎞ \n",
       "-ⅈ⋅⎝ℯ    - ℯ    ⎠ \n",
       "──────────────────\n",
       "        2         "
      ]
     },
     "execution_count": 52,
     "metadata": {},
     "output_type": "execute_result"
    }
   ],
   "source": [
    "sin(x).rewrite(exp)"
   ]
  },
  {
   "cell_type": "markdown",
   "metadata": {},
   "source": [
    "de más a `sympy` -ban implementált függvény azonosságokat kihasználó formulamanipulációra is:"
   ]
  },
  {
   "cell_type": "code",
   "execution_count": 53,
   "metadata": {
    "collapsed": false
   },
   "outputs": [
    {
     "data": {
      "image/png": "[encoded data removed]",
      "text/latex": [
       "$$\\Gamma{\\left(x + 1 \\right)}$$"
      ],
      "text/plain": [
       "Γ(x + 1)"
      ]
     },
     "execution_count": 53,
     "metadata": {},
     "output_type": "execute_result"
    }
   ],
   "source": [
    "factorial(x).rewrite(gamma) # a faktoriális és a gamma függvény kapcsolata"
   ]
  },
  {
   "cell_type": "code",
   "execution_count": 54,
   "metadata": {
    "collapsed": false
   },
   "outputs": [
    {
     "data": {
      "image/png": "[encoded data removed]",
      "text/latex": [
       "$$\\frac{x!}{y! \\left(x - y\\right)!}$$"
      ],
      "text/plain": [
       "     x!    \n",
       "───────────\n",
       "y!⋅(x - y)!"
      ]
     },
     "execution_count": 54,
     "metadata": {},
     "output_type": "execute_result"
    }
   ],
   "source": [
    "binomial(x,y).rewrite(factorial) # a binomiális eggyütthatók és a faktoriális kapcsolata"
   ]
  },
  {
   "cell_type": "markdown",
   "metadata": {},
   "source": [
    "A fentiekben a `sympy` formula manipulációs képességeit csak nagyon felületesen vizsgáltuk meg. Bővebb információért érdemes a megfelelő függvények dokumentációit, illetve magát a `sympy` [documentációt](http://docs.sympy.org/latest/index.html) böngészni!"
   ]
  },
  {
   "cell_type": "markdown",
   "metadata": {},
   "source": [
    "## Analitikus Lineáris algebra\n",
    "\n",
    "A `sympy` segítségével paraméteres lineáris algebrai problémákat is megoldhatunk. Ilyen problámák kezelésére a `sympy` modul a  `Matrix` osztályt vezeti be. **Figyelem**, nem összekeverendő ez a modul a `numpy` numerikus `matrix`, illetve `array` osztályaival**!**\n",
    "Az alábbiakban egy pár példán keresztül illusztráljuk a szimbolikus mátrixok létrehozását és a rajtuk végrehajtható műveletek viselkedését. \n",
    "Hozzunk létre két egyszerű 2x2-es mátrixot! "
   ]
  },
  {
   "cell_type": "code",
   "execution_count": 55,
   "metadata": {
    "collapsed": false
   },
   "outputs": [
    {
     "data": {
      "text/latex": [
       "$$\\left[\\begin{matrix}0 & - x e^{i y}\\\\- x e^{- i y} & 0\\end{matrix}\\right]$$"
      ],
      "text/plain": [
       "⎡              ⅈ⋅y⎤\n",
       "⎢   0      -x⋅ℯ   ⎥\n",
       "⎢                 ⎥\n",
       "⎢    -ⅈ⋅y         ⎥\n",
       "⎣-x⋅ℯ         0   ⎦"
      ]
     },
     "execution_count": 55,
     "metadata": {},
     "output_type": "execute_result"
    }
   ],
   "source": [
    "M=Matrix([[0, -x*exp(I*y)],\n",
    "          [-x*exp(-I*y), 0]])\n",
    "M"
   ]
  },
  {
   "cell_type": "code",
   "execution_count": 56,
   "metadata": {
    "collapsed": false
   },
   "outputs": [
    {
     "data": {
      "text/latex": [
       "$$\\left[\\begin{matrix}1 & 2\\\\4 & 5\\end{matrix}\\right]$$"
      ],
      "text/plain": [
       "⎡1  2⎤\n",
       "⎢    ⎥\n",
       "⎣4  5⎦"
      ]
     },
     "execution_count": 56,
     "metadata": {},
     "output_type": "execute_result"
    }
   ],
   "source": [
    "B=Matrix([[1,2],\n",
    "          [4,5]])\n",
    "B"
   ]
  },
  {
   "cell_type": "markdown",
   "metadata": {},
   "source": [
    "Figyeljük meg, hogy az `M` mátrix elemei maguk is tartalmaznak `sympy` változókat, míg a `B` mátrix csak numerikus értékeket tartalmaz. \n",
    "A két mátrix a várható módon viselkedik, például össze tudjuk őket adni:"
   ]
  },
  {
   "cell_type": "code",
   "execution_count": 57,
   "metadata": {
    "collapsed": false
   },
   "outputs": [
    {
     "data": {
      "text/latex": [
       "$$\\left[\\begin{matrix}1 & - x e^{i y} + 2\\\\- x e^{- i y} + 4 & 5\\end{matrix}\\right]$$"
      ],
      "text/plain": [
       "⎡                    ⅈ⋅y    ⎤\n",
       "⎢      1        - x⋅ℯ    + 2⎥\n",
       "⎢                           ⎥\n",
       "⎢     -ⅈ⋅y                  ⎥\n",
       "⎣- x⋅ℯ     + 4       5      ⎦"
      ]
     },
     "execution_count": 57,
     "metadata": {},
     "output_type": "execute_result"
    }
   ],
   "source": [
    "M+B"
   ]
  },
  {
   "cell_type": "markdown",
   "metadata": {},
   "source": [
    "vagy össze tudjuk őket szorozni:"
   ]
  },
  {
   "cell_type": "code",
   "execution_count": 58,
   "metadata": {
    "collapsed": false
   },
   "outputs": [
    {
     "data": {
      "text/latex": [
       "$$\\left[\\begin{matrix}- 4 x e^{i y} & - 5 x e^{i y}\\\\- x e^{- i y} & - 2 x e^{- i y}\\end{matrix}\\right]$$"
      ],
      "text/plain": [
       "⎡      ⅈ⋅y        ⅈ⋅y ⎤\n",
       "⎢-4⋅x⋅ℯ     -5⋅x⋅ℯ    ⎥\n",
       "⎢                     ⎥\n",
       "⎢    -ⅈ⋅y         -ⅈ⋅y⎥\n",
       "⎣-x⋅ℯ       -2⋅x⋅ℯ    ⎦"
      ]
     },
     "execution_count": 58,
     "metadata": {},
     "output_type": "execute_result"
    }
   ],
   "source": [
    "M*B"
   ]
  },
  {
   "cell_type": "markdown",
   "metadata": {},
   "source": [
    "Természetesen a szorzás eredménye függ a sorrendtől!"
   ]
  },
  {
   "cell_type": "code",
   "execution_count": 59,
   "metadata": {
    "collapsed": false
   },
   "outputs": [
    {
     "data": {
      "text/latex": [
       "$$\\left[\\begin{matrix}- 2 x e^{- i y} & - x e^{i y}\\\\- 5 x e^{- i y} & - 4 x e^{i y}\\end{matrix}\\right]$$"
      ],
      "text/plain": [
       "⎡      -ⅈ⋅y       ⅈ⋅y ⎤\n",
       "⎢-2⋅x⋅ℯ       -x⋅ℯ    ⎥\n",
       "⎢                     ⎥\n",
       "⎢      -ⅈ⋅y        ⅈ⋅y⎥\n",
       "⎣-5⋅x⋅ℯ      -4⋅x⋅ℯ   ⎦"
      ]
     },
     "execution_count": 59,
     "metadata": {},
     "output_type": "execute_result"
    }
   ],
   "source": [
    "B*M"
   ]
  },
  {
   "cell_type": "markdown",
   "metadata": {},
   "source": [
    "Mátrixokra a hatványozás művelet nem elemenként, hanem mátrixhatványozásként hat!"
   ]
  },
  {
   "cell_type": "code",
   "execution_count": 60,
   "metadata": {
    "collapsed": false
   },
   "outputs": [
    {
     "data": {
      "text/latex": [
       "$$\\left[\\begin{matrix}x^{2} & 0\\\\0 & x^{2}\\end{matrix}\\right]$$"
      ],
      "text/plain": [
       "⎡ 2    ⎤\n",
       "⎢x   0 ⎥\n",
       "⎢      ⎥\n",
       "⎢     2⎥\n",
       "⎣0   x ⎦"
      ]
     },
     "execution_count": 60,
     "metadata": {},
     "output_type": "execute_result"
    }
   ],
   "source": [
    "M**2"
   ]
  },
  {
   "cell_type": "markdown",
   "metadata": {},
   "source": [
    "Mátrix inverzét is meg tudjuk határozni a `**`-operátorral:"
   ]
  },
  {
   "cell_type": "code",
   "execution_count": 61,
   "metadata": {
    "collapsed": false
   },
   "outputs": [
    {
     "data": {
      "text/latex": [
       "$$\\left[\\begin{matrix}- \\frac{5}{3} & \\frac{2}{3}\\\\\\frac{4}{3} & - \\frac{1}{3}\\end{matrix}\\right]$$"
      ],
      "text/plain": [
       "⎡-5/3  2/3 ⎤\n",
       "⎢          ⎥\n",
       "⎣4/3   -1/3⎦"
      ]
     },
     "execution_count": 61,
     "metadata": {},
     "output_type": "execute_result"
    }
   ],
   "source": [
    "B**(-1)"
   ]
  },
  {
   "cell_type": "markdown",
   "metadata": {},
   "source": [
    "Létezik néhány függvény, ami a mátrixok létrehozását szolgálja. Az `eye()` tetszőleges méretű egységmátrixot hoz létre:"
   ]
  },
  {
   "cell_type": "code",
   "execution_count": 62,
   "metadata": {
    "collapsed": false
   },
   "outputs": [
    {
     "data": {
      "text/latex": [
       "$$\\left[\\begin{matrix}1 & 0 & 0\\\\0 & 1 & 0\\\\0 & 0 & 1\\end{matrix}\\right]$$"
      ],
      "text/plain": [
       "⎡1  0  0⎤\n",
       "⎢       ⎥\n",
       "⎢0  1  0⎥\n",
       "⎢       ⎥\n",
       "⎣0  0  1⎦"
      ]
     },
     "execution_count": 62,
     "metadata": {},
     "output_type": "execute_result"
    }
   ],
   "source": [
    "eye(3)"
   ]
  },
  {
   "cell_type": "markdown",
   "metadata": {},
   "source": [
    "A `diag()` függvény diagonális struktúrájú mátrixok gyártására való:"
   ]
  },
  {
   "cell_type": "code",
   "execution_count": 63,
   "metadata": {
    "collapsed": false
   },
   "outputs": [
    {
     "data": {
      "text/latex": [
       "$$\\left[\\begin{matrix}\\sin{\\left (x \\right )} & 0 & 0\\\\0 & y & 0\\\\0 & 0 & z\\end{matrix}\\right]$$"
      ],
      "text/plain": [
       "⎡sin(x)  0  0⎤\n",
       "⎢            ⎥\n",
       "⎢  0     y  0⎥\n",
       "⎢            ⎥\n",
       "⎣  0     0  z⎦"
      ]
     },
     "execution_count": 63,
     "metadata": {},
     "output_type": "execute_result"
    }
   ],
   "source": [
    "diag(sin(x),y,z)"
   ]
  },
  {
   "cell_type": "markdown",
   "metadata": {},
   "source": [
    "Ahhoz, hogy néhány alapvető lineáris algebrai feladatot meg tudjunk oldani, szükség lesz oszlop- illetve sorvektorokra is. Ezeket is le tudjuk gyártani a `Matrix` osztály segítségével:"
   ]
  },
  {
   "cell_type": "code",
   "execution_count": 64,
   "metadata": {
    "collapsed": false
   },
   "outputs": [
    {
     "data": {
      "text/latex": [
       "$$\\left[\\begin{matrix}1 & 2\\end{matrix}\\right]$$"
      ],
      "text/plain": [
       "[1  2]"
      ]
     },
     "execution_count": 64,
     "metadata": {},
     "output_type": "execute_result"
    }
   ],
   "source": [
    "v=Matrix([[1,2]])\n",
    "v"
   ]
  },
  {
   "cell_type": "code",
   "execution_count": 65,
   "metadata": {
    "collapsed": false
   },
   "outputs": [
    {
     "data": {
      "text/latex": [
       "$$\\left[\\begin{matrix}1\\\\2\\end{matrix}\\right]$$"
      ],
      "text/plain": [
       "⎡1⎤\n",
       "⎢ ⎥\n",
       "⎣2⎦"
      ]
     },
     "execution_count": 65,
     "metadata": {},
     "output_type": "execute_result"
    }
   ],
   "source": [
    "w=Matrix([[1],[2]])\n",
    "w"
   ]
  },
  {
   "cell_type": "markdown",
   "metadata": {},
   "source": [
    "A mátrix-vektor szorzás a már megszokott módon történik:"
   ]
  },
  {
   "cell_type": "code",
   "execution_count": 66,
   "metadata": {
    "collapsed": false
   },
   "outputs": [
    {
     "data": {
      "text/latex": [
       "$$\\left[\\begin{matrix}5\\\\14\\end{matrix}\\right]$$"
      ],
      "text/plain": [
       "⎡5 ⎤\n",
       "⎢  ⎥\n",
       "⎣14⎦"
      ]
     },
     "execution_count": 66,
     "metadata": {},
     "output_type": "execute_result"
    }
   ],
   "source": [
    "B*w"
   ]
  },
  {
   "cell_type": "code",
   "execution_count": 67,
   "metadata": {
    "collapsed": false
   },
   "outputs": [
    {
     "data": {
      "text/latex": [
       "$$\\left[\\begin{matrix}9 & 12\\end{matrix}\\right]$$"
      ],
      "text/plain": [
       "[9  12]"
      ]
     },
     "execution_count": 67,
     "metadata": {},
     "output_type": "execute_result"
    }
   ],
   "source": [
    "v*B"
   ]
  },
  {
   "cell_type": "markdown",
   "metadata": {},
   "source": [
    "Mátrixokkal és vektorokkal megadott lineáris egyenletrendszerek megoldására kínál lehetőséget a `Matrix` osztály `solve()` metódusa. Például a fent definiált `B` és `w` változók által meghatározott $$Bx=w$$ lineáris problémát az alábbi módon oldhatjuk meg:"
   ]
  },
  {
   "cell_type": "code",
   "execution_count": 68,
   "metadata": {
    "collapsed": false
   },
   "outputs": [
    {
     "data": {
      "text/latex": [
       "$$\\left[\\begin{matrix}- \\frac{1}{3}\\\\\\frac{2}{3}\\end{matrix}\\right]$$"
      ],
      "text/plain": [
       "⎡-1/3⎤\n",
       "⎢    ⎥\n",
       "⎣2/3 ⎦"
      ]
     },
     "execution_count": 68,
     "metadata": {},
     "output_type": "execute_result"
    }
   ],
   "source": [
    "B.solve(w)"
   ]
  },
  {
   "cell_type": "markdown",
   "metadata": {},
   "source": [
    "Egy mátrix determinánsa a `det`, a nyoma a `trace` metódussal számítható:"
   ]
  },
  {
   "cell_type": "code",
   "execution_count": 69,
   "metadata": {
    "collapsed": false
   },
   "outputs": [
    {
     "data": {
      "image/png": "[encoded data removed]",
      "text/latex": [
       "$$- x^{2}$$"
      ],
      "text/plain": [
       "  2\n",
       "-x "
      ]
     },
     "execution_count": 69,
     "metadata": {},
     "output_type": "execute_result"
    }
   ],
   "source": [
    "M.det()"
   ]
  },
  {
   "cell_type": "code",
   "execution_count": 70,
   "metadata": {
    "collapsed": false
   },
   "outputs": [
    {
     "data": {
      "image/png": "[encoded data removed]",
      "text/latex": [
       "$$6$$"
      ],
      "text/plain": [
       "6"
      ]
     },
     "execution_count": 70,
     "metadata": {},
     "output_type": "execute_result"
    }
   ],
   "source": [
    "B.trace()"
   ]
  },
  {
   "cell_type": "markdown",
   "metadata": {},
   "source": [
    "A mátrix transzponáltja, illetve adjungáltja a `.T`, illetve `.H` konstrukcióval érhető el:"
   ]
  },
  {
   "cell_type": "code",
   "execution_count": 71,
   "metadata": {
    "collapsed": false
   },
   "outputs": [
    {
     "data": {
      "text/latex": [
       "$$\\left[\\begin{matrix}0 & - x e^{- i y}\\\\- x e^{i y} & 0\\end{matrix}\\right]$$"
      ],
      "text/plain": [
       "⎡             -ⅈ⋅y⎤\n",
       "⎢   0     -x⋅ℯ    ⎥\n",
       "⎢                 ⎥\n",
       "⎢    ⅈ⋅y          ⎥\n",
       "⎣-x⋅ℯ        0    ⎦"
      ]
     },
     "execution_count": 71,
     "metadata": {},
     "output_type": "execute_result"
    }
   ],
   "source": [
    "M.T"
   ]
  },
  {
   "cell_type": "code",
   "execution_count": 72,
   "metadata": {
    "collapsed": false
   },
   "outputs": [
    {
     "data": {
      "text/latex": [
       "$$\\left[\\begin{matrix}0 & - e^{i \\overline{y}} \\overline{x}\\\\- e^{- i \\overline{y}} \\overline{x} & 0\\end{matrix}\\right]$$"
      ],
      "text/plain": [
       "⎡              _  ⎤\n",
       "⎢            ⅈ⋅y _⎥\n",
       "⎢   0      -ℯ   ⋅x⎥\n",
       "⎢                 ⎥\n",
       "⎢     _           ⎥\n",
       "⎢  -ⅈ⋅y _         ⎥\n",
       "⎣-ℯ    ⋅x     0   ⎦"
      ]
     },
     "execution_count": 72,
     "metadata": {},
     "output_type": "execute_result"
    }
   ],
   "source": [
    "M.H"
   ]
  },
  {
   "cell_type": "markdown",
   "metadata": {
    "collapsed": false
   },
   "source": [
    "A fenti eredményben a változók fölé húzott vonal a komplex konjugáltat jelöli.\n",
    "\n",
    "Egy mátrix sajátértékproblémájának vizsgálatára az `eigenvals()` és `eigenvects()` metódusok szolgálnak.\n",
    "Az `eigenvals()` egy dict-tel tér vissza, mely a sajátértékeket kulcsszóként tartalmazza, a kulcsokhoz tartozó érték pedig a sajátérték degenerációjának fokát jelzi:"
   ]
  },
  {
   "cell_type": "code",
   "execution_count": 73,
   "metadata": {
    "collapsed": false
   },
   "outputs": [
    {
     "data": {
      "image/png": "[encoded data removed]",
      "text/latex": [
       "$$\\left \\{ - x : 1, \\quad x : 1\\right \\}$$"
      ],
      "text/plain": [
       "{-x: 1, x: 1}"
      ]
     },
     "execution_count": 73,
     "metadata": {},
     "output_type": "execute_result"
    }
   ],
   "source": [
    "M.eigenvals()"
   ]
  },
  {
   "cell_type": "markdown",
   "metadata": {},
   "source": [
    "Az `eigenvects()` a sajátértékeket, a multiplicitásukat és a sajátértékhez tartozó sajátvektorokat adja vissza:"
   ]
  },
  {
   "cell_type": "code",
   "execution_count": 74,
   "metadata": {
    "collapsed": false
   },
   "outputs": [
    {
     "data": {
      "text/latex": [
       "$$\\left [ \\left ( - x, \\quad 1, \\quad \\left [ \\left[\\begin{matrix}e^{i y}\\\\1\\end{matrix}\\right]\\right ]\\right ), \\quad \\left ( x, \\quad 1, \\quad \\left [ \\left[\\begin{matrix}- e^{i y}\\\\1\\end{matrix}\\right]\\right ]\\right )\\right ]$$"
      ],
      "text/plain": [
       "⎡⎛       ⎡⎡ ⅈ⋅y⎤⎤⎞  ⎛      ⎡⎡  ⅈ⋅y⎤⎤⎞⎤\n",
       "⎢⎜-x, 1, ⎢⎢ℯ   ⎥⎥⎟, ⎜x, 1, ⎢⎢-ℯ   ⎥⎥⎟⎥\n",
       "⎢⎜       ⎢⎢    ⎥⎥⎟  ⎜      ⎢⎢     ⎥⎥⎟⎥\n",
       "⎣⎝       ⎣⎣ 1  ⎦⎦⎠  ⎝      ⎣⎣  1  ⎦⎦⎠⎦"
      ]
     },
     "execution_count": 74,
     "metadata": {},
     "output_type": "execute_result"
    }
   ],
   "source": [
    "M.eigenvects()"
   ]
  }
 ],
 "metadata": {
  "anaconda-cloud": {},
  "hide_input": false,
  "kernelspec": {
   "display_name": "Python 3",
   "language": "python",
   "name": "python3"
  },
  "language_info": {
   "codemirror_mode": {
    "name": "ipython",
    "version": 3
   },
   "file_extension": ".py",
   "mimetype": "text/x-python",
   "name": "python",
   "nbconvert_exporter": "python",
   "pygments_lexer": "ipython3",
   "version": "3.5.2"
  },
  "name": "analitikus.ipynb"
 },
 "nbformat": 4,
 "nbformat_minor": 0
}
