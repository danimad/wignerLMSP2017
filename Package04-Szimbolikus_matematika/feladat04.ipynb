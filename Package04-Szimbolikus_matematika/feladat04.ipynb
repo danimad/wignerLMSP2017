{
 "cells": [
  {
   "cell_type": "markdown",
   "metadata": {},
   "source": [
    "# Feladatok\n",
    "- Minden feladatot a feladatszámnak megfelelő számú megoldásnotebookban oldj meg. Azaz az első feladatot az `1_feladat.ipynb` notebookban.\n",
    "- A halálfejes (☠) feladatokhoz hozz létre a kötelező feladatokhoz hasonlóan egy új notebookot a MEGOLDÁSOK könyvtárban.\n",
    "- Csak azok a feladatok kerülnek elbírálásra, amelyek a MEGOLDASOK mappában vannak!\n",
    "- A megoldás tartalmazza a megoldandó feladat szövegét a megoldásnotebook első markdown cellájában!\n",
    "- Kommentekkel, illetve markdown cellákkal magyarázd, hogy éppen mit csinál az adott kódrészlet!\n",
    "- Magyarázat nélkül a beküldött feladatok csak fél feladatnak számítanak!\n",
    "- Az elkészített ábrák minden esetben rendelkezzenek ábrafeliratokkal (cím, tengelyfeliratok és  −  amennyiben indokolt  − jelmagyarázat)! \n",
    "\n",
    "**Amennyiben a beadott ábrákon nincsenek feliratok, az adott feladat automatikusan csak fél feladatnak számít!**\n",
    "**Figyelem**: a megoldásokat az egyszerűség kedvéért most **NE** kezdjétek a megszokott `%pylab inline` paranccsal!\n",
    "Helyette elég a `%matplotlib inline` parancs. \n",
    "\n",
    "----\n"
   ]
  },
  {
   "cell_type": "markdown",
   "metadata": {},
   "source": [
    "# 01-Harmadfokú egyenlet\n",
    "### Solve  - I.\n",
    "\n",
    "Határozzuk meg az általános harmadfokú egyenlet $$ ax^3+bx^2+cx+d=0 $$ megoldásait zárt alakban a `sympy` csomag segítségével!"
   ]
  },
  {
   "cell_type": "markdown",
   "metadata": {},
   "source": [
    "# 02-Hasáb a lejtőn\n",
    "### Solve - II.\n",
    "![](https://www2.southeastern.edu/Academics/Faculty/rallain/plab193/page1/page21/files/page21_3.jpg)\n",
    "\n",
    "\n",
    "Vizsgáljuk egy lejtőre helyeztt hasáb mozgásegyenleteit a `sympy` csomag segítségével. Legyen a hasáb tömege $M$, jelöljük a test lejtő menti gyorsulását $a$-val, a tartóerőt $F_t$-vel. Tételezzük fel, hogy a test és a lejtő között csúszási súrlódás lép fel, melyet a $\\mu$ együttható jellemez. Jelöljük a súrlódási erőt $F_s$-el. A lejtő vízszintessel bezárt szöge legyen $\\alpha$. Ha $0$ kezdősebességgel elengedjük a hasábot, akkor $t$ idő múlva mekkora utat fog megtenni? Határozzuk meg $a$-t,$F_s$-et, illetve $F_t$-t is!\n",
    "A megoldandó egyenletrendszer tehát: \n",
    "\n",
    "\n",
    "\\begin{align}\n",
    "Mg\\sin(\\alpha)-F_s&=Ma \\\\\n",
    "Mg\\cos(\\alpha)-F_t&=0 \\\\\n",
    "F_s&=\\mu F_t \\\\\n",
    "s&=\\frac{a}{2}t^2 \n",
    "\\end{align}\n",
    "\n",
    "A megoldáshoz használjuk a sympy csomag `solve` függvényét!"
   ]
  },
  {
   "cell_type": "markdown",
   "metadata": {},
   "source": [
    "# 03-Ez bonyolult\n",
    "### Egyszerűsítés\n",
    "\n",
    "Hozd az alábbi kifejezést egyszerűbb alakra:\n",
    "\n",
    "$$ x^{2} + \\frac{x}{4} e^{2 i x} - \\frac{x}{2} \\cos{\\left (2 x \\right )} + \\frac{x}{4} e^{- 2 i x} + \\frac{1}{4} e^{2 i x} - \\frac{1}{2} \\cos{\\left (2 x \\right )} - 1 + \\frac{1}{4} e^{- 2 i x} $$"
   ]
  },
  {
   "cell_type": "markdown",
   "metadata": {},
   "source": [
    "# 04-Ez meg nem szimmetrikus\n",
    "\n",
    "### Lineáris algebra - I.\n",
    "\n",
    "Lássuk be a `sympy` segítségével, hogy minden 3x3-as antiszimmetrikus mátrix rendelkezik egy zérus sajátértékkel!"
   ]
  },
  {
   "cell_type": "markdown",
   "metadata": {},
   "source": [
    "# 05-Maxwell$-$Boltzmann\n",
    "### Analízis - I.\n",
    "\n",
    "Vizsgáljuk a termodinamikából ismert [Maxwell$-$Boltzmann-sebességeloszlást](https://hu.wikipedia.org/wiki/Maxwell%E2%80%93Boltzmann-eloszl%C3%A1s#A_sebess.C3.A9g_eloszl.C3.A1s) !\n",
    "\n",
    "$$f(v)=\\sqrt{\\frac{2}{\\pi}} \\frac{v^2 e^{-v^2/(2a^2)}}{a^3}$$ \n",
    "\n",
    "\n",
    "Határozzuk meg `sympy` függvények segítségével a következő mennyiségeket:\n",
    "\n",
    "- Az átlagos sebesség: $\\displaystyle\\int_0^\\infty  vf(v) \\mathrm{d}v$\n",
    "- A tipikus sebesség: $\\sqrt{\\displaystyle\\int_0^\\infty  v^2f(v) \\mathrm{d}v}$\n",
    "- A legvalószínűbb $v^*$ sebesség (ahol az eloszlásnak maximuma van): $\\partial_v f(v)|_{v=v^*}=0$ \n",
    "\n",
    "**Figyelem:**  a probléma természetéből fakadóan mind a `v` mind pedig az `a` változók csak valós értékeket vehetnek fel.\n"
   ]
  },
  {
   "cell_type": "markdown",
   "metadata": {},
   "source": [
    "# ☠ 06-Taylor-sorok\n",
    "### Analízis - II.\n",
    "\n",
    "Határozzuk meg az alábbi függvények Taylor-sorát a megadott rendig a megadott pont körül!\n",
    "\n",
    "- $f(x)=\\sin(x^2)+cos(x),\\,x=\\pi/3 $ körül harmadrendig\n",
    "- $g(x)=\\exp(-(x-3)^2)\\sin(x),\\,x=0$ körül negyedrendig"
   ]
  },
  {
   "cell_type": "markdown",
   "metadata": {},
   "source": [
    "# ☠ 07-Differenciálegyenletek\n",
    "### Közönséges differenciálegyenlet (ode)\n",
    "\n",
    "Határozzuk meg az $$f''(x) + 9 f(x) = 1$$ másodrendű differenciálegyenlet általános megoldását!"
   ]
  },
  {
   "cell_type": "markdown",
   "metadata": {},
   "source": [
    "# ☠ 08 - [Konvolúció](https://hu.wikipedia.org/wiki/Konvol%C3%BAci%C3%B3) \n",
    "### Analízis - III\n",
    "\n",
    "Lássuk be a `sympy` segítségével a következő azonosságot!\n",
    "\n",
    "$$ \\int_{-\\infty}^\\infty \\frac{\\mathrm{e}^{-x^2}}{(x-y)^2+1}\\mathrm{dx}=\\Re \\left(\\mathrm{e}^{-(\\mathrm{i} + y)^2} \\pi\\,\\mathrm{erfc}(1 - \\mathrm{i} y)\\right) $$\n",
    "\n",
    "Ahol $\\Re$ a valósrész-képzést jelenti, továbbá $\\mathrm{erfc}(x)$ a [komplementer hibafüggvény](https://hu.wikipedia.org/wiki/Gauss-f%C3%A9le_hibaf%C3%BCggv%C3%A9ny).\n"
   ]
  },
  {
   "cell_type": "markdown",
   "metadata": {},
   "source": [
    "# ☠ 09- két atomos lánc \n",
    "### Lineáris algebra - III.\n",
    "\n",
    "![](http://physics.oregonstate.edu/portfolioswiki/_media/courses:lecture:pplec:pplecinf1ddiachainfig1.png?)\n",
    "\n",
    "Határozzuk meg az ábrán vázolt végtelen kétatomos egydimenziós lánc rezgési módusait, azaz a [fonon diszperziós relációját](https://hu.wikipedia.org/wiki/Fonon) analitikusan `sympy` segítségével! Alkalmazzuk a `Matrix` osztályt!"
   ]
  },
  {
   "cell_type": "markdown",
   "metadata": {},
   "source": [
    "# ☠ 10-[Viviani-görbe](https://en.wikipedia.org/wiki/Viviani%27s_curve)\n",
    "\n",
    "### Felületszámítás\n",
    "\n",
    "Számítsuk ki a `sympy` segítségével, hogy mekkora felületet metsz ki Viviani görbéje a gömbből! "
   ]
  }
 ],
 "metadata": {
  "anaconda-cloud": {},
  "hide_input": false,
  "kernelspec": {
   "display_name": "Python 3",
   "language": "python",
   "name": "python3"
  },
  "language_info": {
   "codemirror_mode": {
    "name": "ipython",
    "version": 3
   },
   "file_extension": ".py",
   "mimetype": "text/x-python",
   "name": "python",
   "nbconvert_exporter": "python",
   "pygments_lexer": "ipython3",
   "version": "3.5.2"
  },
  "name": "feladat04.ipynb"
 },
 "nbformat": 4,
 "nbformat_minor": 0
}
