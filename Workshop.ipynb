{
 "cells": [
  {
   "cell_type": "markdown",
   "metadata": {},
   "source": [
    "# Modern Tudományos Programozás Előadássorozat - 2017\n",
    "\n",
    "## Workshop Kurzus\n",
    "\n",
    "1. [Interaktív Ábrák](./Package03-Abrak_es_widgetek/mintapelda03.ipynb) \n",
    "2. [Szimbolikus matematika](./Package04-Szimbolikus_matematika/mintapelda04.ipynb) \n",
    "3. [Numerikus integrálás és differenciál egyenletek](./Package06-Numerikus_integralas_es_Differencialegyenletek/mintapelda06.ipynb) \n",
    "4. [Mini projekt](project.ipynb)\n",
    "\n",
    "## Teljes Kurzus\n",
    "\n",
    "0. [Markdown](./Package00-Markdown/mintapelda00.ipynb)\n",
    "1. [Python alapok](./Package01-Python_alapok/mintapelda01.ipynb) \n",
    "2. [Python osztályok](./Package02-Python_osztalyok/mintapelda02.ipynb) \n",
    "3. [Interaktív Ábrák](./Package03-Abrak_es_widgetek/mintapelda03.ipynb) \n",
    "4. [Szimbolikus matematika](./Package04-Szimbolikus_matematika/mintapelda04.ipynb) \n",
    "5. [Lineáris algebra](./Package05-Linearis_algebra/mintapelda05.ipynb) \n",
    "6. [Numerikus integrálás és differenciál egyenletek](./Package06-Numerikus_integralas_es_Differencialegyenletek/mintapelda06.ipynb) \n",
    "7. [File I/O](./Package07-File_IO/mintapelda07.ipynb) \n",
    "8. [Függvény illesztés és Fourier transzformáció](./Package08-Fit-FFT/mintapelda08.ipynb) \n",
    "9. [Adatbázisok és a Pandas modul](./Package09-Pandas/mintapelda09.ipynb) \n",
    "10. [Kernelek és más nyelvek](./Package10-Kernelek/mintapelda10.ipynb) \n"
   ]
  },
  {
   "cell_type": "code",
   "execution_count": null,
   "metadata": {},
   "outputs": [],
   "source": []
  }
 ],
 "metadata": {
  "hide_input": false,
  "kernelspec": {
   "display_name": "Python 3",
   "language": "python",
   "name": "python3"
  },
  "language_info": {
   "codemirror_mode": {
    "name": "ipython",
    "version": 3
   },
   "file_extension": ".py",
   "mimetype": "text/x-python",
   "name": "python",
   "nbconvert_exporter": "python",
   "pygments_lexer": "ipython3",
   "version": "3.6.3"
  }
 },
 "nbformat": 4,
 "nbformat_minor": 2
}
