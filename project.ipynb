{
 "cells": [
  {
   "cell_type": "markdown",
   "metadata": {},
   "source": [
    "# Síelő a domboldalon\n",
    "\n",
    "![](http://www.jnlllandudno.co.uk/wp-content/uploads/2015/08/skiing-wallpaper_1280x800-400x284.jpg)"
   ]
  },
  {
   "cell_type": "markdown",
   "metadata": {},
   "source": [
    "### Alap feladat\n",
    "\n",
    "- Határozzuk meg egy síelő mozgásegyenletét aki egy $$y=f(x)$$ függvény által leírt domboldalon közlekedik.\n",
    "- Tegyük fel, hogy a síelő a mozgás során mindvégig érintkezik a lejtő felületével.\n",
    "- Oldjuk meg a mozgásegyenletet numerikusan $$f(x)=\\cos(x)-x/2 $$ esetére!\n",
    "- A kezdeti feltételt interaktív widgetekkel szabályozzuk! \n",
    "- Készítsünk ábrát az $x(t), y(t)$ görbékről.\n",
    "\n",
    "### A kihívás ☠: \n",
    "\n",
    "Általánosítsuk a mozgást térbeli lejtőre, a vizualizációnál és az interaktivitás kezelésére használjuk a [bqplot](https://github.com/bloomberg/bqplot) és [ipyvolume](https://github.com/maartenbreddels/ipyvolume) csomagokat is. "
   ]
  }
 ],
 "metadata": {
  "hide_input": false,
  "kernelspec": {
   "display_name": "Python 3",
   "language": "python",
   "name": "python3"
  },
  "language_info": {
   "codemirror_mode": {
    "name": "ipython",
    "version": 3
   },
   "file_extension": ".py",
   "mimetype": "text/x-python",
   "name": "python",
   "nbconvert_exporter": "python",
   "pygments_lexer": "ipython3",
   "version": "3.6.3"
  }
 },
 "nbformat": 4,
 "nbformat_minor": 2
}
