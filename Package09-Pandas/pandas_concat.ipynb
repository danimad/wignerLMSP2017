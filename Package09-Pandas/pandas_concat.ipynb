{
 "cells": [
  {
   "cell_type": "markdown",
   "metadata": {
    "deletable": true,
    "editable": true
   },
   "source": [
    "# Adatbázis-műveletek 2. (concat, join, apply, pivot)\n"
   ]
  },
  {
   "cell_type": "code",
   "execution_count": 1,
   "metadata": {
    "collapsed": false,
    "deletable": true,
    "editable": true
   },
   "outputs": [
    {
     "name": "stdout",
     "output_type": "stream",
     "text": [
      "Populating the interactive namespace from numpy and matplotlib\n"
     ]
    }
   ],
   "source": [
    "%pylab inline"
   ]
  },
  {
   "cell_type": "code",
   "execution_count": 2,
   "metadata": {
    "collapsed": true,
    "deletable": true,
    "editable": true
   },
   "outputs": [],
   "source": [
    "import pandas as pd"
   ]
  },
  {
   "cell_type": "markdown",
   "metadata": {
    "deletable": true,
    "editable": true
   },
   "source": [
    "Olvassuk be megint az érettségis táblázatot."
   ]
  },
  {
   "cell_type": "code",
   "execution_count": 3,
   "metadata": {
    "collapsed": false,
    "deletable": true,
    "editable": true
   },
   "outputs": [],
   "source": [
    "df=pd.read_csv(\"data/erettsegi.csv.gz\",sep=\";\",index_col=0)"
   ]
  },
  {
   "cell_type": "markdown",
   "metadata": {
    "deletable": true,
    "editable": true
   },
   "source": [
    "Készítsünk egy kisebb, jobban átláható táblázatot demonstrációs célra."
   ]
  },
  {
   "cell_type": "code",
   "execution_count": 4,
   "metadata": {
    "collapsed": true,
    "deletable": true,
    "editable": true
   },
   "outputs": [],
   "source": [
    "subdf=df[['intézmény városa','vizsgázó képzési típusa',\n",
    "          'vizsgázó neme','vizsga szintje','írásbeli pontszám']].head(2)"
   ]
  },
  {
   "cell_type": "markdown",
   "metadata": {
    "deletable": true,
    "editable": true
   },
   "source": [
    "## Összefűzés, Concat"
   ]
  },
  {
   "cell_type": "markdown",
   "metadata": {
    "deletable": true,
    "editable": true
   },
   "source": [
    "Két *DataFrame*-et összefűzhetünk egymás alá, ha a `pd.concat()` függvénynek egy ugyanannyi oszlopból álló *DataFrame*-eket tartalmazó listát adunk oda.\n",
    "\n",
    "Példánkban kétszer egymás alá írjuk ugyanazt a *DataFrame*-et."
   ]
  },
  {
   "cell_type": "code",
   "execution_count": 5,
   "metadata": {
    "collapsed": false,
    "deletable": true,
    "editable": true
   },
   "outputs": [
    {
     "data": {
      "text/html": [
       "<div>\n",
       "<table border=\"1\" class=\"dataframe\">\n",
       "  <thead>\n",
       "    <tr style=\"text-align: right;\">\n",
       "      <th></th>\n",
       "      <th>intézmény városa</th>\n",
       "      <th>vizsgázó képzési típusa</th>\n",
       "      <th>vizsgázó neme</th>\n",
       "      <th>vizsga szintje</th>\n",
       "      <th>írásbeli pontszám</th>\n",
       "    </tr>\n",
       "  </thead>\n",
       "  <tbody>\n",
       "    <tr>\n",
       "      <th>0</th>\n",
       "      <td>Budapest</td>\n",
       "      <td>gimnázium</td>\n",
       "      <td>férfi</td>\n",
       "      <td>közép</td>\n",
       "      <td>NaN</td>\n",
       "    </tr>\n",
       "    <tr>\n",
       "      <th>1</th>\n",
       "      <td>Budapest</td>\n",
       "      <td>gimnázium</td>\n",
       "      <td>nõ</td>\n",
       "      <td>közép</td>\n",
       "      <td>NaN</td>\n",
       "    </tr>\n",
       "    <tr>\n",
       "      <th>0</th>\n",
       "      <td>Budapest</td>\n",
       "      <td>gimnázium</td>\n",
       "      <td>férfi</td>\n",
       "      <td>közép</td>\n",
       "      <td>NaN</td>\n",
       "    </tr>\n",
       "    <tr>\n",
       "      <th>1</th>\n",
       "      <td>Budapest</td>\n",
       "      <td>gimnázium</td>\n",
       "      <td>nõ</td>\n",
       "      <td>közép</td>\n",
       "      <td>NaN</td>\n",
       "    </tr>\n",
       "  </tbody>\n",
       "</table>\n",
       "</div>"
      ],
      "text/plain": [
       "  intézmény városa vizsgázó képzési típusa vizsgázó neme vizsga szintje  \\\n",
       "0         Budapest               gimnázium         férfi          közép   \n",
       "1         Budapest               gimnázium            nõ          közép   \n",
       "0         Budapest               gimnázium         férfi          közép   \n",
       "1         Budapest               gimnázium            nõ          közép   \n",
       "\n",
       "   írásbeli pontszám  \n",
       "0                NaN  \n",
       "1                NaN  \n",
       "0                NaN  \n",
       "1                NaN  "
      ]
     },
     "execution_count": 5,
     "metadata": {},
     "output_type": "execute_result"
    }
   ],
   "source": [
    "cdf=pd.concat([subdf,subdf])\n",
    "cdf"
   ]
  },
  {
   "cell_type": "markdown",
   "metadata": {
    "deletable": true,
    "editable": true
   },
   "source": [
    "Figyeljünk, hogy az újonann összerakott táblázat indexei még az eredeti táblálzatokból valók. "
   ]
  },
  {
   "cell_type": "code",
   "execution_count": 6,
   "metadata": {
    "collapsed": false,
    "deletable": true,
    "editable": true
   },
   "outputs": [
    {
     "data": {
      "text/html": [
       "<div>\n",
       "<table border=\"1\" class=\"dataframe\">\n",
       "  <thead>\n",
       "    <tr style=\"text-align: right;\">\n",
       "      <th></th>\n",
       "      <th>intézmény városa</th>\n",
       "      <th>vizsgázó képzési típusa</th>\n",
       "      <th>vizsgázó neme</th>\n",
       "      <th>vizsga szintje</th>\n",
       "      <th>írásbeli pontszám</th>\n",
       "    </tr>\n",
       "  </thead>\n",
       "  <tbody>\n",
       "    <tr>\n",
       "      <th>0</th>\n",
       "      <td>Budapest</td>\n",
       "      <td>gimnázium</td>\n",
       "      <td>férfi</td>\n",
       "      <td>közép</td>\n",
       "      <td>NaN</td>\n",
       "    </tr>\n",
       "    <tr>\n",
       "      <th>0</th>\n",
       "      <td>Budapest</td>\n",
       "      <td>gimnázium</td>\n",
       "      <td>férfi</td>\n",
       "      <td>közép</td>\n",
       "      <td>NaN</td>\n",
       "    </tr>\n",
       "  </tbody>\n",
       "</table>\n",
       "</div>"
      ],
      "text/plain": [
       "  intézmény városa vizsgázó képzési típusa vizsgázó neme vizsga szintje  \\\n",
       "0         Budapest               gimnázium         férfi          közép   \n",
       "0         Budapest               gimnázium         férfi          közép   \n",
       "\n",
       "   írásbeli pontszám  \n",
       "0                NaN  \n",
       "0                NaN  "
      ]
     },
     "execution_count": 6,
     "metadata": {},
     "output_type": "execute_result"
    }
   ],
   "source": [
    "cdf.loc[0]"
   ]
  },
  {
   "cell_type": "markdown",
   "metadata": {
    "deletable": true,
    "editable": true
   },
   "source": [
    "Készíthetünk új indexet, megtartva a régit is."
   ]
  },
  {
   "cell_type": "code",
   "execution_count": 7,
   "metadata": {
    "collapsed": false,
    "deletable": true,
    "editable": true
   },
   "outputs": [
    {
     "data": {
      "text/html": [
       "<div>\n",
       "<table border=\"1\" class=\"dataframe\">\n",
       "  <thead>\n",
       "    <tr style=\"text-align: right;\">\n",
       "      <th></th>\n",
       "      <th>index</th>\n",
       "      <th>intézmény városa</th>\n",
       "      <th>vizsgázó képzési típusa</th>\n",
       "      <th>vizsgázó neme</th>\n",
       "      <th>vizsga szintje</th>\n",
       "      <th>írásbeli pontszám</th>\n",
       "    </tr>\n",
       "  </thead>\n",
       "  <tbody>\n",
       "    <tr>\n",
       "      <th>0</th>\n",
       "      <td>0</td>\n",
       "      <td>Budapest</td>\n",
       "      <td>gimnázium</td>\n",
       "      <td>férfi</td>\n",
       "      <td>közép</td>\n",
       "      <td>NaN</td>\n",
       "    </tr>\n",
       "    <tr>\n",
       "      <th>1</th>\n",
       "      <td>1</td>\n",
       "      <td>Budapest</td>\n",
       "      <td>gimnázium</td>\n",
       "      <td>nõ</td>\n",
       "      <td>közép</td>\n",
       "      <td>NaN</td>\n",
       "    </tr>\n",
       "    <tr>\n",
       "      <th>2</th>\n",
       "      <td>0</td>\n",
       "      <td>Budapest</td>\n",
       "      <td>gimnázium</td>\n",
       "      <td>férfi</td>\n",
       "      <td>közép</td>\n",
       "      <td>NaN</td>\n",
       "    </tr>\n",
       "    <tr>\n",
       "      <th>3</th>\n",
       "      <td>1</td>\n",
       "      <td>Budapest</td>\n",
       "      <td>gimnázium</td>\n",
       "      <td>nõ</td>\n",
       "      <td>közép</td>\n",
       "      <td>NaN</td>\n",
       "    </tr>\n",
       "  </tbody>\n",
       "</table>\n",
       "</div>"
      ],
      "text/plain": [
       "   index intézmény városa vizsgázó képzési típusa vizsgázó neme  \\\n",
       "0      0         Budapest               gimnázium         férfi   \n",
       "1      1         Budapest               gimnázium            nõ   \n",
       "2      0         Budapest               gimnázium         férfi   \n",
       "3      1         Budapest               gimnázium            nõ   \n",
       "\n",
       "  vizsga szintje  írásbeli pontszám  \n",
       "0          közép                NaN  \n",
       "1          közép                NaN  \n",
       "2          közép                NaN  \n",
       "3          közép                NaN  "
      ]
     },
     "execution_count": 7,
     "metadata": {},
     "output_type": "execute_result"
    }
   ],
   "source": [
    "cdf=pd.concat([subdf,subdf]).reset_index()\n",
    "cdf"
   ]
  },
  {
   "cell_type": "markdown",
   "metadata": {
    "deletable": true,
    "editable": true
   },
   "source": [
    "Vagy eldobva azt."
   ]
  },
  {
   "cell_type": "code",
   "execution_count": 8,
   "metadata": {
    "collapsed": false,
    "deletable": true,
    "editable": true
   },
   "outputs": [
    {
     "data": {
      "text/html": [
       "<div>\n",
       "<table border=\"1\" class=\"dataframe\">\n",
       "  <thead>\n",
       "    <tr style=\"text-align: right;\">\n",
       "      <th></th>\n",
       "      <th>intézmény városa</th>\n",
       "      <th>vizsgázó képzési típusa</th>\n",
       "      <th>vizsgázó neme</th>\n",
       "      <th>vizsga szintje</th>\n",
       "      <th>írásbeli pontszám</th>\n",
       "    </tr>\n",
       "  </thead>\n",
       "  <tbody>\n",
       "    <tr>\n",
       "      <th>0</th>\n",
       "      <td>Budapest</td>\n",
       "      <td>gimnázium</td>\n",
       "      <td>férfi</td>\n",
       "      <td>közép</td>\n",
       "      <td>NaN</td>\n",
       "    </tr>\n",
       "    <tr>\n",
       "      <th>1</th>\n",
       "      <td>Budapest</td>\n",
       "      <td>gimnázium</td>\n",
       "      <td>nõ</td>\n",
       "      <td>közép</td>\n",
       "      <td>NaN</td>\n",
       "    </tr>\n",
       "    <tr>\n",
       "      <th>2</th>\n",
       "      <td>Budapest</td>\n",
       "      <td>gimnázium</td>\n",
       "      <td>férfi</td>\n",
       "      <td>közép</td>\n",
       "      <td>NaN</td>\n",
       "    </tr>\n",
       "    <tr>\n",
       "      <th>3</th>\n",
       "      <td>Budapest</td>\n",
       "      <td>gimnázium</td>\n",
       "      <td>nõ</td>\n",
       "      <td>közép</td>\n",
       "      <td>NaN</td>\n",
       "    </tr>\n",
       "  </tbody>\n",
       "</table>\n",
       "</div>"
      ],
      "text/plain": [
       "  intézmény városa vizsgázó képzési típusa vizsgázó neme vizsga szintje  \\\n",
       "0         Budapest               gimnázium         férfi          közép   \n",
       "1         Budapest               gimnázium            nõ          közép   \n",
       "2         Budapest               gimnázium         férfi          közép   \n",
       "3         Budapest               gimnázium            nõ          közép   \n",
       "\n",
       "   írásbeli pontszám  \n",
       "0                NaN  \n",
       "1                NaN  \n",
       "2                NaN  \n",
       "3                NaN  "
      ]
     },
     "execution_count": 8,
     "metadata": {},
     "output_type": "execute_result"
    }
   ],
   "source": [
    "cdf=pd.concat([subdf,subdf]).reset_index(drop=True)\n",
    "cdf"
   ]
  },
  {
   "cell_type": "markdown",
   "metadata": {
    "collapsed": false,
    "deletable": true,
    "editable": true
   },
   "source": [
    "A másik tengely mentén is összepakolhatunk táblázatokat."
   ]
  },
  {
   "cell_type": "code",
   "execution_count": 9,
   "metadata": {
    "collapsed": false,
    "deletable": true,
    "editable": true
   },
   "outputs": [
    {
     "data": {
      "text/html": [
       "<div>\n",
       "<table border=\"1\" class=\"dataframe\">\n",
       "  <thead>\n",
       "    <tr style=\"text-align: right;\">\n",
       "      <th></th>\n",
       "      <th>0</th>\n",
       "      <th>1</th>\n",
       "      <th>0</th>\n",
       "      <th>1</th>\n",
       "    </tr>\n",
       "  </thead>\n",
       "  <tbody>\n",
       "    <tr>\n",
       "      <th>0</th>\n",
       "      <td>1</td>\n",
       "      <td>1</td>\n",
       "      <td>2</td>\n",
       "      <td>2</td>\n",
       "    </tr>\n",
       "    <tr>\n",
       "      <th>1</th>\n",
       "      <td>1</td>\n",
       "      <td>1</td>\n",
       "      <td>2</td>\n",
       "      <td>2</td>\n",
       "    </tr>\n",
       "  </tbody>\n",
       "</table>\n",
       "</div>"
      ],
      "text/plain": [
       "   0  1  0  1\n",
       "0  1  1  2  2\n",
       "1  1  1  2  2"
      ]
     },
     "execution_count": 9,
     "metadata": {},
     "output_type": "execute_result"
    }
   ],
   "source": [
    "df1=pd.DataFrame(np.ones((2,2)))\n",
    "df2=pd.DataFrame(2*np.ones((2,2)))\n",
    "\n",
    "pd.concat([df1,df2],axis=1)"
   ]
  },
  {
   "cell_type": "markdown",
   "metadata": {
    "deletable": true,
    "editable": true
   },
   "source": [
    "A concat ekkor a táblázatokat index szerint rendezi egymás mellé."
   ]
  },
  {
   "cell_type": "code",
   "execution_count": 10,
   "metadata": {
    "collapsed": false,
    "deletable": true,
    "editable": true
   },
   "outputs": [
    {
     "data": {
      "text/html": [
       "<div>\n",
       "<table border=\"1\" class=\"dataframe\">\n",
       "  <thead>\n",
       "    <tr style=\"text-align: right;\">\n",
       "      <th></th>\n",
       "      <th>0</th>\n",
       "      <th>1</th>\n",
       "      <th>0</th>\n",
       "      <th>1</th>\n",
       "    </tr>\n",
       "  </thead>\n",
       "  <tbody>\n",
       "    <tr>\n",
       "      <th>0</th>\n",
       "      <td>1</td>\n",
       "      <td>1</td>\n",
       "      <td>NaN</td>\n",
       "      <td>NaN</td>\n",
       "    </tr>\n",
       "    <tr>\n",
       "      <th>1</th>\n",
       "      <td>1</td>\n",
       "      <td>1</td>\n",
       "      <td>NaN</td>\n",
       "      <td>NaN</td>\n",
       "    </tr>\n",
       "    <tr>\n",
       "      <th>3</th>\n",
       "      <td>NaN</td>\n",
       "      <td>NaN</td>\n",
       "      <td>2</td>\n",
       "      <td>2</td>\n",
       "    </tr>\n",
       "    <tr>\n",
       "      <th>4</th>\n",
       "      <td>NaN</td>\n",
       "      <td>NaN</td>\n",
       "      <td>2</td>\n",
       "      <td>2</td>\n",
       "    </tr>\n",
       "  </tbody>\n",
       "</table>\n",
       "</div>"
      ],
      "text/plain": [
       "    0   1   0   1\n",
       "0   1   1 NaN NaN\n",
       "1   1   1 NaN NaN\n",
       "3 NaN NaN   2   2\n",
       "4 NaN NaN   2   2"
      ]
     },
     "execution_count": 10,
     "metadata": {},
     "output_type": "execute_result"
    }
   ],
   "source": [
    "df1=pd.DataFrame(np.ones((2,2)))\n",
    "df2=pd.DataFrame(2*np.ones((2,2)),index=[3,4])\n",
    "\n",
    "pd.concat([df1,df2],axis=1)"
   ]
  },
  {
   "cell_type": "markdown",
   "metadata": {
    "deletable": true,
    "editable": true
   },
   "source": [
    "## Összefésülés, Join\n",
    "\n",
    "Leghasznosabban úgy tudunk összefésülni táblázatokat, hogy valami közös érték/azonosító alapján egymáshoz tudjuk rendelni a két táblázat sorait.\n",
    "\n",
    "Például fogunk 1-1 oszlopot mindkét táblázatból, és azokat a sorokat, amikben a két oszlop értéke megegyezik, egymás mellé rakjuk.\n",
    "\n",
    "###  Inner Join\n",
    "\n",
    "Ebben az esetben kihagyjuk azokat a sorokat, amiknek nincsen párja a másik táblázatban.\n",
    "\n"
   ]
  },
  {
   "cell_type": "markdown",
   "metadata": {
    "deletable": true,
    "editable": true
   },
   "source": [
    "Olvassuk be a ksh-ról letöltött adatsort a városokról."
   ]
  },
  {
   "cell_type": "code",
   "execution_count": 12,
   "metadata": {
    "collapsed": false,
    "deletable": true,
    "editable": true
   },
   "outputs": [
    {
     "data": {
      "text/html": [
       "<div>\n",
       "<table border=\"1\" class=\"dataframe\">\n",
       "  <thead>\n",
       "    <tr style=\"text-align: right;\">\n",
       "      <th></th>\n",
       "      <th>Helység megnevezése</th>\n",
       "      <th>KSH kódja</th>\n",
       "      <th>jogállása</th>\n",
       "      <th>Megye megnevezése</th>\n",
       "      <th>Járás kódja</th>\n",
       "      <th>Járás neve</th>\n",
       "      <th>Járás székhelye</th>\n",
       "      <th>Közös önkormányzati hivatal kódja</th>\n",
       "      <th>Közös önkormányzati hivatal székhelye</th>\n",
       "      <th>Terület  (hektár)</th>\n",
       "      <th>Lakó-népesség</th>\n",
       "      <th>Lakások száma</th>\n",
       "    </tr>\n",
       "  </thead>\n",
       "  <tbody>\n",
       "    <tr>\n",
       "      <th>0</th>\n",
       "      <td>Aba</td>\n",
       "      <td>17376</td>\n",
       "      <td>város</td>\n",
       "      <td>Fejér</td>\n",
       "      <td>850</td>\n",
       "      <td>Székesfehérvári</td>\n",
       "      <td>Székesfehérvár</td>\n",
       "      <td>1</td>\n",
       "      <td>–</td>\n",
       "      <td>8805</td>\n",
       "      <td>4424</td>\n",
       "      <td>1546</td>\n",
       "    </tr>\n",
       "    <tr>\n",
       "      <th>1</th>\n",
       "      <td>Abádszalók</td>\n",
       "      <td>12441</td>\n",
       "      <td>város</td>\n",
       "      <td>Jász-Nagykun-Szolnok</td>\n",
       "      <td>1640</td>\n",
       "      <td>Kunhegyesi</td>\n",
       "      <td>Kunhegyes</td>\n",
       "      <td>2</td>\n",
       "      <td>Helyben – Locally</td>\n",
       "      <td>13223</td>\n",
       "      <td>4160</td>\n",
       "      <td>2038</td>\n",
       "    </tr>\n",
       "    <tr>\n",
       "      <th>2</th>\n",
       "      <td>Abaliget</td>\n",
       "      <td>12548</td>\n",
       "      <td>község</td>\n",
       "      <td>Baranya</td>\n",
       "      <td>280</td>\n",
       "      <td>Pécsi</td>\n",
       "      <td>Pécs</td>\n",
       "      <td>5</td>\n",
       "      <td>Orfű</td>\n",
       "      <td>1609</td>\n",
       "      <td>649</td>\n",
       "      <td>241</td>\n",
       "    </tr>\n",
       "    <tr>\n",
       "      <th>3</th>\n",
       "      <td>Abasár</td>\n",
       "      <td>24554</td>\n",
       "      <td>község</td>\n",
       "      <td>Heves</td>\n",
       "      <td>1060</td>\n",
       "      <td>Gyöngyösi</td>\n",
       "      <td>Gyöngyös</td>\n",
       "      <td>1</td>\n",
       "      <td>–</td>\n",
       "      <td>2082</td>\n",
       "      <td>2493</td>\n",
       "      <td>1188</td>\n",
       "    </tr>\n",
       "    <tr>\n",
       "      <th>4</th>\n",
       "      <td>Abaújalpár</td>\n",
       "      <td>15662</td>\n",
       "      <td>község</td>\n",
       "      <td>Borsod-Abaúj-Zemplén</td>\n",
       "      <td>570</td>\n",
       "      <td>Gönci</td>\n",
       "      <td>Gönc</td>\n",
       "      <td>6</td>\n",
       "      <td>Boldogkőváralja</td>\n",
       "      <td>848</td>\n",
       "      <td>59</td>\n",
       "      <td>58</td>\n",
       "    </tr>\n",
       "  </tbody>\n",
       "</table>\n",
       "</div>"
      ],
      "text/plain": [
       "  Helység megnevezése  KSH kódja jogállása     Megye megnevezése  Járás kódja  \\\n",
       "0                 Aba      17376     város                 Fejér          850   \n",
       "1          Abádszalók      12441     város  Jász-Nagykun-Szolnok         1640   \n",
       "2            Abaliget      12548    község               Baranya          280   \n",
       "3              Abasár      24554    község                 Heves         1060   \n",
       "4          Abaújalpár      15662    község  Borsod-Abaúj-Zemplén          570   \n",
       "\n",
       "        Járás neve Járás székhelye  Közös önkormányzati hivatal kódja  \\\n",
       "0  Székesfehérvári  Székesfehérvár                                  1   \n",
       "1       Kunhegyesi       Kunhegyes                                  2   \n",
       "2            Pécsi            Pécs                                  5   \n",
       "3        Gyöngyösi        Gyöngyös                                  1   \n",
       "4            Gönci            Gönc                                  6   \n",
       "\n",
       "  Közös önkormányzati hivatal székhelye  Terület  (hektár)  Lakó-népesség  \\\n",
       "0                                     –               8805           4424   \n",
       "1                     Helyben – Locally              13223           4160   \n",
       "2                                  Orfű               1609            649   \n",
       "3                                     –               2082           2493   \n",
       "4                       Boldogkőváralja                848             59   \n",
       "\n",
       "   Lakások száma  \n",
       "0           1546  \n",
       "1           2038  \n",
       "2            241  \n",
       "3           1188  \n",
       "4             58  "
      ]
     },
     "execution_count": 12,
     "metadata": {},
     "output_type": "execute_result"
    }
   ],
   "source": [
    "h=pd.read_csv('data/helyseg.csv')\n",
    "h.head()"
   ]
  },
  {
   "cell_type": "markdown",
   "metadata": {
    "deletable": true,
    "editable": true
   },
   "source": [
    "Rajzoljuk ki a városok népességének és a pontszámoknak az együttes eloszlását."
   ]
  },
  {
   "cell_type": "markdown",
   "metadata": {
    "deletable": true,
    "editable": true
   },
   "source": [
    "Fésüljük össze a két táblázatot úgy, hogy minden érettségizőhöz hozzárendeljük a neki megfelelő városhoz tartozó sort a helységek táblázatból."
   ]
  },
  {
   "cell_type": "code",
   "execution_count": 13,
   "metadata": {
    "collapsed": false,
    "deletable": true,
    "editable": true
   },
   "outputs": [
    {
     "data": {
      "text/html": [
       "<div>\n",
       "<table border=\"1\" class=\"dataframe\">\n",
       "  <thead>\n",
       "    <tr style=\"text-align: right;\">\n",
       "      <th></th>\n",
       "      <th>intézmény megyéje</th>\n",
       "      <th>intézmény városa</th>\n",
       "      <th>vizsgázó évfolyama</th>\n",
       "      <th>vizsgázó képzési típusa</th>\n",
       "      <th>vizsgázó neme</th>\n",
       "      <th>vizsgázó képzési munkarendje</th>\n",
       "      <th>vizsgatárgy neve</th>\n",
       "      <th>vizsga szintje</th>\n",
       "      <th>vizsga fajtája</th>\n",
       "      <th>vizsgamentesség</th>\n",
       "      <th>...</th>\n",
       "      <th>jogállása</th>\n",
       "      <th>Megye megnevezése</th>\n",
       "      <th>Járás kódja</th>\n",
       "      <th>Járás neve</th>\n",
       "      <th>Járás székhelye</th>\n",
       "      <th>Közös önkormányzati hivatal kódja</th>\n",
       "      <th>Közös önkormányzati hivatal székhelye</th>\n",
       "      <th>Terület  (hektár)</th>\n",
       "      <th>Lakó-népesség</th>\n",
       "      <th>Lakások száma</th>\n",
       "    </tr>\n",
       "  </thead>\n",
       "  <tbody>\n",
       "    <tr>\n",
       "      <th>0</th>\n",
       "      <td>Budapest</td>\n",
       "      <td>Budapest</td>\n",
       "      <td>12</td>\n",
       "      <td>gimnázium</td>\n",
       "      <td>férfi</td>\n",
       "      <td>nappali</td>\n",
       "      <td>fizika</td>\n",
       "      <td>közép</td>\n",
       "      <td>elõrehozott</td>\n",
       "      <td>-</td>\n",
       "      <td>...</td>\n",
       "      <td>főváros</td>\n",
       "      <td>Pest</td>\n",
       "      <td>NaN</td>\n",
       "      <td>NaN</td>\n",
       "      <td>NaN</td>\n",
       "      <td>1</td>\n",
       "      <td>–</td>\n",
       "      <td>52513</td>\n",
       "      <td>1759407</td>\n",
       "      <td>911502</td>\n",
       "    </tr>\n",
       "    <tr>\n",
       "      <th>1</th>\n",
       "      <td>Budapest</td>\n",
       "      <td>Budapest</td>\n",
       "      <td>12</td>\n",
       "      <td>gimnázium</td>\n",
       "      <td>nõ</td>\n",
       "      <td>nappali</td>\n",
       "      <td>fizika</td>\n",
       "      <td>közép</td>\n",
       "      <td>elõrehozott</td>\n",
       "      <td>-</td>\n",
       "      <td>...</td>\n",
       "      <td>főváros</td>\n",
       "      <td>Pest</td>\n",
       "      <td>NaN</td>\n",
       "      <td>NaN</td>\n",
       "      <td>NaN</td>\n",
       "      <td>1</td>\n",
       "      <td>–</td>\n",
       "      <td>52513</td>\n",
       "      <td>1759407</td>\n",
       "      <td>911502</td>\n",
       "    </tr>\n",
       "    <tr>\n",
       "      <th>2</th>\n",
       "      <td>Budapest</td>\n",
       "      <td>Budapest</td>\n",
       "      <td>12</td>\n",
       "      <td>gimnázium</td>\n",
       "      <td>férfi</td>\n",
       "      <td>nappali</td>\n",
       "      <td>fizika</td>\n",
       "      <td>közép</td>\n",
       "      <td>elõrehozott</td>\n",
       "      <td>-</td>\n",
       "      <td>...</td>\n",
       "      <td>főváros</td>\n",
       "      <td>Pest</td>\n",
       "      <td>NaN</td>\n",
       "      <td>NaN</td>\n",
       "      <td>NaN</td>\n",
       "      <td>1</td>\n",
       "      <td>–</td>\n",
       "      <td>52513</td>\n",
       "      <td>1759407</td>\n",
       "      <td>911502</td>\n",
       "    </tr>\n",
       "    <tr>\n",
       "      <th>3</th>\n",
       "      <td>Budapest</td>\n",
       "      <td>Budapest</td>\n",
       "      <td>13</td>\n",
       "      <td>gimnázium</td>\n",
       "      <td>nõ</td>\n",
       "      <td>nappali</td>\n",
       "      <td>fizika</td>\n",
       "      <td>közép</td>\n",
       "      <td>elõrehozott</td>\n",
       "      <td>-</td>\n",
       "      <td>...</td>\n",
       "      <td>főváros</td>\n",
       "      <td>Pest</td>\n",
       "      <td>NaN</td>\n",
       "      <td>NaN</td>\n",
       "      <td>NaN</td>\n",
       "      <td>1</td>\n",
       "      <td>–</td>\n",
       "      <td>52513</td>\n",
       "      <td>1759407</td>\n",
       "      <td>911502</td>\n",
       "    </tr>\n",
       "    <tr>\n",
       "      <th>4</th>\n",
       "      <td>Budapest</td>\n",
       "      <td>Budapest</td>\n",
       "      <td>12</td>\n",
       "      <td>gimnázium</td>\n",
       "      <td>férfi</td>\n",
       "      <td>nappali</td>\n",
       "      <td>fizika</td>\n",
       "      <td>közép</td>\n",
       "      <td>elõrehozott</td>\n",
       "      <td>-</td>\n",
       "      <td>...</td>\n",
       "      <td>főváros</td>\n",
       "      <td>Pest</td>\n",
       "      <td>NaN</td>\n",
       "      <td>NaN</td>\n",
       "      <td>NaN</td>\n",
       "      <td>1</td>\n",
       "      <td>–</td>\n",
       "      <td>52513</td>\n",
       "      <td>1759407</td>\n",
       "      <td>911502</td>\n",
       "    </tr>\n",
       "  </tbody>\n",
       "</table>\n",
       "<p>5 rows × 41 columns</p>\n",
       "</div>"
      ],
      "text/plain": [
       "  intézmény megyéje intézmény városa  vizsgázó évfolyama  \\\n",
       "0          Budapest         Budapest                  12   \n",
       "1          Budapest         Budapest                  12   \n",
       "2          Budapest         Budapest                  12   \n",
       "3          Budapest         Budapest                  13   \n",
       "4          Budapest         Budapest                  12   \n",
       "\n",
       "  vizsgázó képzési típusa vizsgázó neme vizsgázó képzési munkarendje  \\\n",
       "0               gimnázium         férfi                      nappali   \n",
       "1               gimnázium            nõ                      nappali   \n",
       "2               gimnázium         férfi                      nappali   \n",
       "3               gimnázium            nõ                      nappali   \n",
       "4               gimnázium         férfi                      nappali   \n",
       "\n",
       "  vizsgatárgy neve vizsga szintje vizsga fajtája vizsgamentesség  \\\n",
       "0           fizika          közép    elõrehozott               -   \n",
       "1           fizika          közép    elõrehozott               -   \n",
       "2           fizika          közép    elõrehozott               -   \n",
       "3           fizika          közép    elõrehozott               -   \n",
       "4           fizika          közép    elõrehozott               -   \n",
       "\n",
       "       ...       jogállása  Megye megnevezése  Járás kódja  Járás neve  \\\n",
       "0      ...         főváros               Pest          NaN         NaN   \n",
       "1      ...         főváros               Pest          NaN         NaN   \n",
       "2      ...         főváros               Pest          NaN         NaN   \n",
       "3      ...         főváros               Pest          NaN         NaN   \n",
       "4      ...         főváros               Pest          NaN         NaN   \n",
       "\n",
       "  Járás székhelye  Közös önkormányzati hivatal kódja  \\\n",
       "0             NaN                                  1   \n",
       "1             NaN                                  1   \n",
       "2             NaN                                  1   \n",
       "3             NaN                                  1   \n",
       "4             NaN                                  1   \n",
       "\n",
       "   Közös önkormányzati hivatal székhelye  Terület  (hektár)  Lakó-népesség  \\\n",
       "0                                      –              52513        1759407   \n",
       "1                                      –              52513        1759407   \n",
       "2                                      –              52513        1759407   \n",
       "3                                      –              52513        1759407   \n",
       "4                                      –              52513        1759407   \n",
       "\n",
       "   Lakások száma  \n",
       "0         911502  \n",
       "1         911502  \n",
       "2         911502  \n",
       "3         911502  \n",
       "4         911502  \n",
       "\n",
       "[5 rows x 41 columns]"
      ]
     },
     "execution_count": 13,
     "metadata": {},
     "output_type": "execute_result"
    }
   ],
   "source": [
    "mdf=df.merge(h,how='inner',\n",
    "             left_on='intézmény városa',\n",
    "             right_on='Helység megnevezése')\n",
    "mdf.head()"
   ]
  },
  {
   "cell_type": "markdown",
   "metadata": {
    "deletable": true,
    "editable": true
   },
   "source": [
    "Zárjuk ki Budapestet, mert túl nagy."
   ]
  },
  {
   "cell_type": "code",
   "execution_count": 14,
   "metadata": {
    "collapsed": true,
    "deletable": true,
    "editable": true
   },
   "outputs": [],
   "source": [
    "mdf=mdf[mdf['intézmény városa']!='Budapest']"
   ]
  },
  {
   "cell_type": "markdown",
   "metadata": {
    "deletable": true,
    "editable": true
   },
   "source": [
    "Töltsük be a seabornt az ábrához."
   ]
  },
  {
   "cell_type": "code",
   "execution_count": 15,
   "metadata": {
    "collapsed": true,
    "deletable": true,
    "editable": true
   },
   "outputs": [],
   "source": [
    "import seaborn as sns"
   ]
  },
  {
   "cell_type": "markdown",
   "metadata": {
    "deletable": true,
    "editable": true
   },
   "source": [
    "Írásbeli pontokban szignifikánsan jobban teljesítenek a nagyobb városok."
   ]
  },
  {
   "cell_type": "code",
   "execution_count": null,
   "metadata": {
    "collapsed": false,
    "deletable": true,
    "editable": true
   },
   "outputs": [],
   "source": [
    "x,y='írásbeli pontszám','Lakó-népesség'\n",
    "sns.jointplot(x=x, y=y, data=mdf,kind=\"kde\", color=\"k\")"
   ]
  },
  {
   "cell_type": "markdown",
   "metadata": {
    "deletable": true,
    "editable": true
   },
   "source": [
    "Szóban pedig a kisebbek ..."
   ]
  },
  {
   "cell_type": "code",
   "execution_count": null,
   "metadata": {
    "collapsed": false,
    "deletable": true,
    "editable": true
   },
   "outputs": [],
   "source": [
    "import seaborn as sns\n",
    "x,y='szóbeli pontszám','Lakó-népesség'\n",
    "sns.jointplot(x=x, y=y, data=mdf,kind=\"kde\", color=\"k\",xlim=(0,60))"
   ]
  },
  {
   "cell_type": "markdown",
   "metadata": {
    "collapsed": true,
    "deletable": true,
    "editable": true
   },
   "source": [
    "### Left join\n",
    "\n",
    "Össze tudjuk úgy is fésülni a táblázatokat, hogy az egyik tábázat minden sorát használjuk, és hahol a másik táblázatnak nincs megfelelő sora, akkor is visszaadjuk az adott sort.\n",
    "\n",
    "Például keressük meg azokat a városokat, ahol nem írtak fizikaérettségit 2014-ben. ( Vagy csak a táblázatunkból hiányzik.)"
   ]
  },
  {
   "cell_type": "markdown",
   "metadata": {
    "deletable": true,
    "editable": true
   },
   "source": [
    "Először keressük meg a városokat ahol írtak."
   ]
  },
  {
   "cell_type": "code",
   "execution_count": 17,
   "metadata": {
    "collapsed": false,
    "deletable": true,
    "editable": true
   },
   "outputs": [
    {
     "data": {
      "text/html": [
       "<div>\n",
       "<table border=\"1\" class=\"dataframe\">\n",
       "  <thead>\n",
       "    <tr style=\"text-align: right;\">\n",
       "      <th></th>\n",
       "      <th>intézmény városa</th>\n",
       "    </tr>\n",
       "  </thead>\n",
       "  <tbody>\n",
       "    <tr>\n",
       "      <th>0</th>\n",
       "      <td>Budapest</td>\n",
       "    </tr>\n",
       "    <tr>\n",
       "      <th>1</th>\n",
       "      <td>Pécs</td>\n",
       "    </tr>\n",
       "    <tr>\n",
       "      <th>2</th>\n",
       "      <td>Kiskunhalas</td>\n",
       "    </tr>\n",
       "    <tr>\n",
       "      <th>3</th>\n",
       "      <td>Kecskemét</td>\n",
       "    </tr>\n",
       "    <tr>\n",
       "      <th>4</th>\n",
       "      <td>Kalocsa</td>\n",
       "    </tr>\n",
       "  </tbody>\n",
       "</table>\n",
       "</div>"
      ],
      "text/plain": [
       "  intézmény városa\n",
       "0         Budapest\n",
       "1             Pécs\n",
       "2      Kiskunhalas\n",
       "3        Kecskemét\n",
       "4          Kalocsa"
      ]
     },
     "execution_count": 17,
     "metadata": {},
     "output_type": "execute_result"
    }
   ],
   "source": [
    "df14=df[df['év']==2014]\n",
    "fizcit=df14[['intézmény városa']].drop_duplicates().reset_index(drop=True)\n",
    "fizcit.head()"
   ]
  },
  {
   "cell_type": "markdown",
   "metadata": {
    "deletable": true,
    "editable": true
   },
   "source": [
    "Keressük meg az összes létező várost."
   ]
  },
  {
   "cell_type": "code",
   "execution_count": 18,
   "metadata": {
    "collapsed": false,
    "deletable": true,
    "editable": true
   },
   "outputs": [
    {
     "data": {
      "text/html": [
       "<div>\n",
       "<table border=\"1\" class=\"dataframe\">\n",
       "  <thead>\n",
       "    <tr style=\"text-align: right;\">\n",
       "      <th></th>\n",
       "      <th>Helység megnevezése</th>\n",
       "    </tr>\n",
       "  </thead>\n",
       "  <tbody>\n",
       "    <tr>\n",
       "      <th>0</th>\n",
       "      <td>Aba</td>\n",
       "    </tr>\n",
       "    <tr>\n",
       "      <th>1</th>\n",
       "      <td>Abádszalók</td>\n",
       "    </tr>\n",
       "    <tr>\n",
       "      <th>2</th>\n",
       "      <td>Abaújszántó</td>\n",
       "    </tr>\n",
       "    <tr>\n",
       "      <th>3</th>\n",
       "      <td>Abony</td>\n",
       "    </tr>\n",
       "    <tr>\n",
       "      <th>4</th>\n",
       "      <td>Ács</td>\n",
       "    </tr>\n",
       "  </tbody>\n",
       "</table>\n",
       "</div>"
      ],
      "text/plain": [
       "  Helység megnevezése\n",
       "0                 Aba\n",
       "1          Abádszalók\n",
       "2         Abaújszántó\n",
       "3               Abony\n",
       "4                 Ács"
      ]
     },
     "execution_count": 18,
     "metadata": {},
     "output_type": "execute_result"
    }
   ],
   "source": [
    "allcit=h[h['jogállása']=='város'][\n",
    "    ['Helység megnevezése']].reset_index(drop=True)\n",
    "allcit.head()"
   ]
  },
  {
   "cell_type": "markdown",
   "metadata": {
    "deletable": true,
    "editable": true
   },
   "source": [
    "Fésüljük össze őket úgy, hogy az összes létező várost visszakapjuk."
   ]
  },
  {
   "cell_type": "code",
   "execution_count": 19,
   "metadata": {
    "collapsed": false,
    "deletable": true,
    "editable": true,
    "scrolled": false
   },
   "outputs": [
    {
     "data": {
      "text/html": [
       "<div>\n",
       "<table border=\"1\" class=\"dataframe\">\n",
       "  <thead>\n",
       "    <tr style=\"text-align: right;\">\n",
       "      <th></th>\n",
       "      <th>Helység megnevezése</th>\n",
       "      <th>intézmény városa</th>\n",
       "    </tr>\n",
       "  </thead>\n",
       "  <tbody>\n",
       "    <tr>\n",
       "      <th>0</th>\n",
       "      <td>Aba</td>\n",
       "      <td>NaN</td>\n",
       "    </tr>\n",
       "    <tr>\n",
       "      <th>1</th>\n",
       "      <td>Abádszalók</td>\n",
       "      <td>NaN</td>\n",
       "    </tr>\n",
       "    <tr>\n",
       "      <th>2</th>\n",
       "      <td>Abaújszántó</td>\n",
       "      <td>NaN</td>\n",
       "    </tr>\n",
       "    <tr>\n",
       "      <th>3</th>\n",
       "      <td>Abony</td>\n",
       "      <td>NaN</td>\n",
       "    </tr>\n",
       "    <tr>\n",
       "      <th>4</th>\n",
       "      <td>Ács</td>\n",
       "      <td>NaN</td>\n",
       "    </tr>\n",
       "    <tr>\n",
       "      <th>5</th>\n",
       "      <td>Adony</td>\n",
       "      <td>NaN</td>\n",
       "    </tr>\n",
       "    <tr>\n",
       "      <th>6</th>\n",
       "      <td>Ajak</td>\n",
       "      <td>NaN</td>\n",
       "    </tr>\n",
       "    <tr>\n",
       "      <th>7</th>\n",
       "      <td>Ajka</td>\n",
       "      <td>Ajka</td>\n",
       "    </tr>\n",
       "    <tr>\n",
       "      <th>8</th>\n",
       "      <td>Albertirsa</td>\n",
       "      <td>NaN</td>\n",
       "    </tr>\n",
       "    <tr>\n",
       "      <th>9</th>\n",
       "      <td>Alsózsolca</td>\n",
       "      <td>NaN</td>\n",
       "    </tr>\n",
       "    <tr>\n",
       "      <th>10</th>\n",
       "      <td>Aszód</td>\n",
       "      <td>Aszód</td>\n",
       "    </tr>\n",
       "    <tr>\n",
       "      <th>11</th>\n",
       "      <td>Bábolna</td>\n",
       "      <td>NaN</td>\n",
       "    </tr>\n",
       "    <tr>\n",
       "      <th>12</th>\n",
       "      <td>Bácsalmás</td>\n",
       "      <td>Bácsalmás</td>\n",
       "    </tr>\n",
       "    <tr>\n",
       "      <th>13</th>\n",
       "      <td>Badacsonytomaj</td>\n",
       "      <td>NaN</td>\n",
       "    </tr>\n",
       "    <tr>\n",
       "      <th>14</th>\n",
       "      <td>Baja</td>\n",
       "      <td>Baja</td>\n",
       "    </tr>\n",
       "    <tr>\n",
       "      <th>15</th>\n",
       "      <td>Baktalórántháza</td>\n",
       "      <td>NaN</td>\n",
       "    </tr>\n",
       "    <tr>\n",
       "      <th>16</th>\n",
       "      <td>Balassagyarmat</td>\n",
       "      <td>Balassagyarmat</td>\n",
       "    </tr>\n",
       "    <tr>\n",
       "      <th>17</th>\n",
       "      <td>Balatonalmádi</td>\n",
       "      <td>Balatonalmádi</td>\n",
       "    </tr>\n",
       "    <tr>\n",
       "      <th>18</th>\n",
       "      <td>Balatonboglár</td>\n",
       "      <td>Balatonboglár</td>\n",
       "    </tr>\n",
       "    <tr>\n",
       "      <th>19</th>\n",
       "      <td>Balatonföldvár</td>\n",
       "      <td>NaN</td>\n",
       "    </tr>\n",
       "    <tr>\n",
       "      <th>20</th>\n",
       "      <td>Balatonfüred</td>\n",
       "      <td>Balatonfüred</td>\n",
       "    </tr>\n",
       "    <tr>\n",
       "      <th>21</th>\n",
       "      <td>Balatonfűzfő</td>\n",
       "      <td>NaN</td>\n",
       "    </tr>\n",
       "    <tr>\n",
       "      <th>22</th>\n",
       "      <td>Balatonkenese</td>\n",
       "      <td>NaN</td>\n",
       "    </tr>\n",
       "    <tr>\n",
       "      <th>23</th>\n",
       "      <td>Balatonlelle</td>\n",
       "      <td>NaN</td>\n",
       "    </tr>\n",
       "    <tr>\n",
       "      <th>24</th>\n",
       "      <td>Balkány</td>\n",
       "      <td>NaN</td>\n",
       "    </tr>\n",
       "    <tr>\n",
       "      <th>25</th>\n",
       "      <td>Balmazújváros</td>\n",
       "      <td>NaN</td>\n",
       "    </tr>\n",
       "    <tr>\n",
       "      <th>26</th>\n",
       "      <td>Barcs</td>\n",
       "      <td>Barcs</td>\n",
       "    </tr>\n",
       "    <tr>\n",
       "      <th>27</th>\n",
       "      <td>Bátaszék</td>\n",
       "      <td>Bátaszék</td>\n",
       "    </tr>\n",
       "    <tr>\n",
       "      <th>28</th>\n",
       "      <td>Bátonyterenye</td>\n",
       "      <td>NaN</td>\n",
       "    </tr>\n",
       "    <tr>\n",
       "      <th>29</th>\n",
       "      <td>Battonya</td>\n",
       "      <td>NaN</td>\n",
       "    </tr>\n",
       "    <tr>\n",
       "      <th>...</th>\n",
       "      <td>...</td>\n",
       "      <td>...</td>\n",
       "    </tr>\n",
       "    <tr>\n",
       "      <th>292</th>\n",
       "      <td>Törökbálint</td>\n",
       "      <td>Törökbálint</td>\n",
       "    </tr>\n",
       "    <tr>\n",
       "      <th>293</th>\n",
       "      <td>Törökszentmiklós</td>\n",
       "      <td>Törökszentmiklós</td>\n",
       "    </tr>\n",
       "    <tr>\n",
       "      <th>294</th>\n",
       "      <td>Tura</td>\n",
       "      <td>NaN</td>\n",
       "    </tr>\n",
       "    <tr>\n",
       "      <th>295</th>\n",
       "      <td>Túrkeve</td>\n",
       "      <td>NaN</td>\n",
       "    </tr>\n",
       "    <tr>\n",
       "      <th>296</th>\n",
       "      <td>Újfehértó</td>\n",
       "      <td>NaN</td>\n",
       "    </tr>\n",
       "    <tr>\n",
       "      <th>297</th>\n",
       "      <td>Újhartyán</td>\n",
       "      <td>NaN</td>\n",
       "    </tr>\n",
       "    <tr>\n",
       "      <th>298</th>\n",
       "      <td>Újkígyós</td>\n",
       "      <td>NaN</td>\n",
       "    </tr>\n",
       "    <tr>\n",
       "      <th>299</th>\n",
       "      <td>Újszász</td>\n",
       "      <td>Újszász</td>\n",
       "    </tr>\n",
       "    <tr>\n",
       "      <th>300</th>\n",
       "      <td>Üllő</td>\n",
       "      <td>NaN</td>\n",
       "    </tr>\n",
       "    <tr>\n",
       "      <th>301</th>\n",
       "      <td>Vác</td>\n",
       "      <td>Vác</td>\n",
       "    </tr>\n",
       "    <tr>\n",
       "      <th>302</th>\n",
       "      <td>Vaja</td>\n",
       "      <td>NaN</td>\n",
       "    </tr>\n",
       "    <tr>\n",
       "      <th>303</th>\n",
       "      <td>Vámospércs</td>\n",
       "      <td>NaN</td>\n",
       "    </tr>\n",
       "    <tr>\n",
       "      <th>304</th>\n",
       "      <td>Várpalota</td>\n",
       "      <td>Várpalota</td>\n",
       "    </tr>\n",
       "    <tr>\n",
       "      <th>305</th>\n",
       "      <td>Vásárosnamény</td>\n",
       "      <td>Vásárosnamény</td>\n",
       "    </tr>\n",
       "    <tr>\n",
       "      <th>306</th>\n",
       "      <td>Vasvár</td>\n",
       "      <td>NaN</td>\n",
       "    </tr>\n",
       "    <tr>\n",
       "      <th>307</th>\n",
       "      <td>Vecsés</td>\n",
       "      <td>NaN</td>\n",
       "    </tr>\n",
       "    <tr>\n",
       "      <th>308</th>\n",
       "      <td>Velence</td>\n",
       "      <td>NaN</td>\n",
       "    </tr>\n",
       "    <tr>\n",
       "      <th>309</th>\n",
       "      <td>Vép</td>\n",
       "      <td>NaN</td>\n",
       "    </tr>\n",
       "    <tr>\n",
       "      <th>310</th>\n",
       "      <td>Veresegyház</td>\n",
       "      <td>NaN</td>\n",
       "    </tr>\n",
       "    <tr>\n",
       "      <th>311</th>\n",
       "      <td>Verpelét</td>\n",
       "      <td>NaN</td>\n",
       "    </tr>\n",
       "    <tr>\n",
       "      <th>312</th>\n",
       "      <td>Vésztő</td>\n",
       "      <td>NaN</td>\n",
       "    </tr>\n",
       "    <tr>\n",
       "      <th>313</th>\n",
       "      <td>Villány</td>\n",
       "      <td>NaN</td>\n",
       "    </tr>\n",
       "    <tr>\n",
       "      <th>314</th>\n",
       "      <td>Visegrád</td>\n",
       "      <td>NaN</td>\n",
       "    </tr>\n",
       "    <tr>\n",
       "      <th>315</th>\n",
       "      <td>Záhony</td>\n",
       "      <td>NaN</td>\n",
       "    </tr>\n",
       "    <tr>\n",
       "      <th>316</th>\n",
       "      <td>Zalakaros</td>\n",
       "      <td>NaN</td>\n",
       "    </tr>\n",
       "    <tr>\n",
       "      <th>317</th>\n",
       "      <td>Zalalövő</td>\n",
       "      <td>NaN</td>\n",
       "    </tr>\n",
       "    <tr>\n",
       "      <th>318</th>\n",
       "      <td>Zalaszentgrót</td>\n",
       "      <td>Zalaszentgrót</td>\n",
       "    </tr>\n",
       "    <tr>\n",
       "      <th>319</th>\n",
       "      <td>Zamárdi</td>\n",
       "      <td>NaN</td>\n",
       "    </tr>\n",
       "    <tr>\n",
       "      <th>320</th>\n",
       "      <td>Zirc</td>\n",
       "      <td>Zirc</td>\n",
       "    </tr>\n",
       "    <tr>\n",
       "      <th>321</th>\n",
       "      <td>Zsámbék</td>\n",
       "      <td>NaN</td>\n",
       "    </tr>\n",
       "  </tbody>\n",
       "</table>\n",
       "<p>322 rows × 2 columns</p>\n",
       "</div>"
      ],
      "text/plain": [
       "    Helység megnevezése  intézmény városa\n",
       "0                   Aba               NaN\n",
       "1            Abádszalók               NaN\n",
       "2           Abaújszántó               NaN\n",
       "3                 Abony               NaN\n",
       "4                   Ács               NaN\n",
       "5                 Adony               NaN\n",
       "6                  Ajak               NaN\n",
       "7                  Ajka              Ajka\n",
       "8            Albertirsa               NaN\n",
       "9            Alsózsolca               NaN\n",
       "10                Aszód             Aszód\n",
       "11              Bábolna               NaN\n",
       "12            Bácsalmás         Bácsalmás\n",
       "13       Badacsonytomaj               NaN\n",
       "14                 Baja              Baja\n",
       "15      Baktalórántháza               NaN\n",
       "16       Balassagyarmat    Balassagyarmat\n",
       "17        Balatonalmádi     Balatonalmádi\n",
       "18        Balatonboglár     Balatonboglár\n",
       "19       Balatonföldvár               NaN\n",
       "20         Balatonfüred      Balatonfüred\n",
       "21         Balatonfűzfő               NaN\n",
       "22        Balatonkenese               NaN\n",
       "23         Balatonlelle               NaN\n",
       "24              Balkány               NaN\n",
       "25        Balmazújváros               NaN\n",
       "26                Barcs             Barcs\n",
       "27             Bátaszék          Bátaszék\n",
       "28        Bátonyterenye               NaN\n",
       "29             Battonya               NaN\n",
       "..                  ...               ...\n",
       "292         Törökbálint       Törökbálint\n",
       "293    Törökszentmiklós  Törökszentmiklós\n",
       "294                Tura               NaN\n",
       "295             Túrkeve               NaN\n",
       "296           Újfehértó               NaN\n",
       "297           Újhartyán               NaN\n",
       "298            Újkígyós               NaN\n",
       "299             Újszász           Újszász\n",
       "300                Üllő               NaN\n",
       "301                 Vác               Vác\n",
       "302                Vaja               NaN\n",
       "303          Vámospércs               NaN\n",
       "304           Várpalota         Várpalota\n",
       "305       Vásárosnamény     Vásárosnamény\n",
       "306              Vasvár               NaN\n",
       "307              Vecsés               NaN\n",
       "308             Velence               NaN\n",
       "309                 Vép               NaN\n",
       "310         Veresegyház               NaN\n",
       "311            Verpelét               NaN\n",
       "312              Vésztő               NaN\n",
       "313             Villány               NaN\n",
       "314            Visegrád               NaN\n",
       "315              Záhony               NaN\n",
       "316           Zalakaros               NaN\n",
       "317            Zalalövő               NaN\n",
       "318       Zalaszentgrót     Zalaszentgrót\n",
       "319             Zamárdi               NaN\n",
       "320                Zirc              Zirc\n",
       "321             Zsámbék               NaN\n",
       "\n",
       "[322 rows x 2 columns]"
      ]
     },
     "execution_count": 19,
     "metadata": {},
     "output_type": "execute_result"
    }
   ],
   "source": [
    "lj=allcit.merge(fizcit,how='left',right_on='intézmény városa',\n",
    "                left_on='Helység megnevezése')\n",
    "lj"
   ]
  },
  {
   "cell_type": "markdown",
   "metadata": {
    "deletable": true,
    "editable": true
   },
   "source": [
    "Keressük ki azokat a városokat, ahol a fizika érettségis táblázat oszlopának értéke hányzik."
   ]
  },
  {
   "cell_type": "code",
   "execution_count": 20,
   "metadata": {
    "collapsed": false,
    "deletable": true,
    "editable": true,
    "scrolled": false
   },
   "outputs": [
    {
     "data": {
      "text/html": [
       "<div>\n",
       "<table border=\"1\" class=\"dataframe\">\n",
       "  <thead>\n",
       "    <tr style=\"text-align: right;\">\n",
       "      <th></th>\n",
       "      <th>Helység megnevezése</th>\n",
       "      <th>intézmény városa</th>\n",
       "    </tr>\n",
       "  </thead>\n",
       "  <tbody>\n",
       "    <tr>\n",
       "      <th>0</th>\n",
       "      <td>Aba</td>\n",
       "      <td>NaN</td>\n",
       "    </tr>\n",
       "    <tr>\n",
       "      <th>1</th>\n",
       "      <td>Abádszalók</td>\n",
       "      <td>NaN</td>\n",
       "    </tr>\n",
       "    <tr>\n",
       "      <th>2</th>\n",
       "      <td>Abaújszántó</td>\n",
       "      <td>NaN</td>\n",
       "    </tr>\n",
       "    <tr>\n",
       "      <th>3</th>\n",
       "      <td>Abony</td>\n",
       "      <td>NaN</td>\n",
       "    </tr>\n",
       "    <tr>\n",
       "      <th>4</th>\n",
       "      <td>Ács</td>\n",
       "      <td>NaN</td>\n",
       "    </tr>\n",
       "    <tr>\n",
       "      <th>5</th>\n",
       "      <td>Adony</td>\n",
       "      <td>NaN</td>\n",
       "    </tr>\n",
       "    <tr>\n",
       "      <th>6</th>\n",
       "      <td>Ajak</td>\n",
       "      <td>NaN</td>\n",
       "    </tr>\n",
       "    <tr>\n",
       "      <th>8</th>\n",
       "      <td>Albertirsa</td>\n",
       "      <td>NaN</td>\n",
       "    </tr>\n",
       "    <tr>\n",
       "      <th>9</th>\n",
       "      <td>Alsózsolca</td>\n",
       "      <td>NaN</td>\n",
       "    </tr>\n",
       "    <tr>\n",
       "      <th>11</th>\n",
       "      <td>Bábolna</td>\n",
       "      <td>NaN</td>\n",
       "    </tr>\n",
       "    <tr>\n",
       "      <th>13</th>\n",
       "      <td>Badacsonytomaj</td>\n",
       "      <td>NaN</td>\n",
       "    </tr>\n",
       "    <tr>\n",
       "      <th>15</th>\n",
       "      <td>Baktalórántháza</td>\n",
       "      <td>NaN</td>\n",
       "    </tr>\n",
       "    <tr>\n",
       "      <th>19</th>\n",
       "      <td>Balatonföldvár</td>\n",
       "      <td>NaN</td>\n",
       "    </tr>\n",
       "    <tr>\n",
       "      <th>21</th>\n",
       "      <td>Balatonfűzfő</td>\n",
       "      <td>NaN</td>\n",
       "    </tr>\n",
       "    <tr>\n",
       "      <th>22</th>\n",
       "      <td>Balatonkenese</td>\n",
       "      <td>NaN</td>\n",
       "    </tr>\n",
       "    <tr>\n",
       "      <th>23</th>\n",
       "      <td>Balatonlelle</td>\n",
       "      <td>NaN</td>\n",
       "    </tr>\n",
       "    <tr>\n",
       "      <th>24</th>\n",
       "      <td>Balkány</td>\n",
       "      <td>NaN</td>\n",
       "    </tr>\n",
       "    <tr>\n",
       "      <th>25</th>\n",
       "      <td>Balmazújváros</td>\n",
       "      <td>NaN</td>\n",
       "    </tr>\n",
       "    <tr>\n",
       "      <th>28</th>\n",
       "      <td>Bátonyterenye</td>\n",
       "      <td>NaN</td>\n",
       "    </tr>\n",
       "    <tr>\n",
       "      <th>29</th>\n",
       "      <td>Battonya</td>\n",
       "      <td>NaN</td>\n",
       "    </tr>\n",
       "    <tr>\n",
       "      <th>31</th>\n",
       "      <td>Bélapátfalva</td>\n",
       "      <td>NaN</td>\n",
       "    </tr>\n",
       "    <tr>\n",
       "      <th>32</th>\n",
       "      <td>Beled</td>\n",
       "      <td>NaN</td>\n",
       "    </tr>\n",
       "    <tr>\n",
       "      <th>34</th>\n",
       "      <td>Berhida</td>\n",
       "      <td>NaN</td>\n",
       "    </tr>\n",
       "    <tr>\n",
       "      <th>35</th>\n",
       "      <td>Besenyszög</td>\n",
       "      <td>NaN</td>\n",
       "    </tr>\n",
       "    <tr>\n",
       "      <th>36</th>\n",
       "      <td>Biatorbágy</td>\n",
       "      <td>NaN</td>\n",
       "    </tr>\n",
       "    <tr>\n",
       "      <th>37</th>\n",
       "      <td>Bicske</td>\n",
       "      <td>NaN</td>\n",
       "    </tr>\n",
       "    <tr>\n",
       "      <th>38</th>\n",
       "      <td>Biharkeresztes</td>\n",
       "      <td>NaN</td>\n",
       "    </tr>\n",
       "    <tr>\n",
       "      <th>40</th>\n",
       "      <td>Bóly</td>\n",
       "      <td>NaN</td>\n",
       "    </tr>\n",
       "    <tr>\n",
       "      <th>42</th>\n",
       "      <td>Borsodnádasd</td>\n",
       "      <td>NaN</td>\n",
       "    </tr>\n",
       "    <tr>\n",
       "      <th>43</th>\n",
       "      <td>Budakalász</td>\n",
       "      <td>NaN</td>\n",
       "    </tr>\n",
       "    <tr>\n",
       "      <th>...</th>\n",
       "      <td>...</td>\n",
       "      <td>...</td>\n",
       "    </tr>\n",
       "    <tr>\n",
       "      <th>271</th>\n",
       "      <td>Szob</td>\n",
       "      <td>NaN</td>\n",
       "    </tr>\n",
       "    <tr>\n",
       "      <th>274</th>\n",
       "      <td>Tápiószele</td>\n",
       "      <td>NaN</td>\n",
       "    </tr>\n",
       "    <tr>\n",
       "      <th>276</th>\n",
       "      <td>Tát</td>\n",
       "      <td>NaN</td>\n",
       "    </tr>\n",
       "    <tr>\n",
       "      <th>278</th>\n",
       "      <td>Téglás</td>\n",
       "      <td>NaN</td>\n",
       "    </tr>\n",
       "    <tr>\n",
       "      <th>279</th>\n",
       "      <td>Tét</td>\n",
       "      <td>NaN</td>\n",
       "    </tr>\n",
       "    <tr>\n",
       "      <th>280</th>\n",
       "      <td>Tiszacsege</td>\n",
       "      <td>NaN</td>\n",
       "    </tr>\n",
       "    <tr>\n",
       "      <th>289</th>\n",
       "      <td>Tompa</td>\n",
       "      <td>NaN</td>\n",
       "    </tr>\n",
       "    <tr>\n",
       "      <th>291</th>\n",
       "      <td>Tököl</td>\n",
       "      <td>NaN</td>\n",
       "    </tr>\n",
       "    <tr>\n",
       "      <th>294</th>\n",
       "      <td>Tura</td>\n",
       "      <td>NaN</td>\n",
       "    </tr>\n",
       "    <tr>\n",
       "      <th>295</th>\n",
       "      <td>Túrkeve</td>\n",
       "      <td>NaN</td>\n",
       "    </tr>\n",
       "    <tr>\n",
       "      <th>296</th>\n",
       "      <td>Újfehértó</td>\n",
       "      <td>NaN</td>\n",
       "    </tr>\n",
       "    <tr>\n",
       "      <th>297</th>\n",
       "      <td>Újhartyán</td>\n",
       "      <td>NaN</td>\n",
       "    </tr>\n",
       "    <tr>\n",
       "      <th>298</th>\n",
       "      <td>Újkígyós</td>\n",
       "      <td>NaN</td>\n",
       "    </tr>\n",
       "    <tr>\n",
       "      <th>300</th>\n",
       "      <td>Üllő</td>\n",
       "      <td>NaN</td>\n",
       "    </tr>\n",
       "    <tr>\n",
       "      <th>302</th>\n",
       "      <td>Vaja</td>\n",
       "      <td>NaN</td>\n",
       "    </tr>\n",
       "    <tr>\n",
       "      <th>303</th>\n",
       "      <td>Vámospércs</td>\n",
       "      <td>NaN</td>\n",
       "    </tr>\n",
       "    <tr>\n",
       "      <th>306</th>\n",
       "      <td>Vasvár</td>\n",
       "      <td>NaN</td>\n",
       "    </tr>\n",
       "    <tr>\n",
       "      <th>307</th>\n",
       "      <td>Vecsés</td>\n",
       "      <td>NaN</td>\n",
       "    </tr>\n",
       "    <tr>\n",
       "      <th>308</th>\n",
       "      <td>Velence</td>\n",
       "      <td>NaN</td>\n",
       "    </tr>\n",
       "    <tr>\n",
       "      <th>309</th>\n",
       "      <td>Vép</td>\n",
       "      <td>NaN</td>\n",
       "    </tr>\n",
       "    <tr>\n",
       "      <th>310</th>\n",
       "      <td>Veresegyház</td>\n",
       "      <td>NaN</td>\n",
       "    </tr>\n",
       "    <tr>\n",
       "      <th>311</th>\n",
       "      <td>Verpelét</td>\n",
       "      <td>NaN</td>\n",
       "    </tr>\n",
       "    <tr>\n",
       "      <th>312</th>\n",
       "      <td>Vésztő</td>\n",
       "      <td>NaN</td>\n",
       "    </tr>\n",
       "    <tr>\n",
       "      <th>313</th>\n",
       "      <td>Villány</td>\n",
       "      <td>NaN</td>\n",
       "    </tr>\n",
       "    <tr>\n",
       "      <th>314</th>\n",
       "      <td>Visegrád</td>\n",
       "      <td>NaN</td>\n",
       "    </tr>\n",
       "    <tr>\n",
       "      <th>315</th>\n",
       "      <td>Záhony</td>\n",
       "      <td>NaN</td>\n",
       "    </tr>\n",
       "    <tr>\n",
       "      <th>316</th>\n",
       "      <td>Zalakaros</td>\n",
       "      <td>NaN</td>\n",
       "    </tr>\n",
       "    <tr>\n",
       "      <th>317</th>\n",
       "      <td>Zalalövő</td>\n",
       "      <td>NaN</td>\n",
       "    </tr>\n",
       "    <tr>\n",
       "      <th>319</th>\n",
       "      <td>Zamárdi</td>\n",
       "      <td>NaN</td>\n",
       "    </tr>\n",
       "    <tr>\n",
       "      <th>321</th>\n",
       "      <td>Zsámbék</td>\n",
       "      <td>NaN</td>\n",
       "    </tr>\n",
       "  </tbody>\n",
       "</table>\n",
       "<p>191 rows × 2 columns</p>\n",
       "</div>"
      ],
      "text/plain": [
       "    Helység megnevezése intézmény városa\n",
       "0                   Aba              NaN\n",
       "1            Abádszalók              NaN\n",
       "2           Abaújszántó              NaN\n",
       "3                 Abony              NaN\n",
       "4                   Ács              NaN\n",
       "5                 Adony              NaN\n",
       "6                  Ajak              NaN\n",
       "8            Albertirsa              NaN\n",
       "9            Alsózsolca              NaN\n",
       "11              Bábolna              NaN\n",
       "13       Badacsonytomaj              NaN\n",
       "15      Baktalórántháza              NaN\n",
       "19       Balatonföldvár              NaN\n",
       "21         Balatonfűzfő              NaN\n",
       "22        Balatonkenese              NaN\n",
       "23         Balatonlelle              NaN\n",
       "24              Balkány              NaN\n",
       "25        Balmazújváros              NaN\n",
       "28        Bátonyterenye              NaN\n",
       "29             Battonya              NaN\n",
       "31         Bélapátfalva              NaN\n",
       "32                Beled              NaN\n",
       "34              Berhida              NaN\n",
       "35           Besenyszög              NaN\n",
       "36           Biatorbágy              NaN\n",
       "37               Bicske              NaN\n",
       "38       Biharkeresztes              NaN\n",
       "40                 Bóly              NaN\n",
       "42         Borsodnádasd              NaN\n",
       "43           Budakalász              NaN\n",
       "..                  ...              ...\n",
       "271                Szob              NaN\n",
       "274          Tápiószele              NaN\n",
       "276                 Tát              NaN\n",
       "278              Téglás              NaN\n",
       "279                 Tét              NaN\n",
       "280          Tiszacsege              NaN\n",
       "289               Tompa              NaN\n",
       "291               Tököl              NaN\n",
       "294                Tura              NaN\n",
       "295             Túrkeve              NaN\n",
       "296           Újfehértó              NaN\n",
       "297           Újhartyán              NaN\n",
       "298            Újkígyós              NaN\n",
       "300                Üllő              NaN\n",
       "302                Vaja              NaN\n",
       "303          Vámospércs              NaN\n",
       "306              Vasvár              NaN\n",
       "307              Vecsés              NaN\n",
       "308             Velence              NaN\n",
       "309                 Vép              NaN\n",
       "310         Veresegyház              NaN\n",
       "311            Verpelét              NaN\n",
       "312              Vésztő              NaN\n",
       "313             Villány              NaN\n",
       "314            Visegrád              NaN\n",
       "315              Záhony              NaN\n",
       "316           Zalakaros              NaN\n",
       "317            Zalalövő              NaN\n",
       "319             Zamárdi              NaN\n",
       "321             Zsámbék              NaN\n",
       "\n",
       "[191 rows x 2 columns]"
      ]
     },
     "execution_count": 20,
     "metadata": {},
     "output_type": "execute_result"
    }
   ],
   "source": [
    "lj[pd.isnull(lj['intézmény városa'])]"
   ]
  },
  {
   "cell_type": "markdown",
   "metadata": {
    "collapsed": true,
    "deletable": true,
    "editable": true
   },
   "source": [
    "#### További join lehetőségek:\n",
    "- Right outer (minden jobb sor)\n",
    "- Full outer (minden bal es jobb sor)\n",
    "- Cross join, Descartes-szorzat ( pandasban csak hekkelve)\n",
    "\n",
    "#### Gyengeségek:\n",
    "- Csak konrét azonos értekekkel lehet joinolni, nem lehet olyat mondani, hogy azokat add vissza, ahol A táblázat x oszlopának abszolút értéke B táblázat y oszlopának abszolútétéke között a különbség kisebb mint 5. Pedig ez SQL-ben triviális. (Ha ilyesmire van szükségünk, forduljunk az sqlite-csomagohoz.)"
   ]
  },
  {
   "cell_type": "markdown",
   "metadata": {
    "deletable": true,
    "editable": true
   },
   "source": [
    "## Contains"
   ]
  },
  {
   "cell_type": "markdown",
   "metadata": {
    "deletable": true,
    "editable": true
   },
   "source": [
    "Ha egy stringeket tartalmazó oszlopban végig kell néznünk, hogy megvan-e valamilyen karaktersorozat:"
   ]
  },
  {
   "cell_type": "code",
   "execution_count": 21,
   "metadata": {
    "collapsed": false,
    "deletable": true,
    "editable": true,
    "scrolled": true
   },
   "outputs": [
    {
     "data": {
      "text/plain": [
       "21602     Budaörs\n",
       "21631     Budaörs\n",
       "21632    Budapest\n",
       "21642     Budaörs\n",
       "21643     Budaörs\n",
       "Name: intézmény városa, dtype: object"
      ]
     },
     "execution_count": 21,
     "metadata": {},
     "output_type": "execute_result"
    }
   ],
   "source": [
    "df[df[\"intézmény városa\"].str.contains(\"Buda\")].tail()['intézmény városa']"
   ]
  },
  {
   "cell_type": "markdown",
   "metadata": {
    "deletable": true,
    "editable": true
   },
   "source": [
    "## Apply"
   ]
  },
  {
   "cell_type": "markdown",
   "metadata": {
    "deletable": true,
    "editable": true
   },
   "source": [
    "Ha egy tetszőleges függvényt szeretnénk egy oszlop minden egyes elemére alkalmazni, megtehetjük az `apply` segítségével. Az apply belsejébe írjuk a függvényt, amit alkalmazni szeretnénk.\n",
    "\n",
    "Elsőként például készítünk egy függvényt, ami egy számhoz hozzáad egyet:"
   ]
  },
  {
   "cell_type": "code",
   "execution_count": 22,
   "metadata": {
    "collapsed": true,
    "deletable": true,
    "editable": true
   },
   "outputs": [],
   "source": [
    "def hozzaad(x):\n",
    "    return x+1"
   ]
  },
  {
   "cell_type": "markdown",
   "metadata": {
    "deletable": true,
    "editable": true
   },
   "source": [
    "Ezek után építsük lakásokat."
   ]
  },
  {
   "cell_type": "code",
   "execution_count": 23,
   "metadata": {
    "collapsed": false,
    "deletable": true,
    "editable": true
   },
   "outputs": [
    {
     "data": {
      "text/plain": [
       "0    1546\n",
       "1    2038\n",
       "2     241\n",
       "3    1188\n",
       "4      58\n",
       "Name: Lakások száma, dtype: int64"
      ]
     },
     "execution_count": 23,
     "metadata": {},
     "output_type": "execute_result"
    }
   ],
   "source": [
    "h['Lakások száma'].head()"
   ]
  },
  {
   "cell_type": "code",
   "execution_count": 24,
   "metadata": {
    "collapsed": false,
    "deletable": true,
    "editable": true
   },
   "outputs": [
    {
     "data": {
      "text/plain": [
       "0    1547\n",
       "1    2039\n",
       "2     242\n",
       "3    1189\n",
       "4      59\n",
       "Name: Lakások száma, dtype: int64"
      ]
     },
     "execution_count": 24,
     "metadata": {},
     "output_type": "execute_result"
    }
   ],
   "source": [
    "h['Lakások száma'].apply(hozzaad).head()"
   ]
  },
  {
   "cell_type": "markdown",
   "metadata": {
    "deletable": true,
    "editable": true
   },
   "source": [
    "Az apply-t is lehet soronként is végeztetni az `axis=1` kulcsszó segítségével. Például írjuk meg kézzel azt a (lassú) függvényt, ami a sor-t lenormálja a sor összegével."
   ]
  },
  {
   "cell_type": "code",
   "execution_count": 25,
   "metadata": {
    "collapsed": true,
    "deletable": true,
    "editable": true
   },
   "outputs": [],
   "source": [
    "def norm(sor):\n",
    "    return sor/sor.sum()"
   ]
  },
  {
   "cell_type": "code",
   "execution_count": 26,
   "metadata": {
    "collapsed": false,
    "deletable": true,
    "editable": true
   },
   "outputs": [
    {
     "data": {
      "text/html": [
       "<div>\n",
       "<table border=\"1\" class=\"dataframe\">\n",
       "  <thead>\n",
       "    <tr style=\"text-align: right;\">\n",
       "      <th></th>\n",
       "      <th>írásbeli pontszám</th>\n",
       "      <th>szóbeli pontszám</th>\n",
       "    </tr>\n",
       "  </thead>\n",
       "  <tbody>\n",
       "    <tr>\n",
       "      <th>0</th>\n",
       "      <td>NaN</td>\n",
       "      <td>NaN</td>\n",
       "    </tr>\n",
       "    <tr>\n",
       "      <th>1</th>\n",
       "      <td>NaN</td>\n",
       "      <td>NaN</td>\n",
       "    </tr>\n",
       "    <tr>\n",
       "      <th>2</th>\n",
       "      <td>0.589041</td>\n",
       "      <td>0.410959</td>\n",
       "    </tr>\n",
       "    <tr>\n",
       "      <th>3</th>\n",
       "      <td>0.377049</td>\n",
       "      <td>0.622951</td>\n",
       "    </tr>\n",
       "    <tr>\n",
       "      <th>4</th>\n",
       "      <td>0.523810</td>\n",
       "      <td>0.476190</td>\n",
       "    </tr>\n",
       "  </tbody>\n",
       "</table>\n",
       "</div>"
      ],
      "text/plain": [
       "   írásbeli pontszám  szóbeli pontszám\n",
       "0                NaN               NaN\n",
       "1                NaN               NaN\n",
       "2           0.589041          0.410959\n",
       "3           0.377049          0.622951\n",
       "4           0.523810          0.476190"
      ]
     },
     "execution_count": 26,
     "metadata": {},
     "output_type": "execute_result"
    }
   ],
   "source": [
    "df[['írásbeli pontszám','szóbeli pontszám']].apply(norm,axis=1).head()"
   ]
  },
  {
   "cell_type": "markdown",
   "metadata": {
    "deletable": true,
    "editable": true
   },
   "source": [
    "## Pivot"
   ]
  },
  {
   "cell_type": "markdown",
   "metadata": {
    "deletable": true,
    "editable": true
   },
   "source": [
    "Az eredetileg oszlopként szerelő értékek szerint csoportosíthatjuk, és újrarendezhetjük a táblázatot. ( Hosszú formájú tábálázatból, ami egyedi rekordokat tartalmaz, széles formájú táblázatot készítünk. )"
   ]
  },
  {
   "cell_type": "markdown",
   "metadata": {
    "deletable": true,
    "editable": true
   },
   "source": [
    "Készítsük el minden megyére az írásbeli pontszámok mediánjának alakulását az évek során."
   ]
  },
  {
   "cell_type": "code",
   "execution_count": 27,
   "metadata": {
    "collapsed": false,
    "deletable": true,
    "editable": true
   },
   "outputs": [
    {
     "data": {
      "text/html": [
       "<div>\n",
       "<table border=\"1\" class=\"dataframe\">\n",
       "  <thead>\n",
       "    <tr style=\"text-align: right;\">\n",
       "      <th>év</th>\n",
       "      <th>2011</th>\n",
       "      <th>2012</th>\n",
       "      <th>2013</th>\n",
       "      <th>2014</th>\n",
       "      <th>2015</th>\n",
       "    </tr>\n",
       "    <tr>\n",
       "      <th>intézmény megyéje</th>\n",
       "      <th></th>\n",
       "      <th></th>\n",
       "      <th></th>\n",
       "      <th></th>\n",
       "      <th></th>\n",
       "    </tr>\n",
       "  </thead>\n",
       "  <tbody>\n",
       "    <tr>\n",
       "      <th>Baranya</th>\n",
       "      <td>83.0</td>\n",
       "      <td>54.0</td>\n",
       "      <td>57.0</td>\n",
       "      <td>55.0</td>\n",
       "      <td>53</td>\n",
       "    </tr>\n",
       "    <tr>\n",
       "      <th>Borsod-Abaúj-Zemplén</th>\n",
       "      <td>67.5</td>\n",
       "      <td>51.0</td>\n",
       "      <td>58.0</td>\n",
       "      <td>54.0</td>\n",
       "      <td>52</td>\n",
       "    </tr>\n",
       "    <tr>\n",
       "      <th>Budapest</th>\n",
       "      <td>74.0</td>\n",
       "      <td>59.0</td>\n",
       "      <td>60.0</td>\n",
       "      <td>61.0</td>\n",
       "      <td>61</td>\n",
       "    </tr>\n",
       "    <tr>\n",
       "      <th>Bács-Kiskun</th>\n",
       "      <td>77.5</td>\n",
       "      <td>49.5</td>\n",
       "      <td>55.0</td>\n",
       "      <td>56.5</td>\n",
       "      <td>54</td>\n",
       "    </tr>\n",
       "    <tr>\n",
       "      <th>Békés</th>\n",
       "      <td>78.0</td>\n",
       "      <td>42.0</td>\n",
       "      <td>50.0</td>\n",
       "      <td>47.0</td>\n",
       "      <td>50</td>\n",
       "    </tr>\n",
       "    <tr>\n",
       "      <th>Csongrád</th>\n",
       "      <td>78.0</td>\n",
       "      <td>53.0</td>\n",
       "      <td>59.0</td>\n",
       "      <td>59.0</td>\n",
       "      <td>56</td>\n",
       "    </tr>\n",
       "    <tr>\n",
       "      <th>Fejér</th>\n",
       "      <td>79.5</td>\n",
       "      <td>47.0</td>\n",
       "      <td>57.0</td>\n",
       "      <td>51.5</td>\n",
       "      <td>48</td>\n",
       "    </tr>\n",
       "    <tr>\n",
       "      <th>Gyõr-Moson-Sopron</th>\n",
       "      <td>81.0</td>\n",
       "      <td>52.0</td>\n",
       "      <td>59.0</td>\n",
       "      <td>63.0</td>\n",
       "      <td>56</td>\n",
       "    </tr>\n",
       "    <tr>\n",
       "      <th>Hajdú-Bihar</th>\n",
       "      <td>68.5</td>\n",
       "      <td>42.0</td>\n",
       "      <td>55.0</td>\n",
       "      <td>54.0</td>\n",
       "      <td>57</td>\n",
       "    </tr>\n",
       "    <tr>\n",
       "      <th>Heves</th>\n",
       "      <td>43.0</td>\n",
       "      <td>42.0</td>\n",
       "      <td>48.0</td>\n",
       "      <td>48.0</td>\n",
       "      <td>50</td>\n",
       "    </tr>\n",
       "    <tr>\n",
       "      <th>Jász-Nagykun-Szolnok</th>\n",
       "      <td>40.0</td>\n",
       "      <td>39.0</td>\n",
       "      <td>54.0</td>\n",
       "      <td>52.0</td>\n",
       "      <td>51</td>\n",
       "    </tr>\n",
       "    <tr>\n",
       "      <th>Komárom-Esztergom</th>\n",
       "      <td>75.0</td>\n",
       "      <td>56.0</td>\n",
       "      <td>60.0</td>\n",
       "      <td>57.0</td>\n",
       "      <td>55</td>\n",
       "    </tr>\n",
       "    <tr>\n",
       "      <th>Nógrád</th>\n",
       "      <td>67.5</td>\n",
       "      <td>49.0</td>\n",
       "      <td>63.0</td>\n",
       "      <td>55.0</td>\n",
       "      <td>46</td>\n",
       "    </tr>\n",
       "    <tr>\n",
       "      <th>Pest</th>\n",
       "      <td>67.0</td>\n",
       "      <td>55.0</td>\n",
       "      <td>63.0</td>\n",
       "      <td>60.0</td>\n",
       "      <td>55</td>\n",
       "    </tr>\n",
       "    <tr>\n",
       "      <th>Somogy</th>\n",
       "      <td>76.0</td>\n",
       "      <td>60.0</td>\n",
       "      <td>56.5</td>\n",
       "      <td>53.5</td>\n",
       "      <td>56</td>\n",
       "    </tr>\n",
       "    <tr>\n",
       "      <th>Szabolcs-Szatmár-Bereg</th>\n",
       "      <td>53.0</td>\n",
       "      <td>40.0</td>\n",
       "      <td>45.0</td>\n",
       "      <td>43.0</td>\n",
       "      <td>49</td>\n",
       "    </tr>\n",
       "    <tr>\n",
       "      <th>Tolna</th>\n",
       "      <td>66.0</td>\n",
       "      <td>46.0</td>\n",
       "      <td>51.0</td>\n",
       "      <td>49.0</td>\n",
       "      <td>54</td>\n",
       "    </tr>\n",
       "    <tr>\n",
       "      <th>Vas</th>\n",
       "      <td>82.5</td>\n",
       "      <td>42.0</td>\n",
       "      <td>60.0</td>\n",
       "      <td>53.5</td>\n",
       "      <td>53</td>\n",
       "    </tr>\n",
       "    <tr>\n",
       "      <th>Veszprém</th>\n",
       "      <td>72.0</td>\n",
       "      <td>54.5</td>\n",
       "      <td>56.0</td>\n",
       "      <td>58.0</td>\n",
       "      <td>58</td>\n",
       "    </tr>\n",
       "    <tr>\n",
       "      <th>Zala</th>\n",
       "      <td>84.0</td>\n",
       "      <td>54.0</td>\n",
       "      <td>64.0</td>\n",
       "      <td>59.0</td>\n",
       "      <td>57</td>\n",
       "    </tr>\n",
       "  </tbody>\n",
       "</table>\n",
       "</div>"
      ],
      "text/plain": [
       "év                      2011  2012  2013  2014  2015\n",
       "intézmény megyéje                                   \n",
       "Baranya                 83.0  54.0  57.0  55.0    53\n",
       "Borsod-Abaúj-Zemplén    67.5  51.0  58.0  54.0    52\n",
       "Budapest                74.0  59.0  60.0  61.0    61\n",
       "Bács-Kiskun             77.5  49.5  55.0  56.5    54\n",
       "Békés                   78.0  42.0  50.0  47.0    50\n",
       "Csongrád                78.0  53.0  59.0  59.0    56\n",
       "Fejér                   79.5  47.0  57.0  51.5    48\n",
       "Gyõr-Moson-Sopron       81.0  52.0  59.0  63.0    56\n",
       "Hajdú-Bihar             68.5  42.0  55.0  54.0    57\n",
       "Heves                   43.0  42.0  48.0  48.0    50\n",
       "Jász-Nagykun-Szolnok    40.0  39.0  54.0  52.0    51\n",
       "Komárom-Esztergom       75.0  56.0  60.0  57.0    55\n",
       "Nógrád                  67.5  49.0  63.0  55.0    46\n",
       "Pest                    67.0  55.0  63.0  60.0    55\n",
       "Somogy                  76.0  60.0  56.5  53.5    56\n",
       "Szabolcs-Szatmár-Bereg  53.0  40.0  45.0  43.0    49\n",
       "Tolna                   66.0  46.0  51.0  49.0    54\n",
       "Vas                     82.5  42.0  60.0  53.5    53\n",
       "Veszprém                72.0  54.5  56.0  58.0    58\n",
       "Zala                    84.0  54.0  64.0  59.0    57"
      ]
     },
     "execution_count": 27,
     "metadata": {},
     "output_type": "execute_result"
    }
   ],
   "source": [
    "df.pivot_table(values='írásbeli pontszám',\n",
    "               columns='év',\n",
    "               index='intézmény megyéje',\n",
    "               aggfunc=np.median)"
   ]
  }
 ],
 "metadata": {
  "anaconda-cloud": {},
  "hide_input": false,
  "kernelspec": {
   "display_name": "Python 3",
   "language": "python",
   "name": "python3"
  },
  "language_info": {
   "codemirror_mode": {
    "name": "ipython",
    "version": 3
   },
   "file_extension": ".py",
   "mimetype": "text/x-python",
   "name": "python",
   "nbconvert_exporter": "python",
   "pygments_lexer": "ipython3",
   "version": "3.5.2"
  },
  "toc": {
   "toc_cell": false,
   "toc_number_sections": false,
   "toc_section_display": "block",
   "toc_threshold": 6,
   "toc_window_display": false
  }
 },
 "nbformat": 4,
 "nbformat_minor": 0
}
