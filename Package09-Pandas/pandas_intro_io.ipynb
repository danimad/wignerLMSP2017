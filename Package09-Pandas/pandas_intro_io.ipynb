{
 "cells": [
  {
   "cell_type": "markdown",
   "metadata": {
    "deletable": true,
    "editable": true
   },
   "source": [
    "# Adatok elérése, a DataFrame adatszerkezet, fájlok be- és kiolvasása"
   ]
  },
  {
   "cell_type": "markdown",
   "metadata": {},
   "source": [
    "A `pandas` csomagot a szokásos `import` szintxissal töltjük be:"
   ]
  },
  {
   "cell_type": "code",
   "execution_count": 1,
   "metadata": {
    "collapsed": true,
    "deletable": true,
    "editable": true
   },
   "outputs": [],
   "source": [
    "import pandas as pd"
   ]
  },
  {
   "cell_type": "markdown",
   "metadata": {
    "deletable": true,
    "editable": true
   },
   "source": [
    "Egy szöveges táblázatot a read_csv nevű függvénnyel olvashatunk be. A kapott táblázat egy DataFrame típusú objektum lesz."
   ]
  },
  {
   "cell_type": "code",
   "execution_count": 2,
   "metadata": {
    "collapsed": false,
    "deletable": true,
    "editable": true
   },
   "outputs": [],
   "source": [
    "df = pd.read_csv(\"data/kisnevsor.csv\")"
   ]
  },
  {
   "cell_type": "code",
   "execution_count": 3,
   "metadata": {
    "collapsed": false,
    "deletable": true,
    "editable": true
   },
   "outputs": [
    {
     "data": {
      "text/plain": [
       "pandas.core.frame.DataFrame"
      ]
     },
     "execution_count": 3,
     "metadata": {},
     "output_type": "execute_result"
    }
   ],
   "source": [
    "type(df)"
   ]
  },
  {
   "cell_type": "markdown",
   "metadata": {
    "deletable": true,
    "editable": true
   },
   "source": [
    "Ha csak kiírajtuk a táblázatot, akkor egy kellemesen formázott nézetet kapunk.\n",
    "- Az első sorban az oszlopok nevei vannak.\n",
    "- Az első oszlopban a sorok azonosítói, az úgynevezett indexek vannak.\n",
    "- A táblázat maradék részében pedig az adatok foglalnak helyet."
   ]
  },
  {
   "cell_type": "code",
   "execution_count": 4,
   "metadata": {
    "collapsed": false,
    "deletable": true,
    "editable": true
   },
   "outputs": [
    {
     "data": {
      "text/html": [
       "<div>\n",
       "<table border=\"1\" class=\"dataframe\">\n",
       "  <thead>\n",
       "    <tr style=\"text-align: right;\">\n",
       "      <th></th>\n",
       "      <th>Név</th>\n",
       "      <th>Eszter</th>\n",
       "      <th>Orsi</th>\n",
       "      <th>Nem</th>\n",
       "      <th>Kor</th>\n",
       "      <th>Dátum</th>\n",
       "    </tr>\n",
       "  </thead>\n",
       "  <tbody>\n",
       "    <tr>\n",
       "      <th>0</th>\n",
       "      <td>Bálint</td>\n",
       "      <td>2</td>\n",
       "      <td>.</td>\n",
       "      <td>fiú</td>\n",
       "      <td>20</td>\n",
       "      <td>12:31</td>\n",
       "    </tr>\n",
       "    <tr>\n",
       "      <th>1</th>\n",
       "      <td>Csenge</td>\n",
       "      <td>4</td>\n",
       "      <td>4</td>\n",
       "      <td>lány</td>\n",
       "      <td>22</td>\n",
       "      <td>13:20</td>\n",
       "    </tr>\n",
       "    <tr>\n",
       "      <th>2</th>\n",
       "      <td>István</td>\n",
       "      <td>5</td>\n",
       "      <td>4</td>\n",
       "      <td>fiú</td>\n",
       "      <td>19</td>\n",
       "      <td>12:35</td>\n",
       "    </tr>\n",
       "    <tr>\n",
       "      <th>3</th>\n",
       "      <td>Zita</td>\n",
       "      <td>3</td>\n",
       "      <td>5</td>\n",
       "      <td>lány</td>\n",
       "      <td>20</td>\n",
       "      <td>14:50</td>\n",
       "    </tr>\n",
       "    <tr>\n",
       "      <th>4</th>\n",
       "      <td>Károly</td>\n",
       "      <td>4</td>\n",
       "      <td>.</td>\n",
       "      <td>fiú</td>\n",
       "      <td>21</td>\n",
       "      <td>14:55</td>\n",
       "    </tr>\n",
       "  </tbody>\n",
       "</table>\n",
       "</div>"
      ],
      "text/plain": [
       "      Név  Eszter Orsi   Nem  Kor  Dátum\n",
       "0  Bálint       2    .   fiú   20  12:31\n",
       "1  Csenge       4    4  lány   22  13:20\n",
       "2  István       5    4   fiú   19  12:35\n",
       "3    Zita       3    5  lány   20  14:50\n",
       "4  Károly       4    .   fiú   21  14:55"
      ]
     },
     "execution_count": 4,
     "metadata": {},
     "output_type": "execute_result"
    }
   ],
   "source": [
    "df"
   ]
  },
  {
   "cell_type": "markdown",
   "metadata": {
    "deletable": true,
    "editable": true
   },
   "source": [
    "A táblázat egy oszlopát a nevének megadásával érhetjük el legegyszerűbben, mintha (sőt, ténylegesen) egy dictionary egyik elemét szeretnénk elérni."
   ]
  },
  {
   "cell_type": "code",
   "execution_count": 5,
   "metadata": {
    "collapsed": false,
    "deletable": true,
    "editable": true
   },
   "outputs": [
    {
     "data": {
      "text/plain": [
       "0    2\n",
       "1    4\n",
       "2    5\n",
       "3    3\n",
       "4    4\n",
       "Name: Eszter, dtype: int64"
      ]
     },
     "execution_count": 5,
     "metadata": {},
     "output_type": "execute_result"
    }
   ],
   "source": [
    "df['Eszter']"
   ]
  },
  {
   "cell_type": "markdown",
   "metadata": {
    "deletable": true,
    "editable": true
   },
   "source": [
    "Az oszlopokat egy összetett objektumként kapjuk vissza, ami még tartalmazza az indexet és az oszlop nevét is. Ennek a neve Series."
   ]
  },
  {
   "cell_type": "code",
   "execution_count": 6,
   "metadata": {
    "collapsed": false,
    "deletable": true,
    "editable": true
   },
   "outputs": [
    {
     "data": {
      "text/plain": [
       "pandas.core.series.Series"
      ]
     },
     "execution_count": 6,
     "metadata": {},
     "output_type": "execute_result"
    }
   ],
   "source": [
    "type(df['Eszter'])"
   ]
  },
  {
   "cell_type": "markdown",
   "metadata": {
    "deletable": true,
    "editable": true
   },
   "source": [
    "Legtöbb számításkor ezekkel az objektumokkal is dolgozhatunk a numpy arrayekhez hasonlóan."
   ]
  },
  {
   "cell_type": "code",
   "execution_count": 7,
   "metadata": {
    "collapsed": false,
    "deletable": true,
    "editable": true
   },
   "outputs": [
    {
     "data": {
      "text/plain": [
       "0     4\n",
       "1    16\n",
       "2    25\n",
       "3     9\n",
       "4    16\n",
       "Name: Eszter, dtype: int64"
      ]
     },
     "execution_count": 7,
     "metadata": {},
     "output_type": "execute_result"
    }
   ],
   "source": [
    "df['Eszter']**2"
   ]
  },
  {
   "cell_type": "markdown",
   "metadata": {
    "deletable": true,
    "editable": true
   },
   "source": [
    "De lekérhetjük magát az adatokat tároló numpy tömböt is."
   ]
  },
  {
   "cell_type": "code",
   "execution_count": 8,
   "metadata": {
    "collapsed": false,
    "deletable": true,
    "editable": true
   },
   "outputs": [
    {
     "data": {
      "text/plain": [
       "array([2, 4, 5, 3, 4])"
      ]
     },
     "execution_count": 8,
     "metadata": {},
     "output_type": "execute_result"
    }
   ],
   "source": [
    "df['Eszter'].values"
   ]
  },
  {
   "cell_type": "markdown",
   "metadata": {
    "deletable": true,
    "editable": true
   },
   "source": [
    "További elérést tesz lehetővé a loc konstrukció, amivel oszlopokat és sorokat is elkérhetünk a neveik alapján."
   ]
  },
  {
   "cell_type": "markdown",
   "metadata": {
    "deletable": true,
    "editable": true
   },
   "source": [
    "Oszlop"
   ]
  },
  {
   "cell_type": "code",
   "execution_count": 9,
   "metadata": {
    "collapsed": false,
    "deletable": true,
    "editable": true
   },
   "outputs": [
    {
     "data": {
      "text/plain": [
       "0    2\n",
       "1    4\n",
       "2    5\n",
       "3    3\n",
       "4    4\n",
       "Name: Eszter, dtype: int64"
      ]
     },
     "execution_count": 9,
     "metadata": {},
     "output_type": "execute_result"
    }
   ],
   "source": [
    "df.loc[:,'Eszter']"
   ]
  },
  {
   "cell_type": "markdown",
   "metadata": {
    "deletable": true,
    "editable": true
   },
   "source": [
    "Sor. A sorok is Series objektumok."
   ]
  },
  {
   "cell_type": "code",
   "execution_count": 10,
   "metadata": {
    "collapsed": false,
    "deletable": true,
    "editable": true
   },
   "outputs": [
    {
     "data": {
      "text/plain": [
       "Név       Csenge\n",
       "Eszter         4\n",
       "Orsi           4\n",
       "Nem         lány\n",
       "Kor           22\n",
       "Dátum      13:20\n",
       "Name: 1, dtype: object"
      ]
     },
     "execution_count": 10,
     "metadata": {},
     "output_type": "execute_result"
    }
   ],
   "source": [
    "df.loc[1,:]"
   ]
  },
  {
   "cell_type": "markdown",
   "metadata": {
    "deletable": true,
    "editable": true
   },
   "source": [
    "Egyetlen elemet pedig a következő módon érünk el."
   ]
  },
  {
   "cell_type": "code",
   "execution_count": 11,
   "metadata": {
    "collapsed": false,
    "deletable": true,
    "editable": true
   },
   "outputs": [
    {
     "data": {
      "text/plain": [
       "2"
      ]
     },
     "execution_count": 11,
     "metadata": {},
     "output_type": "execute_result"
    }
   ],
   "source": [
    "df.loc[0,'Eszter']"
   ]
  },
  {
   "cell_type": "markdown",
   "metadata": {
    "deletable": true,
    "editable": true
   },
   "source": [
    "Később még visszatérünk rá, hogy mi mindent lehet csinálni egy ilyen táblázattal. Most viszont nézzük a beolvasást!"
   ]
  },
  {
   "cell_type": "markdown",
   "metadata": {
    "deletable": true,
    "editable": true
   },
   "source": [
    "## Beolvasás"
   ]
  },
  {
   "cell_type": "markdown",
   "metadata": {
    "deletable": true,
    "editable": true
   },
   "source": [
    "## read_csv()"
   ]
  },
  {
   "cell_type": "markdown",
   "metadata": {
    "deletable": true,
    "editable": true
   },
   "source": [
    "A python nyelv talán leggyorsabb és legtöbb funkcionalitással rendelkező táblázatbeolvasó függvény a pandas modul read_csv függvénye.\n",
    "\n",
    "Most pár fontos paraméterét tekintjük át."
   ]
  },
  {
   "cell_type": "markdown",
   "metadata": {
    "deletable": true,
    "editable": true
   },
   "source": [
    "#### Értékelválasztó karakter:  `sep` .\n",
    "\n",
    "Legtöbbször vesszővel vagy tabulátorral elválasztott táblázatot (amit a `sep` kulcsszóval állíthatunk be, ha szükséges) olvasunk be egyszerű szövegfájlokból."
   ]
  },
  {
   "cell_type": "code",
   "execution_count": 12,
   "metadata": {
    "collapsed": false,
    "deletable": true,
    "editable": true
   },
   "outputs": [
    {
     "data": {
      "text/html": [
       "<div>\n",
       "<table border=\"1\" class=\"dataframe\">\n",
       "  <thead>\n",
       "    <tr style=\"text-align: right;\">\n",
       "      <th></th>\n",
       "      <th>Név</th>\n",
       "      <th>Eszter</th>\n",
       "      <th>Orsi</th>\n",
       "      <th>Nem</th>\n",
       "      <th>Kor</th>\n",
       "      <th>Dátum</th>\n",
       "    </tr>\n",
       "  </thead>\n",
       "  <tbody>\n",
       "    <tr>\n",
       "      <th>0</th>\n",
       "      <td>Bálint</td>\n",
       "      <td>2</td>\n",
       "      <td>.</td>\n",
       "      <td>fiú</td>\n",
       "      <td>20</td>\n",
       "      <td>12:31</td>\n",
       "    </tr>\n",
       "    <tr>\n",
       "      <th>1</th>\n",
       "      <td>Csenge</td>\n",
       "      <td>4</td>\n",
       "      <td>4</td>\n",
       "      <td>lány</td>\n",
       "      <td>22</td>\n",
       "      <td>13:20</td>\n",
       "    </tr>\n",
       "    <tr>\n",
       "      <th>2</th>\n",
       "      <td>István</td>\n",
       "      <td>5</td>\n",
       "      <td>4</td>\n",
       "      <td>fiú</td>\n",
       "      <td>19</td>\n",
       "      <td>12:35</td>\n",
       "    </tr>\n",
       "    <tr>\n",
       "      <th>3</th>\n",
       "      <td>Zita</td>\n",
       "      <td>3</td>\n",
       "      <td>5</td>\n",
       "      <td>lány</td>\n",
       "      <td>20</td>\n",
       "      <td>14:50</td>\n",
       "    </tr>\n",
       "    <tr>\n",
       "      <th>4</th>\n",
       "      <td>Károly</td>\n",
       "      <td>4</td>\n",
       "      <td>.</td>\n",
       "      <td>fiú</td>\n",
       "      <td>21</td>\n",
       "      <td>14:55</td>\n",
       "    </tr>\n",
       "  </tbody>\n",
       "</table>\n",
       "</div>"
      ],
      "text/plain": [
       "      Név  Eszter Orsi   Nem  Kor  Dátum\n",
       "0  Bálint       2    .   fiú   20  12:31\n",
       "1  Csenge       4    4  lány   22  13:20\n",
       "2  István       5    4   fiú   19  12:35\n",
       "3    Zita       3    5  lány   20  14:50\n",
       "4  Károly       4    .   fiú   21  14:55"
      ]
     },
     "execution_count": 12,
     "metadata": {},
     "output_type": "execute_result"
    }
   ],
   "source": [
    "df=pd.read_csv(\"data/kisnevsor.csv\",sep=',')\n",
    "df.head()"
   ]
  },
  {
   "cell_type": "markdown",
   "metadata": {
    "deletable": true,
    "editable": true
   },
   "source": [
    "Ha rosszul állítjuk be, akkor jellemzően minden sorunk egy értékből fog állni."
   ]
  },
  {
   "cell_type": "code",
   "execution_count": 13,
   "metadata": {
    "collapsed": false,
    "deletable": true,
    "editable": true
   },
   "outputs": [
    {
     "data": {
      "text/html": [
       "<div>\n",
       "<table border=\"1\" class=\"dataframe\">\n",
       "  <thead>\n",
       "    <tr style=\"text-align: right;\">\n",
       "      <th></th>\n",
       "      <th>Név,Eszter,Orsi,Nem,Kor,Dátum</th>\n",
       "    </tr>\n",
       "  </thead>\n",
       "  <tbody>\n",
       "    <tr>\n",
       "      <th>0</th>\n",
       "      <td>Bálint,2,.,fiú,20,12:31</td>\n",
       "    </tr>\n",
       "    <tr>\n",
       "      <th>1</th>\n",
       "      <td>Csenge,4,4,lány,22,13:20</td>\n",
       "    </tr>\n",
       "    <tr>\n",
       "      <th>2</th>\n",
       "      <td>István,5,4,fiú,19,12:35</td>\n",
       "    </tr>\n",
       "    <tr>\n",
       "      <th>3</th>\n",
       "      <td>Zita,3,5,lány,20,14:50</td>\n",
       "    </tr>\n",
       "    <tr>\n",
       "      <th>4</th>\n",
       "      <td>Károly,4,.,fiú,21,14:55</td>\n",
       "    </tr>\n",
       "  </tbody>\n",
       "</table>\n",
       "</div>"
      ],
      "text/plain": [
       "  Név,Eszter,Orsi,Nem,Kor,Dátum\n",
       "0       Bálint,2,.,fiú,20,12:31\n",
       "1      Csenge,4,4,lány,22,13:20\n",
       "2       István,5,4,fiú,19,12:35\n",
       "3        Zita,3,5,lány,20,14:50\n",
       "4       Károly,4,.,fiú,21,14:55"
      ]
     },
     "execution_count": 13,
     "metadata": {},
     "output_type": "execute_result"
    }
   ],
   "source": [
    "df=pd.read_csv(\"data/kisnevsor.csv\",sep=' ')\n",
    "df"
   ]
  },
  {
   "cell_type": "markdown",
   "metadata": {
    "deletable": true,
    "editable": true
   },
   "source": [
    "Vagy arra panaszkodik a függvény, hogy nem azonos számú oszlop van minden sorban."
   ]
  },
  {
   "cell_type": "code",
   "execution_count": 14,
   "metadata": {
    "collapsed": false,
    "deletable": true,
    "editable": true
   },
   "outputs": [
    {
     "ename": "CParserError",
     "evalue": "Error tokenizing data. C error: Expected 2 fields in line 3, saw 3\n",
     "output_type": "error",
     "traceback": [
      "\u001b[1;31m---------------------------------------------------------------------------\u001b[0m",
      "\u001b[1;31mCParserError\u001b[0m                              Traceback (most recent call last)",
      "\u001b[1;32m<ipython-input-14-e7a456668c06>\u001b[0m in \u001b[0;36m<module>\u001b[1;34m()\u001b[0m\n\u001b[1;32m----> 1\u001b[1;33m \u001b[0mdf\u001b[0m\u001b[1;33m=\u001b[0m\u001b[0mpd\u001b[0m\u001b[1;33m.\u001b[0m\u001b[0mread_csv\u001b[0m\u001b[1;33m(\u001b[0m\u001b[1;34m\"data/kisnevsor.csv\"\u001b[0m\u001b[1;33m,\u001b[0m\u001b[0msep\u001b[0m\u001b[1;33m=\u001b[0m\u001b[1;34m'n'\u001b[0m\u001b[1;33m)\u001b[0m\u001b[1;33m\u001b[0m\u001b[0m\n\u001b[0m",
      "\u001b[1;32m/opt/conda/lib/python3.5/site-packages/pandas/io/parsers.py\u001b[0m in \u001b[0;36mparser_f\u001b[1;34m(filepath_or_buffer, sep, dialect, compression, doublequote, escapechar, quotechar, quoting, skipinitialspace, lineterminator, header, index_col, names, prefix, skiprows, skipfooter, skip_footer, na_values, true_values, false_values, delimiter, converters, dtype, usecols, engine, delim_whitespace, as_recarray, na_filter, compact_ints, use_unsigned, low_memory, buffer_lines, warn_bad_lines, error_bad_lines, keep_default_na, thousands, comment, decimal, parse_dates, keep_date_col, dayfirst, date_parser, memory_map, float_precision, nrows, iterator, chunksize, verbose, encoding, squeeze, mangle_dupe_cols, tupleize_cols, infer_datetime_format, skip_blank_lines)\u001b[0m\n\u001b[0;32m    496\u001b[0m                     skip_blank_lines=skip_blank_lines)\n\u001b[0;32m    497\u001b[0m \u001b[1;33m\u001b[0m\u001b[0m\n\u001b[1;32m--> 498\u001b[1;33m         \u001b[1;32mreturn\u001b[0m \u001b[0m_read\u001b[0m\u001b[1;33m(\u001b[0m\u001b[0mfilepath_or_buffer\u001b[0m\u001b[1;33m,\u001b[0m \u001b[0mkwds\u001b[0m\u001b[1;33m)\u001b[0m\u001b[1;33m\u001b[0m\u001b[0m\n\u001b[0m\u001b[0;32m    499\u001b[0m \u001b[1;33m\u001b[0m\u001b[0m\n\u001b[0;32m    500\u001b[0m     \u001b[0mparser_f\u001b[0m\u001b[1;33m.\u001b[0m\u001b[0m__name__\u001b[0m \u001b[1;33m=\u001b[0m \u001b[0mname\u001b[0m\u001b[1;33m\u001b[0m\u001b[0m\n",
      "\u001b[1;32m/opt/conda/lib/python3.5/site-packages/pandas/io/parsers.py\u001b[0m in \u001b[0;36m_read\u001b[1;34m(filepath_or_buffer, kwds)\u001b[0m\n\u001b[0;32m    283\u001b[0m         \u001b[1;32mreturn\u001b[0m \u001b[0mparser\u001b[0m\u001b[1;33m\u001b[0m\u001b[0m\n\u001b[0;32m    284\u001b[0m \u001b[1;33m\u001b[0m\u001b[0m\n\u001b[1;32m--> 285\u001b[1;33m     \u001b[1;32mreturn\u001b[0m \u001b[0mparser\u001b[0m\u001b[1;33m.\u001b[0m\u001b[0mread\u001b[0m\u001b[1;33m(\u001b[0m\u001b[1;33m)\u001b[0m\u001b[1;33m\u001b[0m\u001b[0m\n\u001b[0m\u001b[0;32m    286\u001b[0m \u001b[1;33m\u001b[0m\u001b[0m\n\u001b[0;32m    287\u001b[0m _parser_defaults = {\n",
      "\u001b[1;32m/opt/conda/lib/python3.5/site-packages/pandas/io/parsers.py\u001b[0m in \u001b[0;36mread\u001b[1;34m(self, nrows)\u001b[0m\n\u001b[0;32m    745\u001b[0m                 \u001b[1;32mraise\u001b[0m \u001b[0mValueError\u001b[0m\u001b[1;33m(\u001b[0m\u001b[1;34m'skip_footer not supported for iteration'\u001b[0m\u001b[1;33m)\u001b[0m\u001b[1;33m\u001b[0m\u001b[0m\n\u001b[0;32m    746\u001b[0m \u001b[1;33m\u001b[0m\u001b[0m\n\u001b[1;32m--> 747\u001b[1;33m         \u001b[0mret\u001b[0m \u001b[1;33m=\u001b[0m \u001b[0mself\u001b[0m\u001b[1;33m.\u001b[0m\u001b[0m_engine\u001b[0m\u001b[1;33m.\u001b[0m\u001b[0mread\u001b[0m\u001b[1;33m(\u001b[0m\u001b[0mnrows\u001b[0m\u001b[1;33m)\u001b[0m\u001b[1;33m\u001b[0m\u001b[0m\n\u001b[0m\u001b[0;32m    748\u001b[0m \u001b[1;33m\u001b[0m\u001b[0m\n\u001b[0;32m    749\u001b[0m         \u001b[1;32mif\u001b[0m \u001b[0mself\u001b[0m\u001b[1;33m.\u001b[0m\u001b[0moptions\u001b[0m\u001b[1;33m.\u001b[0m\u001b[0mget\u001b[0m\u001b[1;33m(\u001b[0m\u001b[1;34m'as_recarray'\u001b[0m\u001b[1;33m)\u001b[0m\u001b[1;33m:\u001b[0m\u001b[1;33m\u001b[0m\u001b[0m\n",
      "\u001b[1;32m/opt/conda/lib/python3.5/site-packages/pandas/io/parsers.py\u001b[0m in \u001b[0;36mread\u001b[1;34m(self, nrows)\u001b[0m\n\u001b[0;32m   1195\u001b[0m     \u001b[1;32mdef\u001b[0m \u001b[0mread\u001b[0m\u001b[1;33m(\u001b[0m\u001b[0mself\u001b[0m\u001b[1;33m,\u001b[0m \u001b[0mnrows\u001b[0m\u001b[1;33m=\u001b[0m\u001b[1;32mNone\u001b[0m\u001b[1;33m)\u001b[0m\u001b[1;33m:\u001b[0m\u001b[1;33m\u001b[0m\u001b[0m\n\u001b[0;32m   1196\u001b[0m         \u001b[1;32mtry\u001b[0m\u001b[1;33m:\u001b[0m\u001b[1;33m\u001b[0m\u001b[0m\n\u001b[1;32m-> 1197\u001b[1;33m             \u001b[0mdata\u001b[0m \u001b[1;33m=\u001b[0m \u001b[0mself\u001b[0m\u001b[1;33m.\u001b[0m\u001b[0m_reader\u001b[0m\u001b[1;33m.\u001b[0m\u001b[0mread\u001b[0m\u001b[1;33m(\u001b[0m\u001b[0mnrows\u001b[0m\u001b[1;33m)\u001b[0m\u001b[1;33m\u001b[0m\u001b[0m\n\u001b[0m\u001b[0;32m   1198\u001b[0m         \u001b[1;32mexcept\u001b[0m \u001b[0mStopIteration\u001b[0m\u001b[1;33m:\u001b[0m\u001b[1;33m\u001b[0m\u001b[0m\n\u001b[0;32m   1199\u001b[0m             \u001b[1;32mif\u001b[0m \u001b[0mself\u001b[0m\u001b[1;33m.\u001b[0m\u001b[0m_first_chunk\u001b[0m\u001b[1;33m:\u001b[0m\u001b[1;33m\u001b[0m\u001b[0m\n",
      "\u001b[1;32mpandas/parser.pyx\u001b[0m in \u001b[0;36mpandas.parser.TextReader.read (pandas/parser.c:7988)\u001b[1;34m()\u001b[0m\n",
      "\u001b[1;32mpandas/parser.pyx\u001b[0m in \u001b[0;36mpandas.parser.TextReader._read_low_memory (pandas/parser.c:8244)\u001b[1;34m()\u001b[0m\n",
      "\u001b[1;32mpandas/parser.pyx\u001b[0m in \u001b[0;36mpandas.parser.TextReader._read_rows (pandas/parser.c:8970)\u001b[1;34m()\u001b[0m\n",
      "\u001b[1;32mpandas/parser.pyx\u001b[0m in \u001b[0;36mpandas.parser.TextReader._tokenize_rows (pandas/parser.c:8838)\u001b[1;34m()\u001b[0m\n",
      "\u001b[1;32mpandas/parser.pyx\u001b[0m in \u001b[0;36mpandas.parser.raise_parser_error (pandas/parser.c:22649)\u001b[1;34m()\u001b[0m\n",
      "\u001b[1;31mCParserError\u001b[0m: Error tokenizing data. C error: Expected 2 fields in line 3, saw 3\n"
     ]
    }
   ],
   "source": [
    "df=pd.read_csv(\"data/kisnevsor.csv\",sep='n')"
   ]
  },
  {
   "cell_type": "markdown",
   "metadata": {
    "deletable": true,
    "editable": true
   },
   "source": [
    "#### header (fejléc)"
   ]
  },
  {
   "cell_type": "markdown",
   "metadata": {
    "deletable": true,
    "editable": true
   },
   "source": [
    "Meg tudjuk adni, hogy van-e fejléc, és melyik sorban van."
   ]
  },
  {
   "cell_type": "code",
   "execution_count": 15,
   "metadata": {
    "collapsed": false,
    "deletable": true,
    "editable": true
   },
   "outputs": [
    {
     "data": {
      "text/html": [
       "<div>\n",
       "<table border=\"1\" class=\"dataframe\">\n",
       "  <thead>\n",
       "    <tr style=\"text-align: right;\">\n",
       "      <th></th>\n",
       "      <th>Név</th>\n",
       "      <th>Eszter</th>\n",
       "      <th>Orsi</th>\n",
       "      <th>Nem</th>\n",
       "      <th>Kor</th>\n",
       "      <th>Dátum</th>\n",
       "    </tr>\n",
       "  </thead>\n",
       "  <tbody>\n",
       "    <tr>\n",
       "      <th>0</th>\n",
       "      <td>Bálint</td>\n",
       "      <td>2</td>\n",
       "      <td>.</td>\n",
       "      <td>fiú</td>\n",
       "      <td>20</td>\n",
       "      <td>12:31</td>\n",
       "    </tr>\n",
       "    <tr>\n",
       "      <th>1</th>\n",
       "      <td>Csenge</td>\n",
       "      <td>4</td>\n",
       "      <td>4</td>\n",
       "      <td>lány</td>\n",
       "      <td>22</td>\n",
       "      <td>13:20</td>\n",
       "    </tr>\n",
       "    <tr>\n",
       "      <th>2</th>\n",
       "      <td>István</td>\n",
       "      <td>5</td>\n",
       "      <td>4</td>\n",
       "      <td>fiú</td>\n",
       "      <td>19</td>\n",
       "      <td>12:35</td>\n",
       "    </tr>\n",
       "    <tr>\n",
       "      <th>3</th>\n",
       "      <td>Zita</td>\n",
       "      <td>3</td>\n",
       "      <td>5</td>\n",
       "      <td>lány</td>\n",
       "      <td>20</td>\n",
       "      <td>14:50</td>\n",
       "    </tr>\n",
       "    <tr>\n",
       "      <th>4</th>\n",
       "      <td>Károly</td>\n",
       "      <td>4</td>\n",
       "      <td>.</td>\n",
       "      <td>fiú</td>\n",
       "      <td>21</td>\n",
       "      <td>14:55</td>\n",
       "    </tr>\n",
       "  </tbody>\n",
       "</table>\n",
       "</div>"
      ],
      "text/plain": [
       "      Név  Eszter Orsi   Nem  Kor  Dátum\n",
       "0  Bálint       2    .   fiú   20  12:31\n",
       "1  Csenge       4    4  lány   22  13:20\n",
       "2  István       5    4   fiú   19  12:35\n",
       "3    Zita       3    5  lány   20  14:50\n",
       "4  Károly       4    .   fiú   21  14:55"
      ]
     },
     "execution_count": 15,
     "metadata": {},
     "output_type": "execute_result"
    }
   ],
   "source": [
    "df=pd.read_csv(\"data/kisnevsor.csv\",header=0)\n",
    "df"
   ]
  },
  {
   "cell_type": "markdown",
   "metadata": {
    "deletable": true,
    "editable": true
   },
   "source": [
    "Ha nincs fejléc, akkor fájl első sora is a táblázat első sora lesz."
   ]
  },
  {
   "cell_type": "code",
   "execution_count": 16,
   "metadata": {
    "collapsed": false,
    "deletable": true,
    "editable": true
   },
   "outputs": [
    {
     "data": {
      "text/html": [
       "<div>\n",
       "<table border=\"1\" class=\"dataframe\">\n",
       "  <thead>\n",
       "    <tr style=\"text-align: right;\">\n",
       "      <th></th>\n",
       "      <th>0</th>\n",
       "      <th>1</th>\n",
       "      <th>2</th>\n",
       "      <th>3</th>\n",
       "      <th>4</th>\n",
       "      <th>5</th>\n",
       "    </tr>\n",
       "  </thead>\n",
       "  <tbody>\n",
       "    <tr>\n",
       "      <th>0</th>\n",
       "      <td>Név</td>\n",
       "      <td>Eszter</td>\n",
       "      <td>Orsi</td>\n",
       "      <td>Nem</td>\n",
       "      <td>Kor</td>\n",
       "      <td>Dátum</td>\n",
       "    </tr>\n",
       "    <tr>\n",
       "      <th>1</th>\n",
       "      <td>Bálint</td>\n",
       "      <td>2</td>\n",
       "      <td>.</td>\n",
       "      <td>fiú</td>\n",
       "      <td>20</td>\n",
       "      <td>12:31</td>\n",
       "    </tr>\n",
       "    <tr>\n",
       "      <th>2</th>\n",
       "      <td>Csenge</td>\n",
       "      <td>4</td>\n",
       "      <td>4</td>\n",
       "      <td>lány</td>\n",
       "      <td>22</td>\n",
       "      <td>13:20</td>\n",
       "    </tr>\n",
       "    <tr>\n",
       "      <th>3</th>\n",
       "      <td>István</td>\n",
       "      <td>5</td>\n",
       "      <td>4</td>\n",
       "      <td>fiú</td>\n",
       "      <td>19</td>\n",
       "      <td>12:35</td>\n",
       "    </tr>\n",
       "    <tr>\n",
       "      <th>4</th>\n",
       "      <td>Zita</td>\n",
       "      <td>3</td>\n",
       "      <td>5</td>\n",
       "      <td>lány</td>\n",
       "      <td>20</td>\n",
       "      <td>14:50</td>\n",
       "    </tr>\n",
       "    <tr>\n",
       "      <th>5</th>\n",
       "      <td>Károly</td>\n",
       "      <td>4</td>\n",
       "      <td>.</td>\n",
       "      <td>fiú</td>\n",
       "      <td>21</td>\n",
       "      <td>14:55</td>\n",
       "    </tr>\n",
       "  </tbody>\n",
       "</table>\n",
       "</div>"
      ],
      "text/plain": [
       "        0       1     2     3    4      5\n",
       "0     Név  Eszter  Orsi   Nem  Kor  Dátum\n",
       "1  Bálint       2     .   fiú   20  12:31\n",
       "2  Csenge       4     4  lány   22  13:20\n",
       "3  István       5     4   fiú   19  12:35\n",
       "4    Zita       3     5  lány   20  14:50\n",
       "5  Károly       4     .   fiú   21  14:55"
      ]
     },
     "execution_count": 16,
     "metadata": {},
     "output_type": "execute_result"
    }
   ],
   "source": [
    "df=pd.read_csv(\"data/kisnevsor.csv\",header=None)\n",
    "df"
   ]
  },
  {
   "cell_type": "markdown",
   "metadata": {
    "deletable": true,
    "editable": true
   },
   "source": [
    "Ha a sokadik sort adjuk meg, akkor a táblázat onnan fog kezdődni."
   ]
  },
  {
   "cell_type": "code",
   "execution_count": 17,
   "metadata": {
    "collapsed": false,
    "deletable": true,
    "editable": true
   },
   "outputs": [
    {
     "data": {
      "text/html": [
       "<div>\n",
       "<table border=\"1\" class=\"dataframe\">\n",
       "  <thead>\n",
       "    <tr style=\"text-align: right;\">\n",
       "      <th></th>\n",
       "      <th>István</th>\n",
       "      <th>5</th>\n",
       "      <th>4</th>\n",
       "      <th>fiú</th>\n",
       "      <th>19</th>\n",
       "      <th>12:35</th>\n",
       "    </tr>\n",
       "  </thead>\n",
       "  <tbody>\n",
       "    <tr>\n",
       "      <th>0</th>\n",
       "      <td>Zita</td>\n",
       "      <td>3</td>\n",
       "      <td>5</td>\n",
       "      <td>lány</td>\n",
       "      <td>20</td>\n",
       "      <td>14:50</td>\n",
       "    </tr>\n",
       "    <tr>\n",
       "      <th>1</th>\n",
       "      <td>Károly</td>\n",
       "      <td>4</td>\n",
       "      <td>.</td>\n",
       "      <td>fiú</td>\n",
       "      <td>21</td>\n",
       "      <td>14:55</td>\n",
       "    </tr>\n",
       "  </tbody>\n",
       "</table>\n",
       "</div>"
      ],
      "text/plain": [
       "   István  5  4   fiú  19  12:35\n",
       "0    Zita  3  5  lány  20  14:50\n",
       "1  Károly  4  .   fiú  21  14:55"
      ]
     },
     "execution_count": 17,
     "metadata": {},
     "output_type": "execute_result"
    }
   ],
   "source": [
    "df=pd.read_csv(\"data/kisnevsor.csv\",header=3)\n",
    "df"
   ]
  },
  {
   "cell_type": "markdown",
   "metadata": {
    "deletable": true,
    "editable": true
   },
   "source": [
    "#### index_col (indexoszlop)\n",
    "- Az indexoszlopot kicsit máshogy jeleníti meg a notebook."
   ]
  },
  {
   "cell_type": "code",
   "execution_count": 18,
   "metadata": {
    "collapsed": false,
    "deletable": true,
    "editable": true
   },
   "outputs": [
    {
     "data": {
      "text/html": [
       "<div>\n",
       "<table border=\"1\" class=\"dataframe\">\n",
       "  <thead>\n",
       "    <tr style=\"text-align: right;\">\n",
       "      <th></th>\n",
       "      <th>Eszter</th>\n",
       "      <th>Orsi</th>\n",
       "      <th>Nem</th>\n",
       "      <th>Kor</th>\n",
       "      <th>Dátum</th>\n",
       "    </tr>\n",
       "    <tr>\n",
       "      <th>Név</th>\n",
       "      <th></th>\n",
       "      <th></th>\n",
       "      <th></th>\n",
       "      <th></th>\n",
       "      <th></th>\n",
       "    </tr>\n",
       "  </thead>\n",
       "  <tbody>\n",
       "    <tr>\n",
       "      <th>Bálint</th>\n",
       "      <td>2</td>\n",
       "      <td>.</td>\n",
       "      <td>fiú</td>\n",
       "      <td>20</td>\n",
       "      <td>12:31</td>\n",
       "    </tr>\n",
       "    <tr>\n",
       "      <th>Csenge</th>\n",
       "      <td>4</td>\n",
       "      <td>4</td>\n",
       "      <td>lány</td>\n",
       "      <td>22</td>\n",
       "      <td>13:20</td>\n",
       "    </tr>\n",
       "    <tr>\n",
       "      <th>István</th>\n",
       "      <td>5</td>\n",
       "      <td>4</td>\n",
       "      <td>fiú</td>\n",
       "      <td>19</td>\n",
       "      <td>12:35</td>\n",
       "    </tr>\n",
       "    <tr>\n",
       "      <th>Zita</th>\n",
       "      <td>3</td>\n",
       "      <td>5</td>\n",
       "      <td>lány</td>\n",
       "      <td>20</td>\n",
       "      <td>14:50</td>\n",
       "    </tr>\n",
       "    <tr>\n",
       "      <th>Károly</th>\n",
       "      <td>4</td>\n",
       "      <td>.</td>\n",
       "      <td>fiú</td>\n",
       "      <td>21</td>\n",
       "      <td>14:55</td>\n",
       "    </tr>\n",
       "  </tbody>\n",
       "</table>\n",
       "</div>"
      ],
      "text/plain": [
       "        Eszter Orsi   Nem  Kor  Dátum\n",
       "Név                                  \n",
       "Bálint       2    .   fiú   20  12:31\n",
       "Csenge       4    4  lány   22  13:20\n",
       "István       5    4   fiú   19  12:35\n",
       "Zita         3    5  lány   20  14:50\n",
       "Károly       4    .   fiú   21  14:55"
      ]
     },
     "execution_count": 18,
     "metadata": {},
     "output_type": "execute_result"
    }
   ],
   "source": [
    "df=pd.read_csv(\"data/kisnevsor.csv\",index_col='Név')\n",
    "df.head()"
   ]
  },
  {
   "cell_type": "markdown",
   "metadata": {
    "deletable": true,
    "editable": true
   },
   "source": [
    "Ez a most beállított indexoszlop hasonlóan viselkedik az előbb látott számokból álló indexhez."
   ]
  },
  {
   "cell_type": "code",
   "execution_count": 19,
   "metadata": {
    "collapsed": false,
    "deletable": true,
    "editable": true
   },
   "outputs": [
    {
     "data": {
      "text/plain": [
       "Név\n",
       "Bálint    2\n",
       "Csenge    4\n",
       "István    5\n",
       "Zita      3\n",
       "Károly    4\n",
       "Name: Eszter, dtype: int64"
      ]
     },
     "execution_count": 19,
     "metadata": {},
     "output_type": "execute_result"
    }
   ],
   "source": [
    "df['Eszter']"
   ]
  },
  {
   "cell_type": "code",
   "execution_count": 20,
   "metadata": {
    "collapsed": false,
    "deletable": true,
    "editable": true
   },
   "outputs": [
    {
     "data": {
      "text/plain": [
       "Eszter        2\n",
       "Orsi          .\n",
       "Nem         fiú\n",
       "Kor          20\n",
       "Dátum     12:31\n",
       "Name: Bálint, dtype: object"
      ]
     },
     "execution_count": 20,
     "metadata": {},
     "output_type": "execute_result"
    }
   ],
   "source": [
    "df.loc['Bálint',:]"
   ]
  },
  {
   "cell_type": "markdown",
   "metadata": {
    "deletable": true,
    "editable": true
   },
   "source": [
    "####  nrows\n",
    "\n",
    "Ha egy nagyon hosszú fájlnak csak az első pár sorát akarjuk beolvasni."
   ]
  },
  {
   "cell_type": "code",
   "execution_count": 21,
   "metadata": {
    "collapsed": false,
    "deletable": true,
    "editable": true
   },
   "outputs": [
    {
     "data": {
      "text/html": [
       "<div>\n",
       "<table border=\"1\" class=\"dataframe\">\n",
       "  <thead>\n",
       "    <tr style=\"text-align: right;\">\n",
       "      <th></th>\n",
       "      <th>Név</th>\n",
       "      <th>Eszter</th>\n",
       "      <th>Orsi</th>\n",
       "      <th>Nem</th>\n",
       "      <th>Kor</th>\n",
       "      <th>Dátum</th>\n",
       "    </tr>\n",
       "  </thead>\n",
       "  <tbody>\n",
       "    <tr>\n",
       "      <th>0</th>\n",
       "      <td>Bálint</td>\n",
       "      <td>2</td>\n",
       "      <td>.</td>\n",
       "      <td>fiú</td>\n",
       "      <td>20</td>\n",
       "      <td>12:31</td>\n",
       "    </tr>\n",
       "    <tr>\n",
       "      <th>1</th>\n",
       "      <td>Csenge</td>\n",
       "      <td>4</td>\n",
       "      <td>4</td>\n",
       "      <td>lány</td>\n",
       "      <td>22</td>\n",
       "      <td>13:20</td>\n",
       "    </tr>\n",
       "  </tbody>\n",
       "</table>\n",
       "</div>"
      ],
      "text/plain": [
       "      Név  Eszter Orsi   Nem  Kor  Dátum\n",
       "0  Bálint       2    .   fiú   20  12:31\n",
       "1  Csenge       4    4  lány   22  13:20"
      ]
     },
     "execution_count": 21,
     "metadata": {},
     "output_type": "execute_result"
    }
   ],
   "source": [
    "df=pd.read_csv(\"data/kisnevsor.csv\",nrows=2)\n",
    "df"
   ]
  },
  {
   "cell_type": "markdown",
   "metadata": {
    "deletable": true,
    "editable": true
   },
   "source": [
    "#### na_values\n",
    "\n",
    "Ha valaki úgy adja meg a hiányzó értékeket, hogy mondjuk beír egy pontot a helyre. Ez majd akkor lehet fontos, ha például átlagot számolunk, mert kihagyhatjuk az átlagolásból a NaN-értékeket."
   ]
  },
  {
   "cell_type": "code",
   "execution_count": 22,
   "metadata": {
    "collapsed": false,
    "deletable": true,
    "editable": true
   },
   "outputs": [
    {
     "data": {
      "text/html": [
       "<div>\n",
       "<table border=\"1\" class=\"dataframe\">\n",
       "  <thead>\n",
       "    <tr style=\"text-align: right;\">\n",
       "      <th></th>\n",
       "      <th>Név</th>\n",
       "      <th>Eszter</th>\n",
       "      <th>Orsi</th>\n",
       "      <th>Nem</th>\n",
       "      <th>Kor</th>\n",
       "      <th>Dátum</th>\n",
       "    </tr>\n",
       "  </thead>\n",
       "  <tbody>\n",
       "    <tr>\n",
       "      <th>0</th>\n",
       "      <td>Bálint</td>\n",
       "      <td>2</td>\n",
       "      <td>NaN</td>\n",
       "      <td>fiú</td>\n",
       "      <td>20</td>\n",
       "      <td>12:31</td>\n",
       "    </tr>\n",
       "    <tr>\n",
       "      <th>1</th>\n",
       "      <td>Csenge</td>\n",
       "      <td>4</td>\n",
       "      <td>4</td>\n",
       "      <td>lány</td>\n",
       "      <td>22</td>\n",
       "      <td>13:20</td>\n",
       "    </tr>\n",
       "    <tr>\n",
       "      <th>2</th>\n",
       "      <td>István</td>\n",
       "      <td>5</td>\n",
       "      <td>4</td>\n",
       "      <td>fiú</td>\n",
       "      <td>19</td>\n",
       "      <td>12:35</td>\n",
       "    </tr>\n",
       "    <tr>\n",
       "      <th>3</th>\n",
       "      <td>Zita</td>\n",
       "      <td>3</td>\n",
       "      <td>5</td>\n",
       "      <td>lány</td>\n",
       "      <td>20</td>\n",
       "      <td>14:50</td>\n",
       "    </tr>\n",
       "    <tr>\n",
       "      <th>4</th>\n",
       "      <td>Károly</td>\n",
       "      <td>4</td>\n",
       "      <td>NaN</td>\n",
       "      <td>fiú</td>\n",
       "      <td>21</td>\n",
       "      <td>14:55</td>\n",
       "    </tr>\n",
       "  </tbody>\n",
       "</table>\n",
       "</div>"
      ],
      "text/plain": [
       "      Név  Eszter  Orsi   Nem  Kor  Dátum\n",
       "0  Bálint       2   NaN   fiú   20  12:31\n",
       "1  Csenge       4     4  lány   22  13:20\n",
       "2  István       5     4   fiú   19  12:35\n",
       "3    Zita       3     5  lány   20  14:50\n",
       "4  Károly       4   NaN   fiú   21  14:55"
      ]
     },
     "execution_count": 22,
     "metadata": {},
     "output_type": "execute_result"
    }
   ],
   "source": [
    "df=pd.read_csv(\"data/kisnevsor.csv\",na_values=['.'])\n",
    "df"
   ]
  },
  {
   "cell_type": "markdown",
   "metadata": {
    "deletable": true,
    "editable": true
   },
   "source": [
    "#### parse_dates (dátumok kezelése)\n",
    "\n",
    "Alapból a beolvasó nem csinál semmit a dátumnak vagy időnek kinéző oszlopokkal."
   ]
  },
  {
   "cell_type": "code",
   "execution_count": 23,
   "metadata": {
    "collapsed": false,
    "deletable": true,
    "editable": true
   },
   "outputs": [
    {
     "data": {
      "text/html": [
       "<div>\n",
       "<table border=\"1\" class=\"dataframe\">\n",
       "  <thead>\n",
       "    <tr style=\"text-align: right;\">\n",
       "      <th></th>\n",
       "      <th>Név</th>\n",
       "      <th>Eszter</th>\n",
       "      <th>Orsi</th>\n",
       "      <th>Nem</th>\n",
       "      <th>Kor</th>\n",
       "      <th>Dátum</th>\n",
       "    </tr>\n",
       "  </thead>\n",
       "  <tbody>\n",
       "    <tr>\n",
       "      <th>0</th>\n",
       "      <td>Bálint</td>\n",
       "      <td>2</td>\n",
       "      <td>.</td>\n",
       "      <td>fiú</td>\n",
       "      <td>20</td>\n",
       "      <td>12:31</td>\n",
       "    </tr>\n",
       "    <tr>\n",
       "      <th>1</th>\n",
       "      <td>Csenge</td>\n",
       "      <td>4</td>\n",
       "      <td>4</td>\n",
       "      <td>lány</td>\n",
       "      <td>22</td>\n",
       "      <td>13:20</td>\n",
       "    </tr>\n",
       "    <tr>\n",
       "      <th>2</th>\n",
       "      <td>István</td>\n",
       "      <td>5</td>\n",
       "      <td>4</td>\n",
       "      <td>fiú</td>\n",
       "      <td>19</td>\n",
       "      <td>12:35</td>\n",
       "    </tr>\n",
       "    <tr>\n",
       "      <th>3</th>\n",
       "      <td>Zita</td>\n",
       "      <td>3</td>\n",
       "      <td>5</td>\n",
       "      <td>lány</td>\n",
       "      <td>20</td>\n",
       "      <td>14:50</td>\n",
       "    </tr>\n",
       "    <tr>\n",
       "      <th>4</th>\n",
       "      <td>Károly</td>\n",
       "      <td>4</td>\n",
       "      <td>.</td>\n",
       "      <td>fiú</td>\n",
       "      <td>21</td>\n",
       "      <td>14:55</td>\n",
       "    </tr>\n",
       "  </tbody>\n",
       "</table>\n",
       "</div>"
      ],
      "text/plain": [
       "      Név  Eszter Orsi   Nem  Kor  Dátum\n",
       "0  Bálint       2    .   fiú   20  12:31\n",
       "1  Csenge       4    4  lány   22  13:20\n",
       "2  István       5    4   fiú   19  12:35\n",
       "3    Zita       3    5  lány   20  14:50\n",
       "4  Károly       4    .   fiú   21  14:55"
      ]
     },
     "execution_count": 23,
     "metadata": {},
     "output_type": "execute_result"
    }
   ],
   "source": [
    "df=pd.read_csv(\"data/kisnevsor.csv\")\n",
    "df"
   ]
  },
  {
   "cell_type": "code",
   "execution_count": 24,
   "metadata": {
    "collapsed": false,
    "deletable": true,
    "editable": true
   },
   "outputs": [
    {
     "data": {
      "text/plain": [
       "0    12:31\n",
       "1    13:20\n",
       "2    12:35\n",
       "3    14:50\n",
       "4    14:55\n",
       "Name: Dátum, dtype: object"
      ]
     },
     "execution_count": 24,
     "metadata": {},
     "output_type": "execute_result"
    }
   ],
   "source": [
    "df['Dátum']"
   ]
  },
  {
   "cell_type": "markdown",
   "metadata": {
    "deletable": true,
    "editable": true
   },
   "source": [
    "De megkérhetjük rá."
   ]
  },
  {
   "cell_type": "code",
   "execution_count": 25,
   "metadata": {
    "collapsed": false,
    "deletable": true,
    "editable": true
   },
   "outputs": [
    {
     "data": {
      "text/html": [
       "<div>\n",
       "<table border=\"1\" class=\"dataframe\">\n",
       "  <thead>\n",
       "    <tr style=\"text-align: right;\">\n",
       "      <th></th>\n",
       "      <th>Név</th>\n",
       "      <th>Eszter</th>\n",
       "      <th>Orsi</th>\n",
       "      <th>Nem</th>\n",
       "      <th>Kor</th>\n",
       "      <th>Dátum</th>\n",
       "    </tr>\n",
       "  </thead>\n",
       "  <tbody>\n",
       "    <tr>\n",
       "      <th>0</th>\n",
       "      <td>Bálint</td>\n",
       "      <td>2</td>\n",
       "      <td>.</td>\n",
       "      <td>fiú</td>\n",
       "      <td>20</td>\n",
       "      <td>2017-04-23 12:31:00</td>\n",
       "    </tr>\n",
       "    <tr>\n",
       "      <th>1</th>\n",
       "      <td>Csenge</td>\n",
       "      <td>4</td>\n",
       "      <td>4</td>\n",
       "      <td>lány</td>\n",
       "      <td>22</td>\n",
       "      <td>2017-04-23 13:20:00</td>\n",
       "    </tr>\n",
       "    <tr>\n",
       "      <th>2</th>\n",
       "      <td>István</td>\n",
       "      <td>5</td>\n",
       "      <td>4</td>\n",
       "      <td>fiú</td>\n",
       "      <td>19</td>\n",
       "      <td>2017-04-23 12:35:00</td>\n",
       "    </tr>\n",
       "    <tr>\n",
       "      <th>3</th>\n",
       "      <td>Zita</td>\n",
       "      <td>3</td>\n",
       "      <td>5</td>\n",
       "      <td>lány</td>\n",
       "      <td>20</td>\n",
       "      <td>2017-04-23 14:50:00</td>\n",
       "    </tr>\n",
       "    <tr>\n",
       "      <th>4</th>\n",
       "      <td>Károly</td>\n",
       "      <td>4</td>\n",
       "      <td>.</td>\n",
       "      <td>fiú</td>\n",
       "      <td>21</td>\n",
       "      <td>2017-04-23 14:55:00</td>\n",
       "    </tr>\n",
       "  </tbody>\n",
       "</table>\n",
       "</div>"
      ],
      "text/plain": [
       "      Név  Eszter Orsi   Nem  Kor               Dátum\n",
       "0  Bálint       2    .   fiú   20 2017-04-23 12:31:00\n",
       "1  Csenge       4    4  lány   22 2017-04-23 13:20:00\n",
       "2  István       5    4   fiú   19 2017-04-23 12:35:00\n",
       "3    Zita       3    5  lány   20 2017-04-23 14:50:00\n",
       "4  Károly       4    .   fiú   21 2017-04-23 14:55:00"
      ]
     },
     "execution_count": 25,
     "metadata": {},
     "output_type": "execute_result"
    }
   ],
   "source": [
    "df=pd.read_csv(\"data/kisnevsor.csv\",parse_dates=['Dátum'])\n",
    "df"
   ]
  },
  {
   "cell_type": "code",
   "execution_count": 26,
   "metadata": {
    "collapsed": false,
    "deletable": true,
    "editable": true
   },
   "outputs": [
    {
     "data": {
      "text/plain": [
       "0   2017-04-23 12:31:00\n",
       "1   2017-04-23 13:20:00\n",
       "2   2017-04-23 12:35:00\n",
       "3   2017-04-23 14:50:00\n",
       "4   2017-04-23 14:55:00\n",
       "Name: Dátum, dtype: datetime64[ns]"
      ]
     },
     "execution_count": 26,
     "metadata": {},
     "output_type": "execute_result"
    }
   ],
   "source": [
    "df['Dátum']"
   ]
  },
  {
   "cell_type": "markdown",
   "metadata": {
    "deletable": true,
    "editable": true
   },
   "source": [
    "#### compression (tömörített fájlok olvasása)\n",
    "\n",
    "Mivel tömörítve kisebb helyet foglalnak el az adatok, gyorsabb lehet nagy adatfájlokat tömörített állományokból beolvasni."
   ]
  },
  {
   "cell_type": "code",
   "execution_count": 27,
   "metadata": {
    "collapsed": false,
    "deletable": true,
    "editable": true
   },
   "outputs": [
    {
     "data": {
      "text/html": [
       "<div>\n",
       "<table border=\"1\" class=\"dataframe\">\n",
       "  <thead>\n",
       "    <tr style=\"text-align: right;\">\n",
       "      <th></th>\n",
       "      <th>Név</th>\n",
       "      <th>Eszter</th>\n",
       "      <th>Orsi</th>\n",
       "      <th>Nem</th>\n",
       "      <th>Kor</th>\n",
       "      <th>Dátum</th>\n",
       "    </tr>\n",
       "  </thead>\n",
       "  <tbody>\n",
       "    <tr>\n",
       "      <th>0</th>\n",
       "      <td>Bálint</td>\n",
       "      <td>2</td>\n",
       "      <td>.</td>\n",
       "      <td>fiú</td>\n",
       "      <td>20</td>\n",
       "      <td>12:31</td>\n",
       "    </tr>\n",
       "    <tr>\n",
       "      <th>1</th>\n",
       "      <td>Csenge</td>\n",
       "      <td>4</td>\n",
       "      <td>4</td>\n",
       "      <td>lány</td>\n",
       "      <td>22</td>\n",
       "      <td>13:20</td>\n",
       "    </tr>\n",
       "    <tr>\n",
       "      <th>2</th>\n",
       "      <td>István</td>\n",
       "      <td>5</td>\n",
       "      <td>4</td>\n",
       "      <td>fiú</td>\n",
       "      <td>19</td>\n",
       "      <td>12:35</td>\n",
       "    </tr>\n",
       "    <tr>\n",
       "      <th>3</th>\n",
       "      <td>Zita</td>\n",
       "      <td>3</td>\n",
       "      <td>5</td>\n",
       "      <td>lány</td>\n",
       "      <td>20</td>\n",
       "      <td>14:50</td>\n",
       "    </tr>\n",
       "    <tr>\n",
       "      <th>4</th>\n",
       "      <td>Károly</td>\n",
       "      <td>4</td>\n",
       "      <td>.</td>\n",
       "      <td>fiú</td>\n",
       "      <td>21</td>\n",
       "      <td>14:55</td>\n",
       "    </tr>\n",
       "  </tbody>\n",
       "</table>\n",
       "</div>"
      ],
      "text/plain": [
       "      Név  Eszter Orsi   Nem  Kor  Dátum\n",
       "0  Bálint       2    .   fiú   20  12:31\n",
       "1  Csenge       4    4  lány   22  13:20\n",
       "2  István       5    4   fiú   19  12:35\n",
       "3    Zita       3    5  lány   20  14:50\n",
       "4  Károly       4    .   fiú   21  14:55"
      ]
     },
     "execution_count": 27,
     "metadata": {},
     "output_type": "execute_result"
    }
   ],
   "source": [
    "df=pd.read_csv(\"data/kisnevsor.csv.gz\")\n",
    "df"
   ]
  },
  {
   "cell_type": "markdown",
   "metadata": {
    "deletable": true,
    "editable": true
   },
   "source": [
    "#### Nagy fájlokat darabokban is beolvashatunk\n",
    "\n",
    "Figyeljük meg, hogy a darabok oszlopnevei jól vannak megadva."
   ]
  },
  {
   "cell_type": "code",
   "execution_count": 28,
   "metadata": {
    "collapsed": false,
    "deletable": true,
    "editable": true
   },
   "outputs": [
    {
     "name": "stdout",
     "output_type": "stream",
     "text": [
      "      Név  Eszter Orsi   Nem  Kor  Dátum\n",
      "0  Bálint       2    .   fiú   20  12:31\n",
      "1  Csenge       4    4  lány   22  13:20\n",
      "      Név  Eszter  Orsi   Nem  Kor  Dátum\n",
      "0  István       5     4   fiú   19  12:35\n",
      "1    Zita       3     5  lány   20  14:50\n",
      "      Név  Eszter Orsi  Nem  Kor  Dátum\n",
      "0  Károly       4    .  fiú   21  14:55\n"
     ]
    }
   ],
   "source": [
    "for darab in pd.read_csv(\"data/kisnevsor.csv.gz\",iterator=True,chunksize=2):\n",
    "    print(darab)\n",
    "    # itt csinalunk vele valamit"
   ]
  },
  {
   "cell_type": "markdown",
   "metadata": {
    "deletable": true,
    "editable": true
   },
   "source": [
    "#### Nagy fájlok esetén gyorsabban tudunk beolvasni, ha csak pár oszlopra van szükségünk\n",
    "\n",
    "A usecols az oszlop nevét és a sorszámát is elfogadja."
   ]
  },
  {
   "cell_type": "code",
   "execution_count": 29,
   "metadata": {
    "collapsed": false,
    "deletable": true,
    "editable": true
   },
   "outputs": [
    {
     "data": {
      "text/html": [
       "<div>\n",
       "<table border=\"1\" class=\"dataframe\">\n",
       "  <thead>\n",
       "    <tr style=\"text-align: right;\">\n",
       "      <th></th>\n",
       "      <th>Név</th>\n",
       "      <th>Eszter</th>\n",
       "    </tr>\n",
       "  </thead>\n",
       "  <tbody>\n",
       "    <tr>\n",
       "      <th>0</th>\n",
       "      <td>Bálint</td>\n",
       "      <td>2</td>\n",
       "    </tr>\n",
       "    <tr>\n",
       "      <th>1</th>\n",
       "      <td>Csenge</td>\n",
       "      <td>4</td>\n",
       "    </tr>\n",
       "    <tr>\n",
       "      <th>2</th>\n",
       "      <td>István</td>\n",
       "      <td>5</td>\n",
       "    </tr>\n",
       "    <tr>\n",
       "      <th>3</th>\n",
       "      <td>Zita</td>\n",
       "      <td>3</td>\n",
       "    </tr>\n",
       "    <tr>\n",
       "      <th>4</th>\n",
       "      <td>Károly</td>\n",
       "      <td>4</td>\n",
       "    </tr>\n",
       "  </tbody>\n",
       "</table>\n",
       "</div>"
      ],
      "text/plain": [
       "      Név  Eszter\n",
       "0  Bálint       2\n",
       "1  Csenge       4\n",
       "2  István       5\n",
       "3    Zita       3\n",
       "4  Károly       4"
      ]
     },
     "execution_count": 29,
     "metadata": {},
     "output_type": "execute_result"
    }
   ],
   "source": [
    "pd.read_csv(\"data/kisnevsor.csv.gz\",usecols=['Név',1])"
   ]
  },
  {
   "cell_type": "markdown",
   "metadata": {
    "deletable": true,
    "editable": true
   },
   "source": [
    "#### További beállításokat itt találhatunk:"
   ]
  },
  {
   "cell_type": "code",
   "execution_count": 30,
   "metadata": {
    "collapsed": false,
    "deletable": true,
    "editable": true
   },
   "outputs": [
    {
     "name": "stdout",
     "output_type": "stream",
     "text": [
      "Help on function read_csv in module pandas.io.parsers:\n",
      "\n",
      "read_csv(filepath_or_buffer, sep=',', dialect=None, compression='infer', doublequote=True, escapechar=None, quotechar='\"', quoting=0, skipinitialspace=False, lineterminator=None, header='infer', index_col=None, names=None, prefix=None, skiprows=None, skipfooter=None, skip_footer=0, na_values=None, true_values=None, false_values=None, delimiter=None, converters=None, dtype=None, usecols=None, engine=None, delim_whitespace=False, as_recarray=False, na_filter=True, compact_ints=False, use_unsigned=False, low_memory=True, buffer_lines=None, warn_bad_lines=True, error_bad_lines=True, keep_default_na=True, thousands=None, comment=None, decimal=b'.', parse_dates=False, keep_date_col=False, dayfirst=False, date_parser=None, memory_map=False, float_precision=None, nrows=None, iterator=False, chunksize=None, verbose=False, encoding=None, squeeze=False, mangle_dupe_cols=True, tupleize_cols=False, infer_datetime_format=False, skip_blank_lines=True)\n",
      "    Read CSV (comma-separated) file into DataFrame\n",
      "    \n",
      "    Also supports optionally iterating or breaking of the file\n",
      "    into chunks.\n",
      "    \n",
      "    Additional help can be found in the `online docs for IO Tools\n",
      "    <http://pandas.pydata.org/pandas-docs/stable/io.html>`_.\n",
      "    \n",
      "    Parameters\n",
      "    ----------\n",
      "    filepath_or_buffer : string or file handle / StringIO\n",
      "        The string could be a URL. Valid URL schemes include\n",
      "        http, ftp, s3, and file. For file URLs, a\n",
      "        host is expected. For instance, a local file could be\n",
      "        file ://localhost/path/to/table.csv\n",
      "    sep : string, default ','\n",
      "        Delimiter to use. If sep is None, will try to automatically determine\n",
      "        this. Regular expressions are accepted.\n",
      "    engine : {'c', 'python'}\n",
      "        Parser engine to use. The C engine is faster while the python engine is\n",
      "        currently more feature-complete.\n",
      "    lineterminator : string (length 1), default None\n",
      "        Character to break file into lines. Only valid with C parser\n",
      "    quotechar : string (length 1)\n",
      "        The character used to denote the start and end of a quoted item. Quoted\n",
      "        items can include the delimiter and it will be ignored.\n",
      "    quoting : int or csv.QUOTE_* instance, default None\n",
      "        Control field quoting behavior per ``csv.QUOTE_*`` constants. Use one of\n",
      "        QUOTE_MINIMAL (0), QUOTE_ALL (1), QUOTE_NONNUMERIC (2) or QUOTE_NONE (3).\n",
      "        Default (None) results in QUOTE_MINIMAL behavior.\n",
      "    skipinitialspace : boolean, default False\n",
      "        Skip spaces after delimiter\n",
      "    escapechar : string (length 1), default None\n",
      "        One-character string used to escape delimiter when quoting is QUOTE_NONE.\n",
      "    dtype : Type name or dict of column -> type, default None\n",
      "        Data type for data or columns. E.g. {'a': np.float64, 'b': np.int32}\n",
      "        (Unsupported with engine='python')\n",
      "    compression : {'gzip', 'bz2', 'infer', None}, default 'infer'\n",
      "        For on-the-fly decompression of on-disk data. If 'infer', then use gzip or\n",
      "        bz2 if filepath_or_buffer is a string ending in '.gz' or '.bz2',\n",
      "        respectively, and no decompression otherwise. Set to None for no\n",
      "        decompression.\n",
      "    dialect : string or csv.Dialect instance, default None\n",
      "        If None defaults to Excel dialect. Ignored if sep longer than 1 char\n",
      "        See csv.Dialect documentation for more details\n",
      "    header : int, list of ints, default 'infer'\n",
      "        Row number(s) to use as the column names, and the start of the\n",
      "        data.  Defaults to 0 if no ``names`` passed, otherwise ``None``. Explicitly\n",
      "        pass ``header=0`` to be able to replace existing names. The header can be\n",
      "        a list of integers that specify row locations for a multi-index on the\n",
      "        columns E.g. [0,1,3]. Intervening rows that are not specified will be\n",
      "        skipped (e.g. 2 in this example are skipped). Note that this parameter\n",
      "        ignores commented lines and empty lines if ``skip_blank_lines=True``, so header=0\n",
      "        denotes the first line of data rather than the first line of the file.\n",
      "    skiprows : list-like or integer, default None\n",
      "        Line numbers to skip (0-indexed) or number of lines to skip (int)\n",
      "        at the start of the file\n",
      "    index_col : int or sequence or False, default None\n",
      "        Column to use as the row labels of the DataFrame. If a sequence is given, a\n",
      "        MultiIndex is used. If you have a malformed file with delimiters at the end\n",
      "        of each line, you might consider index_col=False to force pandas to _not_\n",
      "        use the first column as the index (row names)\n",
      "    names : array-like, default None\n",
      "        List of column names to use. If file contains no header row, then you\n",
      "        should explicitly pass header=None\n",
      "    prefix : string, default None\n",
      "        Prefix to add to column numbers when no header, e.g 'X' for X0, X1, ...\n",
      "    na_values : str, list-like or dict, default None\n",
      "        Additional strings to recognize as NA/NaN. If dict passed, specific\n",
      "        per-column NA values\n",
      "    true_values : list, default None\n",
      "        Values to consider as True\n",
      "    false_values : list, default None\n",
      "        Values to consider as False\n",
      "    keep_default_na : bool, default True\n",
      "        If na_values are specified and keep_default_na is False the default NaN\n",
      "        values are overridden, otherwise they're appended to\n",
      "    parse_dates : boolean, list of ints or names, list of lists, or dict, default False\n",
      "        If True -> try parsing the index.\n",
      "        If [1, 2, 3] -> try parsing columns 1, 2, 3 each as a separate date column.\n",
      "        If [[1, 3]] -> combine columns 1 and 3 and parse as a single date column.\n",
      "        {'foo' : [1, 3]} -> parse columns 1, 3 as date and call result 'foo'\n",
      "        A fast-path exists for iso8601-formatted dates.\n",
      "    keep_date_col : boolean, default False\n",
      "        If True and parse_dates specifies combining multiple columns then\n",
      "        keep the original columns.\n",
      "    date_parser : function, default None\n",
      "        Function to use for converting a sequence of string columns to an\n",
      "        array of datetime instances. The default uses dateutil.parser.parser\n",
      "        to do the conversion. Pandas will try to call date_parser in three different\n",
      "        ways, advancing to the next if an exception occurs: 1) Pass one or more arrays\n",
      "        (as defined by parse_dates) as arguments; 2) concatenate (row-wise) the string\n",
      "        values from the columns defined by parse_dates into a single array and pass\n",
      "        that; and 3) call date_parser once for each row using one or more strings\n",
      "        (corresponding to the columns defined by parse_dates) as arguments.\n",
      "    dayfirst : boolean, default False\n",
      "        DD/MM format dates, international and European format\n",
      "    thousands : str, default None\n",
      "        Thousands separator\n",
      "    comment : str, default None\n",
      "        Indicates remainder of line should not be parsed. If found at the\n",
      "        beginning of a line, the line will be ignored altogether. This parameter\n",
      "        must be a single character. Like empty lines (as long as ``skip_blank_lines=True``),\n",
      "        fully commented lines are ignored by the parameter `header`\n",
      "        but not by `skiprows`. For example, if comment='#', parsing\n",
      "        '#empty\\na,b,c\\n1,2,3' with `header=0` will result in 'a,b,c' being\n",
      "        treated as the header.\n",
      "    decimal : str, default '.'\n",
      "        Character to recognize as decimal point. E.g. use ',' for European data\n",
      "    nrows : int, default None\n",
      "        Number of rows of file to read. Useful for reading pieces of large files\n",
      "    iterator : boolean, default False\n",
      "        Return TextFileReader object for iteration or getting chunks with ``get_chunk()``.\n",
      "    chunksize : int, default None\n",
      "        Return TextFileReader object for iteration. `See IO Tools docs for more\n",
      "        information\n",
      "        <http://pandas.pydata.org/pandas-docs/stable/io.html#io-chunking>`_ on\n",
      "        ``iterator`` and ``chunksize``.\n",
      "    skipfooter : int, default 0\n",
      "        Number of lines at bottom of file to skip (Unsupported with engine='c')\n",
      "    converters : dict, default None\n",
      "        Dict of functions for converting values in certain columns. Keys can either\n",
      "        be integers or column labels\n",
      "    verbose : boolean, default False\n",
      "        Indicate number of NA values placed in non-numeric columns\n",
      "    delimiter : string, default None\n",
      "        Alternative argument name for sep. Regular expressions are accepted.\n",
      "    encoding : string, default None\n",
      "        Encoding to use for UTF when reading/writing (ex. 'utf-8'). `List of Python\n",
      "        standard encodings\n",
      "        <https://docs.python.org/3/library/codecs.html#standard-encodings>`_\n",
      "    squeeze : boolean, default False\n",
      "        If the parsed data only contains one column then return a Series\n",
      "    na_filter : boolean, default True\n",
      "        Detect missing value markers (empty strings and the value of na_values). In\n",
      "        data without any NAs, passing na_filter=False can improve the performance\n",
      "        of reading a large file\n",
      "    usecols : array-like, default None\n",
      "        Return a subset of the columns.\n",
      "        Results in much faster parsing time and lower memory usage.\n",
      "    mangle_dupe_cols : boolean, default True\n",
      "        Duplicate columns will be specified as 'X.0'...'X.N', rather than 'X'...'X'\n",
      "    tupleize_cols : boolean, default False\n",
      "        Leave a list of tuples on columns as is (default is to convert to\n",
      "        a Multi Index on the columns)\n",
      "    error_bad_lines : boolean, default True\n",
      "        Lines with too many fields (e.g. a csv line with too many commas) will by\n",
      "        default cause an exception to be raised, and no DataFrame will be returned.\n",
      "        If False, then these \"bad lines\" will dropped from the DataFrame that is\n",
      "        returned. (Only valid with C parser)\n",
      "    warn_bad_lines : boolean, default True\n",
      "        If error_bad_lines is False, and warn_bad_lines is True, a warning for each\n",
      "        \"bad line\" will be output. (Only valid with C parser).\n",
      "    infer_datetime_format : boolean, default False\n",
      "        If True and parse_dates is enabled for a column, attempt to infer\n",
      "        the datetime format to speed up the processing\n",
      "    skip_blank_lines : boolean, default True\n",
      "        If True, skip over blank lines rather than interpreting as NaN values\n",
      "    \n",
      "    Returns\n",
      "    -------\n",
      "    result : DataFrame or TextParser\n",
      "\n"
     ]
    }
   ],
   "source": [
    "help(pd.read_csv)"
   ]
  },
  {
   "cell_type": "markdown",
   "metadata": {
    "deletable": true,
    "editable": true
   },
   "source": [
    "## Kiírás csv file-ba\n",
    "\n",
    "Alapértelmezetten a pandas kiírja az indexeket is."
   ]
  },
  {
   "cell_type": "code",
   "execution_count": 31,
   "metadata": {
    "collapsed": true,
    "deletable": true,
    "editable": true
   },
   "outputs": [],
   "source": [
    "df.to_csv('tmp.tsv')"
   ]
  },
  {
   "cell_type": "code",
   "execution_count": 32,
   "metadata": {
    "collapsed": false,
    "deletable": true,
    "editable": true
   },
   "outputs": [
    {
     "name": "stdout",
     "output_type": "stream",
     "text": [
      ",Név,Eszter,Orsi,Nem,Kor,Dátum\r\n",
      "0,Bálint,2,.,fiú,20,12:31\r\n",
      "1,Csenge,4,4,lány,22,13:20\r\n",
      "2,István,5,4,fiú,19,12:35\r\n",
      "3,Zita,3,5,lány,20,14:50\r\n",
      "4,Károly,4,.,fiú,21,14:55\r\n"
     ]
    }
   ],
   "source": [
    "%cat tmp.tsv"
   ]
  },
  {
   "cell_type": "markdown",
   "metadata": {
    "deletable": true,
    "editable": true
   },
   "source": [
    "Ha ezt nem akarjuk:"
   ]
  },
  {
   "cell_type": "code",
   "execution_count": 33,
   "metadata": {
    "collapsed": true,
    "deletable": true,
    "editable": true
   },
   "outputs": [],
   "source": [
    "df.to_csv('tmp.csv',index=False)"
   ]
  },
  {
   "cell_type": "code",
   "execution_count": 34,
   "metadata": {
    "collapsed": false,
    "deletable": true,
    "editable": true
   },
   "outputs": [
    {
     "name": "stdout",
     "output_type": "stream",
     "text": [
      ",Név,Eszter,Orsi,Nem,Kor,Dátum\r\n",
      "0,Bálint,2,.,fiú,20,12:31\r\n",
      "1,Csenge,4,4,lány,22,13:20\r\n",
      "2,István,5,4,fiú,19,12:35\r\n",
      "3,Zita,3,5,lány,20,14:50\r\n",
      "4,Károly,4,.,fiú,21,14:55\r\n"
     ]
    }
   ],
   "source": [
    "%cat tmp.tsv"
   ]
  },
  {
   "cell_type": "markdown",
   "metadata": {
    "deletable": true,
    "editable": true
   },
   "source": [
    "Az elválasztót itt is a sep argumentummal állíthatjuk be."
   ]
  },
  {
   "cell_type": "code",
   "execution_count": 35,
   "metadata": {
    "collapsed": false,
    "deletable": true,
    "editable": true
   },
   "outputs": [],
   "source": [
    "df.to_csv('tmp.tsv',sep='\\t')"
   ]
  },
  {
   "cell_type": "code",
   "execution_count": 36,
   "metadata": {
    "collapsed": false,
    "deletable": true,
    "editable": true
   },
   "outputs": [
    {
     "name": "stdout",
     "output_type": "stream",
     "text": [
      "\tNév\tEszter\tOrsi\tNem\tKor\tDátum\r\n",
      "0\tBálint\t2\t.\tfiú\t20\t12:31\r\n",
      "1\tCsenge\t4\t4\tlány\t22\t13:20\r\n",
      "2\tIstván\t5\t4\tfiú\t19\t12:35\r\n",
      "3\tZita\t3\t5\tlány\t20\t14:50\r\n",
      "4\tKároly\t4\t.\tfiú\t21\t14:55\r\n"
     ]
    }
   ],
   "source": [
    "%cat tmp.tsv"
   ]
  },
  {
   "cell_type": "markdown",
   "metadata": {
    "deletable": true,
    "editable": true
   },
   "source": [
    "Írhatunk tömörítve."
   ]
  },
  {
   "cell_type": "code",
   "execution_count": 37,
   "metadata": {
    "collapsed": true,
    "deletable": true,
    "editable": true
   },
   "outputs": [],
   "source": [
    "df.to_csv('tmp.csv.gz')"
   ]
  },
  {
   "cell_type": "markdown",
   "metadata": {
    "deletable": true,
    "editable": true
   },
   "source": [
    "A lebegőpontos számok formátumát is beállíthatjuk."
   ]
  },
  {
   "cell_type": "code",
   "execution_count": 38,
   "metadata": {
    "collapsed": true,
    "deletable": true,
    "editable": true
   },
   "outputs": [],
   "source": [
    "df.to_csv('tmp.csv',float_format='%.2f')"
   ]
  },
  {
   "cell_type": "code",
   "execution_count": 39,
   "metadata": {
    "collapsed": false,
    "deletable": true,
    "editable": true
   },
   "outputs": [
    {
     "name": "stdout",
     "output_type": "stream",
     "text": [
      ",Név,Eszter,Orsi,Nem,Kor,Dátum\r\n",
      "0,Bálint,2,.,fiú,20,12:31\r\n",
      "1,Csenge,4,4,lány,22,13:20\r\n",
      "2,István,5,4,fiú,19,12:35\r\n",
      "3,Zita,3,5,lány,20,14:50\r\n",
      "4,Károly,4,.,fiú,21,14:55\r\n"
     ]
    }
   ],
   "source": [
    "%cat tmp.csv"
   ]
  },
  {
   "cell_type": "markdown",
   "metadata": {
    "deletable": true,
    "editable": true
   },
   "source": [
    "## További beolvasó-kiíró függvények:"
   ]
  },
  {
   "cell_type": "markdown",
   "metadata": {
    "deletable": true,
    "editable": true
   },
   "source": [
    "Tudunk excel file-t is beolvasni. \n",
    "\n"
   ]
  },
  {
   "cell_type": "code",
   "execution_count": 40,
   "metadata": {
    "collapsed": false,
    "deletable": true,
    "editable": true,
    "scrolled": true
   },
   "outputs": [
    {
     "data": {
      "text/html": [
       "<div>\n",
       "<table border=\"1\" class=\"dataframe\">\n",
       "  <thead>\n",
       "    <tr style=\"text-align: right;\">\n",
       "      <th></th>\n",
       "      <th>Eszter</th>\n",
       "      <th>Orsi</th>\n",
       "      <th>Nem</th>\n",
       "      <th>Kor</th>\n",
       "    </tr>\n",
       "  </thead>\n",
       "  <tbody>\n",
       "    <tr>\n",
       "      <th>Bálint</th>\n",
       "      <td>2</td>\n",
       "      <td>3</td>\n",
       "      <td>fiú</td>\n",
       "      <td>20</td>\n",
       "    </tr>\n",
       "    <tr>\n",
       "      <th>Csenge</th>\n",
       "      <td>4</td>\n",
       "      <td>4</td>\n",
       "      <td>lány</td>\n",
       "      <td>22</td>\n",
       "    </tr>\n",
       "    <tr>\n",
       "      <th>István</th>\n",
       "      <td>5</td>\n",
       "      <td>4</td>\n",
       "      <td>fiú</td>\n",
       "      <td>19</td>\n",
       "    </tr>\n",
       "    <tr>\n",
       "      <th>Zita</th>\n",
       "      <td>3</td>\n",
       "      <td>5</td>\n",
       "      <td>lány</td>\n",
       "      <td>20</td>\n",
       "    </tr>\n",
       "  </tbody>\n",
       "</table>\n",
       "</div>"
      ],
      "text/plain": [
       "        Eszter  Orsi   Nem  Kor\n",
       "Bálint       2     3   fiú   20\n",
       "Csenge       4     4  lány   22\n",
       "István       5     4   fiú   19\n",
       "Zita         3     5  lány   20"
      ]
     },
     "execution_count": 40,
     "metadata": {},
     "output_type": "execute_result"
    }
   ],
   "source": [
    "df=pd.read_excel('data/kisnevsor.xlsx')\n",
    "df"
   ]
  },
  {
   "cell_type": "markdown",
   "metadata": {
    "deletable": true,
    "editable": true
   },
   "source": [
    "És írni.\n"
   ]
  },
  {
   "cell_type": "code",
   "execution_count": 41,
   "metadata": {
    "collapsed": false,
    "deletable": true,
    "editable": true
   },
   "outputs": [],
   "source": [
    "df.to_excel('tmp.xlsx')"
   ]
  },
  {
   "cell_type": "markdown",
   "metadata": {
    "deletable": true,
    "editable": true
   },
   "source": [
    "### dictionary olvasása"
   ]
  },
  {
   "cell_type": "markdown",
   "metadata": {
    "deletable": true,
    "editable": true
   },
   "source": [
    "Különböző webes szolgáltatásokból gyakran egy Python dictionary-szerű stringként, ún. JSON-formátumban kapjuk meg a kért adatokat. Ezeket dictionaryvé a json könyvtár függvényeivel alakíthatjuk."
   ]
  },
  {
   "cell_type": "code",
   "execution_count": 42,
   "metadata": {
    "collapsed": true,
    "deletable": true,
    "editable": true
   },
   "outputs": [],
   "source": [
    "import json"
   ]
  },
  {
   "cell_type": "markdown",
   "metadata": {
    "deletable": true,
    "editable": true
   },
   "source": [
    "A `data/json_example` fájl minden sora egy ilyen szótár, amit a Google Geocoding API-ból kaptunk eredményül. Töltsük be ezeket a sorokat egy dictionaryket tartalmazó listába a következő parancssal:"
   ]
  },
  {
   "cell_type": "code",
   "execution_count": 43,
   "metadata": {
    "collapsed": false,
    "deletable": true,
    "editable": true
   },
   "outputs": [
    {
     "data": {
      "text/plain": [
       "[{'id': '3040051',\n",
       "  'query': 'les+Escaldes+AD',\n",
       "  'results': [{'address_components': [{'long_name': 'Les Escaldes',\n",
       "      'short_name': 'Les Escaldes',\n",
       "      'types': ['locality', 'political']},\n",
       "     {'long_name': 'Escaldes-Engordany',\n",
       "      'short_name': 'Escaldes-Engordany',\n",
       "      'types': ['administrative_area_level_1', 'political']},\n",
       "     {'long_name': 'Andorra',\n",
       "      'short_name': 'AD',\n",
       "      'types': ['country', 'political']},\n",
       "     {'long_name': 'AD700', 'short_name': 'AD700', 'types': ['postal_code']}],\n",
       "    'formatted_address': 'AD700 Les Escaldes, Andorra',\n",
       "    'geometry': {'bounds': {'northeast': {'lat': 42.5168669, 'lng': 1.5532685},\n",
       "      'southwest': {'lat': 42.5067774, 'lng': 1.5285531}},\n",
       "     'location': {'lat': 42.5100804, 'lng': 1.5387862},\n",
       "     'location_type': 'APPROXIMATE',\n",
       "     'viewport': {'northeast': {'lat': 42.5168669, 'lng': 1.5532685},\n",
       "      'southwest': {'lat': 42.5067774, 'lng': 1.5285531}}},\n",
       "    'place_id': 'ChIJaxpK9OKKpRIRtp4e8lTF3v0',\n",
       "    'types': ['locality', 'political']}],\n",
       "  'status': 'OK'},\n",
       " {'id': '3040051',\n",
       "  'query': 'les+Escaldes+AD',\n",
       "  'results': [{'address_components': [{'long_name': 'Les Escaldes',\n",
       "      'short_name': 'Les Escaldes',\n",
       "      'types': ['locality', 'political']},\n",
       "     {'long_name': 'Escaldes-Engordany',\n",
       "      'short_name': 'Escaldes-Engordany',\n",
       "      'types': ['administrative_area_level_1', 'political']},\n",
       "     {'long_name': 'Andorra',\n",
       "      'short_name': 'AD',\n",
       "      'types': ['country', 'political']},\n",
       "     {'long_name': 'AD700', 'short_name': 'AD700', 'types': ['postal_code']}],\n",
       "    'formatted_address': 'AD700 Les Escaldes, Andorra',\n",
       "    'geometry': {'bounds': {'northeast': {'lat': 42.5168669, 'lng': 1.5532685},\n",
       "      'southwest': {'lat': 42.5067774, 'lng': 1.5285531}},\n",
       "     'location': {'lat': 42.5100804, 'lng': 1.5387862},\n",
       "     'location_type': 'APPROXIMATE',\n",
       "     'viewport': {'northeast': {'lat': 42.5168669, 'lng': 1.5532685},\n",
       "      'southwest': {'lat': 42.5067774, 'lng': 1.5285531}}},\n",
       "    'place_id': 'ChIJaxpK9OKKpRIRtp4e8lTF3v0',\n",
       "    'types': ['locality', 'political']}],\n",
       "  'status': 'OK'}]"
      ]
     },
     "execution_count": 43,
     "metadata": {},
     "output_type": "execute_result"
    }
   ],
   "source": [
    "d=[json.loads(s) for s in open(\"data/json_example\").readlines()]\n",
    "d[0:2]"
   ]
  },
  {
   "cell_type": "markdown",
   "metadata": {
    "deletable": true,
    "editable": true
   },
   "source": [
    "Látszik, hogy ugyanazok a kulcsok ismétlődnek minden listaelemben: célszerűbb lenne ezekből a sorokból tehát egy táblázatot készítenünk!"
   ]
  },
  {
   "cell_type": "code",
   "execution_count": 44,
   "metadata": {
    "collapsed": false,
    "deletable": true,
    "editable": true
   },
   "outputs": [
    {
     "data": {
      "text/html": [
       "<div>\n",
       "<table border=\"1\" class=\"dataframe\">\n",
       "  <thead>\n",
       "    <tr style=\"text-align: right;\">\n",
       "      <th></th>\n",
       "      <th>id</th>\n",
       "      <th>query</th>\n",
       "      <th>results</th>\n",
       "      <th>status</th>\n",
       "    </tr>\n",
       "  </thead>\n",
       "  <tbody>\n",
       "    <tr>\n",
       "      <th>0</th>\n",
       "      <td>3040051</td>\n",
       "      <td>les+Escaldes+AD</td>\n",
       "      <td>[{'address_components': [{'short_name': 'Les E...</td>\n",
       "      <td>OK</td>\n",
       "    </tr>\n",
       "    <tr>\n",
       "      <th>1</th>\n",
       "      <td>3040051</td>\n",
       "      <td>les+Escaldes+AD</td>\n",
       "      <td>[{'address_components': [{'short_name': 'Les E...</td>\n",
       "      <td>OK</td>\n",
       "    </tr>\n",
       "    <tr>\n",
       "      <th>2</th>\n",
       "      <td>3040051</td>\n",
       "      <td>les+Escaldes+AD</td>\n",
       "      <td>[{'address_components': [{'short_name': 'Les E...</td>\n",
       "      <td>OK</td>\n",
       "    </tr>\n",
       "    <tr>\n",
       "      <th>3</th>\n",
       "      <td>3041563</td>\n",
       "      <td>Andorra+la+Vella+AD</td>\n",
       "      <td>[{'address_components': [{'short_name': 'Andor...</td>\n",
       "      <td>OK</td>\n",
       "    </tr>\n",
       "    <tr>\n",
       "      <th>4</th>\n",
       "      <td>290594</td>\n",
       "      <td>Umm+al+Qaywayn+AE</td>\n",
       "      <td>[{'address_components': [{'short_name': 'Umm A...</td>\n",
       "      <td>OK</td>\n",
       "    </tr>\n",
       "    <tr>\n",
       "      <th>5</th>\n",
       "      <td>291074</td>\n",
       "      <td>Ras+al-Khaimah+AE</td>\n",
       "      <td>[{'address_components': [{'short_name': 'Ras A...</td>\n",
       "      <td>OK</td>\n",
       "    </tr>\n",
       "    <tr>\n",
       "      <th>6</th>\n",
       "      <td>3040051</td>\n",
       "      <td>les+Escaldes+AD</td>\n",
       "      <td>[{'address_components': [{'short_name': 'Les E...</td>\n",
       "      <td>OK</td>\n",
       "    </tr>\n",
       "    <tr>\n",
       "      <th>7</th>\n",
       "      <td>3041563</td>\n",
       "      <td>Andorra+la+Vella+AD</td>\n",
       "      <td>[{'address_components': [{'short_name': 'Andor...</td>\n",
       "      <td>OK</td>\n",
       "    </tr>\n",
       "    <tr>\n",
       "      <th>8</th>\n",
       "      <td>290594</td>\n",
       "      <td>Umm+al+Qaywayn+AE</td>\n",
       "      <td>[{'address_components': [{'short_name': 'Umm A...</td>\n",
       "      <td>OK</td>\n",
       "    </tr>\n",
       "    <tr>\n",
       "      <th>9</th>\n",
       "      <td>291074</td>\n",
       "      <td>Ras+al-Khaimah+AE</td>\n",
       "      <td>[{'address_components': [{'short_name': 'Ras A...</td>\n",
       "      <td>OK</td>\n",
       "    </tr>\n",
       "    <tr>\n",
       "      <th>10</th>\n",
       "      <td>291696</td>\n",
       "      <td>Khawr+Fakkan+AE</td>\n",
       "      <td>[{'address_components': [{'short_name': 'Khor ...</td>\n",
       "      <td>OK</td>\n",
       "    </tr>\n",
       "    <tr>\n",
       "      <th>11</th>\n",
       "      <td>292223</td>\n",
       "      <td>Dubai+AE</td>\n",
       "      <td>[{'address_components': [{'short_name': 'Dubai...</td>\n",
       "      <td>OK</td>\n",
       "    </tr>\n",
       "    <tr>\n",
       "      <th>12</th>\n",
       "      <td>292231</td>\n",
       "      <td>Dibba+Al-Fujairah+AE</td>\n",
       "      <td>[{'address_components': [{'short_name': 'Dibba...</td>\n",
       "      <td>OK</td>\n",
       "    </tr>\n",
       "    <tr>\n",
       "      <th>13</th>\n",
       "      <td>292239</td>\n",
       "      <td>Dibba+Al-Hisn+AE</td>\n",
       "      <td>[{'address_components': [{'short_name': 'Dibba...</td>\n",
       "      <td>OK</td>\n",
       "    </tr>\n",
       "    <tr>\n",
       "      <th>14</th>\n",
       "      <td>292672</td>\n",
       "      <td>Sharjah+AE</td>\n",
       "      <td>[{'address_components': [{'short_name': 'Sharj...</td>\n",
       "      <td>OK</td>\n",
       "    </tr>\n",
       "    <tr>\n",
       "      <th>15</th>\n",
       "      <td>292688</td>\n",
       "      <td>Ar+Ruways+AE</td>\n",
       "      <td>[{'address_components': [{'short_name': 'Ruwai...</td>\n",
       "      <td>OK</td>\n",
       "    </tr>\n",
       "    <tr>\n",
       "      <th>16</th>\n",
       "      <td>292878</td>\n",
       "      <td>Al+Fujayrah+AE</td>\n",
       "      <td>[{'address_components': [{'short_name': 'Fujai...</td>\n",
       "      <td>OK</td>\n",
       "    </tr>\n",
       "    <tr>\n",
       "      <th>17</th>\n",
       "      <td>292913</td>\n",
       "      <td>Al+Ain+AE</td>\n",
       "      <td>[{'address_components': [{'short_name': 'Al Ai...</td>\n",
       "      <td>OK</td>\n",
       "    </tr>\n",
       "    <tr>\n",
       "      <th>18</th>\n",
       "      <td>292932</td>\n",
       "      <td>Ajman+AE</td>\n",
       "      <td>[{'address_components': [{'short_name': 'Ajman...</td>\n",
       "      <td>OK</td>\n",
       "    </tr>\n",
       "    <tr>\n",
       "      <th>19</th>\n",
       "      <td>292953</td>\n",
       "      <td>Adh+Dhayd+AE</td>\n",
       "      <td>[{'address_components': [{'short_name': 'Al Dh...</td>\n",
       "      <td>OK</td>\n",
       "    </tr>\n",
       "    <tr>\n",
       "      <th>20</th>\n",
       "      <td>292968</td>\n",
       "      <td>Abu+Dhabi+AE</td>\n",
       "      <td>[{'address_components': [{'short_name': 'Abu D...</td>\n",
       "      <td>OK</td>\n",
       "    </tr>\n",
       "    <tr>\n",
       "      <th>21</th>\n",
       "      <td>1120985</td>\n",
       "      <td>Zaranj+AF</td>\n",
       "      <td>[{'address_components': [{'short_name': 'Zaran...</td>\n",
       "      <td>OK</td>\n",
       "    </tr>\n",
       "    <tr>\n",
       "      <th>22</th>\n",
       "      <td>1123004</td>\n",
       "      <td>Taloqan+AF</td>\n",
       "      <td>[{'address_components': [{'short_name': 'Taleq...</td>\n",
       "      <td>OK</td>\n",
       "    </tr>\n",
       "    <tr>\n",
       "      <th>23</th>\n",
       "      <td>1125155</td>\n",
       "      <td>Shindand+AF</td>\n",
       "      <td>[{'address_components': [{'short_name': 'Shind...</td>\n",
       "      <td>OK</td>\n",
       "    </tr>\n",
       "    <tr>\n",
       "      <th>24</th>\n",
       "      <td>1125444</td>\n",
       "      <td>Shibirghan+AF</td>\n",
       "      <td>[{'address_components': [{'short_name': 'Shebe...</td>\n",
       "      <td>OK</td>\n",
       "    </tr>\n",
       "    <tr>\n",
       "      <th>25</th>\n",
       "      <td>1125896</td>\n",
       "      <td>Shahrak+AF</td>\n",
       "      <td>[{'address_components': [{'short_name': 'Shahr...</td>\n",
       "      <td>OK</td>\n",
       "    </tr>\n",
       "    <tr>\n",
       "      <th>26</th>\n",
       "      <td>1127110</td>\n",
       "      <td>Sar-e+Pul+AF</td>\n",
       "      <td>[{'address_components': [{'short_name': 'SAR',...</td>\n",
       "      <td>OK</td>\n",
       "    </tr>\n",
       "    <tr>\n",
       "      <th>27</th>\n",
       "      <td>1127628</td>\n",
       "      <td>Sang-e+Charak+AF</td>\n",
       "      <td>[{'address_components': [{'short_name': 'Sangc...</td>\n",
       "      <td>OK</td>\n",
       "    </tr>\n",
       "    <tr>\n",
       "      <th>28</th>\n",
       "      <td>1127768</td>\n",
       "      <td>Aibak+AF</td>\n",
       "      <td>[{'place_id': 'ChIJZWwKfFiLzDgRdfl2_qj_-3w', '...</td>\n",
       "      <td>OK</td>\n",
       "    </tr>\n",
       "    <tr>\n",
       "      <th>29</th>\n",
       "      <td>1128265</td>\n",
       "      <td>Rustaq+AF</td>\n",
       "      <td>[{'address_components': [{'short_name': 'Rosta...</td>\n",
       "      <td>OK</td>\n",
       "    </tr>\n",
       "    <tr>\n",
       "      <th>30</th>\n",
       "      <td>1129516</td>\n",
       "      <td>Qarqin+AF</td>\n",
       "      <td>[{'address_components': [{'short_name': 'Qarqi...</td>\n",
       "      <td>OK</td>\n",
       "    </tr>\n",
       "    <tr>\n",
       "      <th>31</th>\n",
       "      <td>1129648</td>\n",
       "      <td>Qarawul+AF</td>\n",
       "      <td>[{'place_id': 'ChIJyb8QGYvQyzgRdiaQyJHumlk', '...</td>\n",
       "      <td>OK</td>\n",
       "    </tr>\n",
       "    <tr>\n",
       "      <th>32</th>\n",
       "      <td>1130490</td>\n",
       "      <td>Pul-e+Khumri+AF</td>\n",
       "      <td>[{'address_components': [{'short_name': 'Pol-e...</td>\n",
       "      <td>OK</td>\n",
       "    </tr>\n",
       "    <tr>\n",
       "      <th>33</th>\n",
       "      <td>1131316</td>\n",
       "      <td>Paghman+AF</td>\n",
       "      <td>[{'place_id': 'ChIJCz0LS-B80TgR3davf_uG-LM', '...</td>\n",
       "      <td>OK</td>\n",
       "    </tr>\n",
       "    <tr>\n",
       "      <th>34</th>\n",
       "      <td>1132495</td>\n",
       "      <td>Nahrin+AF</td>\n",
       "      <td>[{'place_id': 'ChIJRS6cMR1jzjgR1igmXM9SX6A', '...</td>\n",
       "      <td>OK</td>\n",
       "    </tr>\n",
       "    <tr>\n",
       "      <th>35</th>\n",
       "      <td>1133453</td>\n",
       "      <td>Maymana+AF</td>\n",
       "      <td>[{'address_components': [{'types': ['locality'...</td>\n",
       "      <td>OK</td>\n",
       "    </tr>\n",
       "    <tr>\n",
       "      <th>36</th>\n",
       "      <td>1133574</td>\n",
       "      <td>Mehtar+Lam+AF</td>\n",
       "      <td>[{'address_components': [{'types': ['locality'...</td>\n",
       "      <td>OK</td>\n",
       "    </tr>\n",
       "    <tr>\n",
       "      <th>37</th>\n",
       "      <td>1133616</td>\n",
       "      <td>Mazar-e+Sharif+AF</td>\n",
       "      <td>[{'address_components': [{'types': ['locality'...</td>\n",
       "      <td>OK</td>\n",
       "    </tr>\n",
       "    <tr>\n",
       "      <th>38</th>\n",
       "      <td>1134720</td>\n",
       "      <td>Lashkar+Gah+AF</td>\n",
       "      <td>[{'address_components': [{'types': ['locality'...</td>\n",
       "      <td>OK</td>\n",
       "    </tr>\n",
       "    <tr>\n",
       "      <th>39</th>\n",
       "      <td>1135158</td>\n",
       "      <td>Kushk+AF</td>\n",
       "      <td>[{'place_id': 'ChIJPUh4jR75Ij8Rrh_mPxfzMPs', '...</td>\n",
       "      <td>OK</td>\n",
       "    </tr>\n",
       "    <tr>\n",
       "      <th>40</th>\n",
       "      <td>1135689</td>\n",
       "      <td>Kunduz+AF</td>\n",
       "      <td>[{'address_components': [{'types': ['locality'...</td>\n",
       "      <td>OK</td>\n",
       "    </tr>\n",
       "    <tr>\n",
       "      <th>41</th>\n",
       "      <td>1136469</td>\n",
       "      <td>Khost+AF</td>\n",
       "      <td>[{'address_components': [{'types': ['locality'...</td>\n",
       "      <td>OK</td>\n",
       "    </tr>\n",
       "    <tr>\n",
       "      <th>42</th>\n",
       "      <td>1136575</td>\n",
       "      <td>Khulm+AF</td>\n",
       "      <td>[{'address_components': [{'types': ['locality'...</td>\n",
       "      <td>OK</td>\n",
       "    </tr>\n",
       "    <tr>\n",
       "      <th>43</th>\n",
       "      <td>1136863</td>\n",
       "      <td>Khash+AF</td>\n",
       "      <td>[{'place_id': 'ChIJR2gQu3mrID8RA2lW5t6wHJ0', '...</td>\n",
       "      <td>OK</td>\n",
       "    </tr>\n",
       "    <tr>\n",
       "      <th>44</th>\n",
       "      <td>1137168</td>\n",
       "      <td>Khanabad+AF</td>\n",
       "      <td>[{'address_components': [{'types': ['locality'...</td>\n",
       "      <td>OK</td>\n",
       "    </tr>\n",
       "    <tr>\n",
       "      <th>45</th>\n",
       "      <td>1137807</td>\n",
       "      <td>Karukh+AF</td>\n",
       "      <td>[{'place_id': 'ChIJvTKCpymRPD8R0vZ6CKqCG30', '...</td>\n",
       "      <td>OK</td>\n",
       "    </tr>\n",
       "    <tr>\n",
       "      <th>46</th>\n",
       "      <td>1138336</td>\n",
       "      <td>Kandahar+AF</td>\n",
       "      <td>[{'address_components': [{'types': ['locality'...</td>\n",
       "      <td>OK</td>\n",
       "    </tr>\n",
       "    <tr>\n",
       "      <th>47</th>\n",
       "      <td>1138958</td>\n",
       "      <td>Kabul+AF</td>\n",
       "      <td>[{'address_components': [{'types': ['locality'...</td>\n",
       "      <td>OK</td>\n",
       "    </tr>\n",
       "    <tr>\n",
       "      <th>48</th>\n",
       "      <td>1139715</td>\n",
       "      <td>Jalalabad+AF</td>\n",
       "      <td>[{'address_components': [{'types': ['locality'...</td>\n",
       "      <td>OK</td>\n",
       "    </tr>\n",
       "    <tr>\n",
       "      <th>49</th>\n",
       "      <td>1139807</td>\n",
       "      <td>Jabal+os+Saraj+AF</td>\n",
       "      <td>[{'address_components': [{'types': ['locality'...</td>\n",
       "      <td>OK</td>\n",
       "    </tr>\n",
       "  </tbody>\n",
       "</table>\n",
       "</div>"
      ],
      "text/plain": [
       "         id                 query  \\\n",
       "0   3040051       les+Escaldes+AD   \n",
       "1   3040051       les+Escaldes+AD   \n",
       "2   3040051       les+Escaldes+AD   \n",
       "3   3041563   Andorra+la+Vella+AD   \n",
       "4    290594     Umm+al+Qaywayn+AE   \n",
       "5    291074     Ras+al-Khaimah+AE   \n",
       "6   3040051       les+Escaldes+AD   \n",
       "7   3041563   Andorra+la+Vella+AD   \n",
       "8    290594     Umm+al+Qaywayn+AE   \n",
       "9    291074     Ras+al-Khaimah+AE   \n",
       "10   291696       Khawr+Fakkan+AE   \n",
       "11   292223              Dubai+AE   \n",
       "12   292231  Dibba+Al-Fujairah+AE   \n",
       "13   292239      Dibba+Al-Hisn+AE   \n",
       "14   292672            Sharjah+AE   \n",
       "15   292688          Ar+Ruways+AE   \n",
       "16   292878        Al+Fujayrah+AE   \n",
       "17   292913             Al+Ain+AE   \n",
       "18   292932              Ajman+AE   \n",
       "19   292953          Adh+Dhayd+AE   \n",
       "20   292968          Abu+Dhabi+AE   \n",
       "21  1120985             Zaranj+AF   \n",
       "22  1123004            Taloqan+AF   \n",
       "23  1125155           Shindand+AF   \n",
       "24  1125444         Shibirghan+AF   \n",
       "25  1125896            Shahrak+AF   \n",
       "26  1127110          Sar-e+Pul+AF   \n",
       "27  1127628      Sang-e+Charak+AF   \n",
       "28  1127768              Aibak+AF   \n",
       "29  1128265             Rustaq+AF   \n",
       "30  1129516             Qarqin+AF   \n",
       "31  1129648            Qarawul+AF   \n",
       "32  1130490       Pul-e+Khumri+AF   \n",
       "33  1131316            Paghman+AF   \n",
       "34  1132495             Nahrin+AF   \n",
       "35  1133453            Maymana+AF   \n",
       "36  1133574         Mehtar+Lam+AF   \n",
       "37  1133616     Mazar-e+Sharif+AF   \n",
       "38  1134720        Lashkar+Gah+AF   \n",
       "39  1135158              Kushk+AF   \n",
       "40  1135689             Kunduz+AF   \n",
       "41  1136469              Khost+AF   \n",
       "42  1136575              Khulm+AF   \n",
       "43  1136863              Khash+AF   \n",
       "44  1137168           Khanabad+AF   \n",
       "45  1137807             Karukh+AF   \n",
       "46  1138336           Kandahar+AF   \n",
       "47  1138958              Kabul+AF   \n",
       "48  1139715          Jalalabad+AF   \n",
       "49  1139807     Jabal+os+Saraj+AF   \n",
       "\n",
       "                                              results status  \n",
       "0   [{'address_components': [{'short_name': 'Les E...     OK  \n",
       "1   [{'address_components': [{'short_name': 'Les E...     OK  \n",
       "2   [{'address_components': [{'short_name': 'Les E...     OK  \n",
       "3   [{'address_components': [{'short_name': 'Andor...     OK  \n",
       "4   [{'address_components': [{'short_name': 'Umm A...     OK  \n",
       "5   [{'address_components': [{'short_name': 'Ras A...     OK  \n",
       "6   [{'address_components': [{'short_name': 'Les E...     OK  \n",
       "7   [{'address_components': [{'short_name': 'Andor...     OK  \n",
       "8   [{'address_components': [{'short_name': 'Umm A...     OK  \n",
       "9   [{'address_components': [{'short_name': 'Ras A...     OK  \n",
       "10  [{'address_components': [{'short_name': 'Khor ...     OK  \n",
       "11  [{'address_components': [{'short_name': 'Dubai...     OK  \n",
       "12  [{'address_components': [{'short_name': 'Dibba...     OK  \n",
       "13  [{'address_components': [{'short_name': 'Dibba...     OK  \n",
       "14  [{'address_components': [{'short_name': 'Sharj...     OK  \n",
       "15  [{'address_components': [{'short_name': 'Ruwai...     OK  \n",
       "16  [{'address_components': [{'short_name': 'Fujai...     OK  \n",
       "17  [{'address_components': [{'short_name': 'Al Ai...     OK  \n",
       "18  [{'address_components': [{'short_name': 'Ajman...     OK  \n",
       "19  [{'address_components': [{'short_name': 'Al Dh...     OK  \n",
       "20  [{'address_components': [{'short_name': 'Abu D...     OK  \n",
       "21  [{'address_components': [{'short_name': 'Zaran...     OK  \n",
       "22  [{'address_components': [{'short_name': 'Taleq...     OK  \n",
       "23  [{'address_components': [{'short_name': 'Shind...     OK  \n",
       "24  [{'address_components': [{'short_name': 'Shebe...     OK  \n",
       "25  [{'address_components': [{'short_name': 'Shahr...     OK  \n",
       "26  [{'address_components': [{'short_name': 'SAR',...     OK  \n",
       "27  [{'address_components': [{'short_name': 'Sangc...     OK  \n",
       "28  [{'place_id': 'ChIJZWwKfFiLzDgRdfl2_qj_-3w', '...     OK  \n",
       "29  [{'address_components': [{'short_name': 'Rosta...     OK  \n",
       "30  [{'address_components': [{'short_name': 'Qarqi...     OK  \n",
       "31  [{'place_id': 'ChIJyb8QGYvQyzgRdiaQyJHumlk', '...     OK  \n",
       "32  [{'address_components': [{'short_name': 'Pol-e...     OK  \n",
       "33  [{'place_id': 'ChIJCz0LS-B80TgR3davf_uG-LM', '...     OK  \n",
       "34  [{'place_id': 'ChIJRS6cMR1jzjgR1igmXM9SX6A', '...     OK  \n",
       "35  [{'address_components': [{'types': ['locality'...     OK  \n",
       "36  [{'address_components': [{'types': ['locality'...     OK  \n",
       "37  [{'address_components': [{'types': ['locality'...     OK  \n",
       "38  [{'address_components': [{'types': ['locality'...     OK  \n",
       "39  [{'place_id': 'ChIJPUh4jR75Ij8Rrh_mPxfzMPs', '...     OK  \n",
       "40  [{'address_components': [{'types': ['locality'...     OK  \n",
       "41  [{'address_components': [{'types': ['locality'...     OK  \n",
       "42  [{'address_components': [{'types': ['locality'...     OK  \n",
       "43  [{'place_id': 'ChIJR2gQu3mrID8RA2lW5t6wHJ0', '...     OK  \n",
       "44  [{'address_components': [{'types': ['locality'...     OK  \n",
       "45  [{'place_id': 'ChIJvTKCpymRPD8R0vZ6CKqCG30', '...     OK  \n",
       "46  [{'address_components': [{'types': ['locality'...     OK  \n",
       "47  [{'address_components': [{'types': ['locality'...     OK  \n",
       "48  [{'address_components': [{'types': ['locality'...     OK  \n",
       "49  [{'address_components': [{'types': ['locality'...     OK  "
      ]
     },
     "execution_count": 44,
     "metadata": {},
     "output_type": "execute_result"
    }
   ],
   "source": [
    "pd.DataFrame.from_dict(d)"
   ]
  }
 ],
 "metadata": {
  "anaconda-cloud": {},
  "hide_input": false,
  "kernelspec": {
   "display_name": "Python 3",
   "language": "python",
   "name": "python3"
  },
  "language_info": {
   "codemirror_mode": {
    "name": "ipython",
    "version": 3
   },
   "file_extension": ".py",
   "mimetype": "text/x-python",
   "name": "python",
   "nbconvert_exporter": "python",
   "pygments_lexer": "ipython3",
   "version": "3.5.2"
  },
  "toc": {
   "toc_cell": false,
   "toc_number_sections": false,
   "toc_section_display": "block",
   "toc_threshold": 6,
   "toc_window_display": false
  }
 },
 "nbformat": 4,
 "nbformat_minor": 0
}
