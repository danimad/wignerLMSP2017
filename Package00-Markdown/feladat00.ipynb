{
 "cells": [
  {
   "cell_type": "markdown",
   "metadata": {},
   "source": [
    "# Feladatok\n",
    "\n",
    "Minden feladatot külön notebookba írj!\n",
    "\n",
    "---"
   ]
  },
  {
   "cell_type": "markdown",
   "metadata": {},
   "source": [
    "## 01-Szövegszerkesztés\n",
    "\n",
    "- Foglald össze három rövid mondatban, hogy mit csináltál a vizsgaidőszakban. Használj dőlt betűt és vastag betűt is!\n",
    "- Csinálj egy táblázatot, amely összefoglalja, hogy a november, a december és a január hónapban átlagosan sokat vagy keveset aludtál. \n",
    "- Linkelj be egy képet egy Wikipedia-szócikkből!"
   ]
  },
  {
   "cell_type": "markdown",
   "metadata": {},
   "source": [
    "## 02-Barometrikus magasságformula"
   ]
  },
  {
   "cell_type": "markdown",
   "metadata": {},
   "source": [
    "Írd le a barometrikus magasságformulát! Ha esetleg nem emlékeznél rá, akkor [itt](http://www.google.com) meglelheted a megoldást! "
   ]
  },
  {
   "cell_type": "markdown",
   "metadata": {},
   "source": [
    "## 03-Másodfokú egyenlet"
   ]
  },
  {
   "cell_type": "markdown",
   "metadata": {},
   "source": [
    "Mi a másodfokú egyenlet megoldóképlete?"
   ]
  },
  {
   "cell_type": "markdown",
   "metadata": {},
   "source": [
    "## 04-Saját képlet"
   ]
  },
  {
   "cell_type": "markdown",
   "metadata": {},
   "source": [
    "Az [Abramowitz and Stegun](http://people.math.sfu.ca/~cbm/aands/) könyvből keresd ki azt a képletet, amelynek a száma a születési dátumod! "
   ]
  }
 ],
 "metadata": {
  "hide_input": false,
  "kernelspec": {
   "display_name": "Python 3",
   "language": "python",
   "name": "python3"
  },
  "language_info": {
   "codemirror_mode": {
    "name": "ipython",
    "version": 3
   },
   "file_extension": ".py",
   "mimetype": "text/x-python",
   "name": "python",
   "nbconvert_exporter": "python",
   "pygments_lexer": "ipython3",
   "version": "3.5.2"
  },
  "latex_envs": {
   "bibliofile": "biblio.bib",
   "cite_by": "apalike",
   "current_citInitial": 1,
   "eqLabelWithNumbers": true,
   "eqNumInitial": 0
  },
  "name": "feladat00.ipynb",
  "toc": {
   "toc_cell": false,
   "toc_number_sections": true,
   "toc_threshold": 6,
   "toc_window_display": false
  }
 },
 "nbformat": 4,
 "nbformat_minor": 0
}
