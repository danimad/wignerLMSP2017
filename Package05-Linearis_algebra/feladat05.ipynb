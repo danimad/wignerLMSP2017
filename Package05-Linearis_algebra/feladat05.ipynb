{
 "cells": [
  {
   "cell_type": "markdown",
   "metadata": {
    "collapsed": false,
    "deletable": true,
    "editable": true
   },
   "source": [
    "# Feladatok\n",
    "- Minden feladatot a feladatszámnak megfelelő számú megoldásnotebookban oldj meg. Azaz az első feladatot az `1_feladat.ipynb` notebookban.\n",
    "- A **halálfejes (☠)** feladatokhoz, **hozz létre** a kötelező feladatokhoz hasonlóan egy új notebookot a MEGOLDÁSOK könyvtárban.\n",
    "- Csak azok a feladatok kerülnek elbírálásra, amelyek a MEGOLDASOK mappában vannak!\n",
    "- A megoldás tartalmazza a megoldandó **feladat szövegét** a megoldásnotebook első `markdown` cellájában!\n",
    "- **Kommentekkel**, illetve `markdown` cellákkal magyarázd, hogy éppen mit csinál az adott kódrészlet!<br> **Magyarázat nélkül a beküldött feladatok csak fél feladatnak számítanak!**\n",
    "- Az elkészített ábrák minden esetben rendelkezzenek **ábrafeliratokkal** (cím, tengelyfeliratok és $-$ amennyiben indokolt $-$ jelmagyarázat)!\n",
    "**Amennyiben a beadott ábrákon nincsenek feliratok, az adott feladat automatikusan csak fél feladatnak számít**!\n",
    "\n",
    "----\n"
   ]
  },
  {
   "cell_type": "markdown",
   "metadata": {
    "deletable": true,
    "editable": true
   },
   "source": [
    "## 01 - Mátrixszorzás\n",
    "Az alábbi mátrixok közül \n",
    "\n",
    "\\begin{equation}\n",
    "M_1=\\left(\\begin{array}{ccc}\n",
    "3 &6 &3\\\\\n",
    "9 &3 &9\\\\\n",
    "2 &0 &2\n",
    "\\end{array}\\right)\\,, \n",
    "M_2=\\left(\\begin{array}{ccc}\n",
    "7 &9 &6\\\\\n",
    "9 &3 &0\\\\\n",
    "1 &2 &3\n",
    "\\end{array}\\right)\\,, \n",
    "M_3=\\left(\\begin{array}{ccc}\n",
    "3 &2 &6\\\\\n",
    "6 &5 &9\\\\\n",
    "8 &5 &8\n",
    "\\end{array}\\right)\\,,\n",
    "M_4=\\left(\\begin{array}{ccc}\n",
    "0 &2 &9\\\\\n",
    "6 &5 &4\\\\\n",
    "9 &9 &2\\end{array}\\right)\n",
    "\\end{equation}\n",
    "\n",
    "\n",
    "ha kettőt megfelelő sorrendben összeszorzunk, akkor eredményül az\n",
    "\n",
    "\\begin{equation}\n",
    "X=\\left(\\begin{array}{ccc}\n",
    "36&   6&  36\\\\\n",
    "71&  51&  71\\\\\n",
    "112&  81& 112\n",
    "\\end{array}\\right)\n",
    "\\end{equation}\n",
    "\n",
    "mátrixot kapjuk.\n",
    "\n",
    "* Határozzuk meg, hogy melyik mátrixok azok, amelyek a szorzás tényezőit adják, illetve hogy milyen sorrendben kell a szorzást elvégezni!\n",
    "* Mely mátrixok invertálhatóak $M_1,\\dots,M_4$ közül?\n",
    "\n",
    "*Segítségül listaformátumban a következő cellából kimásolhatók a mátrixok.*"
   ]
  },
  {
   "cell_type": "code",
   "execution_count": 1,
   "metadata": {
    "collapsed": true,
    "deletable": true,
    "editable": true
   },
   "outputs": [],
   "source": [
    "M1=[[3,6,3],[9,3,9],[2,0,2]]\n",
    "M2=[[7,9,6],[9,3,0],[1,2,3]]\n",
    "M3=[[3,2,6],[6,5,9],[8,5,8]]\n",
    "M4=[[0,2,9],[6,5,4],[9,9,2]]\n",
    "X=[[36,6,36],[71,51,71],[112,81,112]]"
   ]
  },
  {
   "cell_type": "markdown",
   "metadata": {
    "deletable": true,
    "editable": true
   },
   "source": [
    "## 02 - 3D forgatás\n",
    "\n",
    "Az $x$ $y$ és $z$ tengely körüli forgatások mátrixai  a következő alakot öltik:\n",
    "$$\n",
    "R_x(\\alpha)=\\begin{pmatrix}\n",
    "1 & 0          & 0           \\\\\n",
    "0 & \\cos\\alpha & -\\sin\\alpha \\\\ \n",
    "0 & \\sin\\alpha & \\cos\\alpha                   \n",
    "\\end{pmatrix},\n",
    "\\quad\n",
    "R_y(\\alpha)=\\begin{pmatrix}\n",
    "\\cos\\alpha  & 0 & \\sin\\alpha \\\\ \n",
    "0           & 1 & 0          \\\\\n",
    "-\\sin\\alpha & 0 & \\cos\\alpha\n",
    "\\end{pmatrix},\n",
    "\\quad\n",
    "R_z(\\alpha)=\\begin{pmatrix}\n",
    "\\cos\\alpha & -\\sin\\alpha & 0 \\\\ \n",
    "\\sin\\alpha & \\cos\\alpha  & 0 \\\\\n",
    "0          & 0           & 1\n",
    "\\end{pmatrix}.\n",
    "$$\n",
    "\n",
    "A `solve()` függvény segítségével határozzuk meg, hogy melyik az az $u$ vektor, melyre igaz az, hogy \n",
    "$$ R_x(\\pi/3)R_z(\\pi/7)R_y(\\pi/5)u=\n",
    "\\begin{pmatrix}\n",
    "137  \\\\ \n",
    "42   \\\\\n",
    "36  \n",
    "\\end{pmatrix}\n",
    "$$\n"
   ]
  },
  {
   "cell_type": "markdown",
   "metadata": {
    "deletable": true,
    "editable": true
   },
   "source": [
    "## 03 - Ortogonális mátrixok\n",
    "\n",
    "Döntsük el, hogy a következő mátrix lehet-e  lehet-e ortonormált bázisok közti áttérés mátrixa, azaz ortogonális mátrix-e?\n",
    "\n",
    "$$T=\\left(\\begin{array}{ccc}0.7288991255358142 & -0.4338837391175581 & -0.5295762133276873\\\\\n",
    "        -0.3335273011906018 & 0.4504844339512097 & -0.8281445007534446\\\\\n",
    "         0.5978842732114963 & 0.7802619276224011 & 0.1836456374361667\\\\\n",
    "\\end{array}\\right)$$\n",
    "\n",
    "Végezzük el a bázistranszformációt az 1. feladatbeli $M_2$ mátrixon, és ellenőrizzük, hogy a spúrja és determinánsa megváltozott-e!\n",
    "\n",
    "*Segítségül a mátrixot listaformátumban megadtuk a következő cellában.*"
   ]
  },
  {
   "cell_type": "code",
   "execution_count": 2,
   "metadata": {
    "collapsed": false,
    "deletable": true,
    "editable": true
   },
   "outputs": [],
   "source": [
    "T=[[ 0.7288991255358142, -0.4338837391175581, -0.5295762133276873],\n",
    "        [-0.3335273011906018,  0.4504844339512097, -0.8281445007534446],\n",
    "        [ 0.5978842732114963,  0.7802619276224011,  0.1836456374361667]]"
   ]
  },
  {
   "cell_type": "markdown",
   "metadata": {
    "collapsed": true,
    "deletable": true,
    "editable": true
   },
   "source": [
    "## 04 - A $\\mathrm{CO}_2$ molekula longitudinális rezgései\n",
    "\n",
    "A CO$_2$ molekula atomjai egyensúlyi helyzetükben egy egyenesben helyezkednek el.\n",
    "A molekula hosszirányú rezgéseit az alábbi egyenletrendszer írja le kis kitérések esetén:\n",
    "\n",
    "\\begin{align}\n",
    "m_\\mathrm{O} \\overset{..}{x}_1 &=& k\\cdot(x_2-x_1),\\\\\n",
    "m_\\mathrm{C} \\overset{..}{x}_2 &=& k\\cdot(x_1-x_2)+k\\cdot(x_3-x_2),\\\\\n",
    "m_\\mathrm{O} \\overset{..}{x}_3 &=& k\\cdot(x_2-x_3),\n",
    "\\end{align}\n",
    "\n",
    "ahol a $x_1$, $x_2$ és $x_3$ az atomok kitérései egyensúlyi helyzetükből, elhelyezkedésük sorrendjében számozva.\n",
    "\n",
    "Feltéve, hogy a rendszer harmonikus rezgőmozgást végez ( $x_i=A_i\\cdot e^{\\mathrm{i}\\omega t}$ ), az alábbi egyenletrendszerre jutunk:\n",
    "\n",
    "\\begin{align}\n",
    "m_\\mathrm{O} \\omega^2 A_1 &=& k\\cdot(A_1-A_2),\\\\\n",
    "m_\\mathrm{C} \\omega^2 A_2 &=& k\\cdot(A_2-A_1)+k\\cdot(A_2-A_3),\\\\\n",
    "m_\\mathrm{O} \\omega^2 A_3 &=& k\\cdot(A_3-A_2).\n",
    "\\end{align}\n",
    "\n",
    "Legyen $k=1$, $m_\\mathrm{O}=16$ és $m_\\mathrm{C}=12$.\n",
    "\n",
    "Határozuk meg a **numpy** eig() rutinja segítségével az $\\omega_i$ sajátfrekvenciákat (sajátértékeket), illetve a sajátfrekvenciákhoz tartozó rezgési módusokat (sajátvektorokat)!"
   ]
  },
  {
   "cell_type": "markdown",
   "metadata": {
    "deletable": true,
    "editable": true
   },
   "source": [
    "## 05 - Ritka mátrixok\n",
    "\n",
    "Állítsuk elő a következő $N\\times N$-es mátrixot sűrű (**numpy**), illetve ritka (**scipy**) mátrixként a két könyvtár **kron** függvénye segítségével $N=100,200,\\dots,1000$ esetén! Készítsük el az $N$ hosszú $b$ vektort is!\n",
    "\n",
    "$$M=\\left(\\begin{array}{rrrrrrr}\n",
    "2 & -4 & 0 & 0 & \\dots & 0 & 0\\\\\n",
    "-4 & 2 & 0 & 0 & \\dots & 0 & 0\\\\\n",
    "0 & 0 & 2 & -4 & \\dots & 0 & 0\\\\\n",
    "0 & 0 & -4 & 2 & \\dots & 0 & 0\\\\\n",
    "\\vdots & & & & \\ddots & & \\vdots\\\\\n",
    "0 & 0 & 0 & 0 & \\dots & 2 & -4\\\\\n",
    "0 & 0 & 0 & 0 & \\dots & -4 & 2\\end{array}\\right)\\qquad \n",
    "b=\\left(\\begin{array}{c}\n",
    "1\\\\\n",
    "2\\\\\n",
    "1\\\\\n",
    "2\\\\\n",
    "\\vdots\\\\\n",
    "1\\\\\n",
    "2\n",
    "\\end{array}\\right)$$\n",
    "\n",
    "\n",
    "Minden méret esetén a ritka és a sűrű esetben is keressük meg azt az $u$ vektort, amelyre $M\\cdot u = b$, mérjük meg a megoldás futási idejét, és ábrázoljuk azt két görbén a méret függvényében! Mit vehetünk észre?\n",
    "\n",
    "A futási idő méréséhez keressünk rá a `time` modul `time()` függvényére!"
   ]
  },
  {
   "cell_type": "markdown",
   "metadata": {
    "deletable": true,
    "editable": true
   },
   "source": [
    "## 06 - Su$-$Schrieffer$-$Heeger-modell sávszerkezete ☠\n",
    " \n",
    "A szilárdtestfizikában a Su$-$Schrieffer$-$Heeger-modell egy végtelen periodikus poliacetilén láncot ír le. A modell Hamilton-operátora az alábbi 2x2-es hermitikus mátrix:\n",
    "$$\n",
    "H=\\left(\n",
    "\\begin{array}{cc}\n",
    " 0 & 1+w e^{-i k} \\\\\n",
    " 1+w e^{i k} & 0 \\\\\n",
    "\\end{array}\n",
    "\\right).\n",
    "$$\n",
    "A fenti kifejezésben $k$ a hullámszámvektor, melynek értéke a $[-\\pi,\\pi]$ intervallumon változhat, $w$  pedig egy valós szám, melynek értéke $0.5$ és $1.5$ között változhat. Készítsünk egy interaktív ábrát, mely a Hamilton-operátor sajátértékeit ábrázolja $k$ függvényében, ahol egy csúszka segítségével $w$ értékét változtathatjuk!"
   ]
  },
  {
   "cell_type": "markdown",
   "metadata": {
    "deletable": true,
    "editable": true
   },
   "source": [
    "## 07 - PageRank ☠\n",
    "\n",
    "A Google-keresés áttörő sikerét a [PageRank](http://www.stat.cmu.edu/~ryantibs/datamining/lectures/03-pr.pdf)-algoritmus indította el, melynek természetesen mára már a titkos és sokat finomított verzióját tartalmazza a keresőmotor. Az első PageRank-változat azonban egy nagyon szép és intuitív képre vezethető vissza, melynek segítségével végső soron a leghasznosabb honlapok megkeresése is a következő mátrix sajátérték-problémára egyszerűsödik:\n",
    "\n",
    "$$\\mathbf{V}=\\mathbf{L}\\mathbf{M^{-1}},$$ \n",
    "\n",
    "ahol\n",
    "* $n$ a csúcsok száma,\n",
    "* $\\mathbf{L}$ az ún. összekötöttségi mátrix, azaz\n",
    "    * $L_{ij}=1$, ha $i$ és $j$ között van él, és\n",
    "    * $L_{ij}=0$, ha $i$ és $j$ között nincs él.\n",
    "* $\\mathbf{M}$ pedig az az $n\\times n$-es mátrix, melynek főátlójában a csúcsok fokszáma áll\n",
    "$$M_{ii}=\\sum_{j=1}^n L_{ij}.$$\n",
    "\n",
    "A $V$ mátrixnak az 1 sajátértékű sajátvektorában szereplő számok lesznek a PageRankek.\n",
    "\n",
    "A Google által 2002-ben közzétett, az internet hálózatát feltérképező [adatokból](http://snap.stanford.edu/data/web-Google.html) fájl első 10000 sorából készítsük el az M mátrixot, dobjuk ki a csak 0-kat tartalmazó sorokat, és az ehhez tartozó oszlopokat is. Ezek után állapítsuk meg V-ből, melyik a 10 legnagyobb PageRankkel rendelkező oldal! Elegendő a mátrix átszámozás utáni sorindexeivel megadni a honlapokat.\n",
    "\n",
    "A feladat megoldása során felmerülő nagy mátrixot a `scipy` modul [ritka mátrixokért felelős függvényeivel](https://docs.scipy.org/doc/scipy-0.18.1/reference/sparse.linalg.html) dolgozzuk fel!"
   ]
  },
  {
   "cell_type": "markdown",
   "metadata": {
    "deletable": true,
    "editable": true
   },
   "source": [
    "## 08 - Általános forgatások ☠\n",
    "\n",
    "Állítsuk elő a 2. feladatban szereplő forgatásmátrixok segítségével egy ferde tengely körüli térbeli forgatás mátrixát! A tengely legyen koordinátarendszerünk origóján átmenő egyenes!\n",
    "\n",
    "* A tengely iránya olyan, hogy ha egyik  felét kiválasztjuk, annak a vízszintes $x$-$y$ síkra vett vetülete $\\varphi=\\pi/3$ szöget zár be az $x$ tengely pozitív ágával, pozitív szögelfordulás irányában mérve.\n",
    "* Ugyanakkor a tengely előbb kiválasztott fele $\\theta=\\pi/4$ szöget zár be a vízszintes síkkal felfelé mérve (azaz az $x,y,z$ tengelyek pozitív ága közti térrészben helyezkedik el a tengelynek ez a félegyenese).\n",
    "* A forgatás szöge legyen $\\alpha=\\pi/6$ a ferdén felfelé mutató ága irányából nézve!\n",
    "\n",
    "Segítség: Határozzuk meg mátrixunkat a következő transzformációk egymásutánjából! Először forgassuk el két forgatással a tér pontjait úgy, hogy a kiválasztott forgástengely átmenjen az $x$ tengely egyenesébe! Utána forgassunk az $x$ tengely körül $\\alpha$ szöggel! Végül csináljuk vissza a kezdeti forgatásokat, hogy a kiválasztott forgástengely az $x$ tengelyből visszakerüljön a helyére! Így a végeredményt tekintve nyilván ennek a tengelynek a pontjai a helyükön maradnak.\n",
    "\n",
    "Ellenőrzésül számoljuk ki a mátrix sajátértékeit! Azt kaptuk-e, amit kell?"
   ]
  },
  {
   "cell_type": "markdown",
   "metadata": {
    "deletable": true,
    "editable": true
   },
   "source": [
    "## 09 - Szinguláris egyenletrendszerek ☠\n",
    "\n",
    "Két egyforma ellenállásokból álló csillagkapcsolást rombusz alakban összekapcsolunk.\n",
    "Az így kapott áramkör négy kimenetén folyó áram a kimenetekre kapcsolt elektromos potenciál függvényében a következő egyenletekkel számolható ki:\n",
    "\n",
    "\\begin{align}\n",
    "I_1 &=& -\\frac{2}{R}U_1 +\\frac{1}{R}U_2                +\\frac{1}{R}U_4 \\\\\n",
    "I_2 &=&  \\frac{1}{R}U_1 -\\frac{4}{R}U_2 +\\frac{1}{R}U_3 +\\frac{2}{R}U_4 \\\\\n",
    "I_3 &=&  \\frac{1}{R}U_2                 -\\frac{2}{R}U_3 +\\frac{1}{R}U_4 \\\\\n",
    "I_4 &=&  \\frac{1}{R}U_1 +\\frac{2}{R}U_2 +\\frac{1}{R}U_3 -\\frac{4}{R}U_4\n",
    "\\end{align}\n",
    "\n",
    "Számoljuk ki a potenciálokat, ha megmértük, hogy $I_1=4, I_2=4, I_3=0, I_4=-8$ [Amper] és $R=1$ [Ohm]!\n",
    "\n",
    "Keressük meg az egyenletrendszer mátrixának sajátértékeit! Ha van nulla sajátérték, tegyük el a hozzá tartozó sajátvektort $v$-be, és számoljuk ki $A\\cdot(U + c v)$ értékét, ahol $U$ a megoldásként kapott $U_i$ értékekből alkotott vektor! Mit figyelhetünk meg, és mivel magyarázhatjuk? Hány megoldása van az egyenletrendszernek?\n",
    "\n",
    "Előállítható-e az egyenletrendszer valamely szempont szerint kiszemelt megoldása az $I_i$ értékekből alkotott $I$ vektor függvényében $M\\cdot I$ alakban, és mi $M$ ekkor?"
   ]
  },
  {
   "cell_type": "markdown",
   "metadata": {
    "deletable": true,
    "editable": true
   },
   "source": [
    "## 10 - Rugólánc ☠\n",
    "\n",
    "![](rugos.svg)\n",
    "\n",
    "\n",
    "Kössünk össze képzeletben rugókkal $N$ db $m_1$ és $N$ db $m_2$ tömegű tömegpontot egy egyenes mentén láncban, felváltva $k_1$ és $k_2$ direkciós erejű rugókkal a képen vázoltak szerint (A szaggatott vonallal jelölt egység a rendszer egy [elemi cellája](https://en.wikipedia.org/wiki/Crystal_structure#Unit_cell)). Figyelem a szélső tömegpontokat mind a két oldalon $k_2$ direkciós erejű rugó rögzíti a falhoz.\n",
    "\n",
    "Vizsgáljuk a rendszer hosszirányú rezgéseit !\n",
    "\n",
    "\n",
    "Jelölje $x_{n,1/2}, n=0\\ldots N$ a kék/piros tömegpontok egyensúlytól való kitérését!\n",
    "Némi algebrával a tömeg pontok mozgásegyenletei az alábbi egyenlet rendszer\n",
    "\n",
    "\\begin{eqnarray}\n",
    "m_1\\ddot{x}_{n,1}=k_1(x_{n,2}-x_{n,1})+k_2(x_{n-1,2}-x_{n,1}) \\\\\n",
    "m_2\\ddot{x}_{n,2}=k_1(x_{n,1}-x_{n,2})+k_2(x_{n+1,1}-x_{n,2})\n",
    "\\end{eqnarray}\n",
    "\n",
    "Írjuk át az egyenletrendszert az $x$ vektorra vonatkozó $m \\ddot x = A\\cdot x$ alakba, és keressük a megoldást\n",
    "$a\\cdot e^{i\\omega t}$ alakban!\n",
    "\n",
    "Ebből összefüggést kapunk a körfrekvenciák és a sajátértékek közt.\n",
    "\n",
    "* Határozzuk meg a rezgési sajátfrekvenciákat és a saját módusokat!\n",
    "* Készítsünk egy interaktív ábrát mely segítségével adott paraméter értékeknél a spektrumot és egy kiszemelt rezgési módust jelenítjük meg! \n",
    "\n",
    "Milyen kvalitatív különbségeket veszünk észre a spektrumban az alábbi négy paramétertartományban:\n",
    "\n",
    " - A tömegek egyenlőek és $ k_1 < k_2 $\n",
    " - A tömegek egyenlőek és $ k_1 > k_2 $\n",
    " - A rugók megeggyeznek és $ m_1 < m_2 $\n",
    " - A rugók megeggyeznek és $ m_1 > m_2 $\n",
    " "
   ]
  }
 ],
 "metadata": {
  "anaconda-cloud": {},
  "hide_input": false,
  "kernelspec": {
   "display_name": "Python 3",
   "language": "python",
   "name": "python3"
  },
  "language_info": {
   "codemirror_mode": {
    "name": "ipython",
    "version": 3
   },
   "file_extension": ".py",
   "mimetype": "text/x-python",
   "name": "python",
   "nbconvert_exporter": "python",
   "pygments_lexer": "ipython3",
   "version": "3.5.2"
  },
  "name": "feladat05.ipynb"
 },
 "nbformat": 4,
 "nbformat_minor": 0
}
