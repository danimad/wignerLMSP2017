{
 "cells": [
  {
   "cell_type": "markdown",
   "metadata": {
    "collapsed": false
   },
   "source": [
    "# Lineáris algebra\n",
    "\n",
    "<h3 style='color: darkcyan'>matrix-ok</h3>\n",
    "\n",
    ">```python\n",
    "A=matrix(...) # mátrixok definiálása\n",
    "B=matrix(...) # \n",
    "trace(A) # diagonális elemek összege\n",
    "inv(A)   # inverz\n",
    "det(A)   # determináns\n",
    "C=A*B # a * mátrixszorzás!\n",
    "```\n",
    "\n",
    "\n",
    "<h3 style='color: darkcyan'>Lineáris egyenletrendszer megoldása</h3>\n",
    "\n",
    ">```python\n",
    "x=solve(A,b)      # az egyenletrendszer megoldasa\n",
    "```     \n",
    "\n",
    "<h3 style='color: darkcyan'>Sajatérték-probléma</h3>\n",
    "\n",
    ">```python\n",
    ">ertek,vektor=eig(A) # Az A matrix sajatertekei es sajatvektorai\n",
    ">\n",
    ">v1=vektor[:,0] #ez az elso sajat vektor\n",
    ">w1=ertek[0] #ez az elso sajatertek\n",
    ">```\n"
   ]
  }
 ],
 "metadata": {
  "anaconda-cloud": {},
  "hide_input": false,
  "kernelspec": {
   "display_name": "Python 3",
   "language": "python",
   "name": "python3"
  },
  "language_info": {
   "codemirror_mode": {
    "name": "ipython",
    "version": 3
   },
   "file_extension": ".py",
   "mimetype": "text/x-python",
   "name": "python",
   "nbconvert_exporter": "python",
   "pygments_lexer": "ipython3",
   "version": "3.5.1"
  },
  "name": "Cheat_sheat.ipynb"
 },
 "nbformat": 4,
 "nbformat_minor": 0
}
