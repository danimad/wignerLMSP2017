{
 "cells": [
  {
   "cell_type": "markdown",
   "metadata": {
    "deletable": true,
    "editable": true,
    "run_control": {
     "frozen": false,
     "read_only": false
    }
   },
   "source": [
    "# Feladatok\n",
    "- Minden feladatot feladatszámnak mgefelelő számú megoldásnotebookban oldd meg. Azaz az első feladatot az `1_feladat.ipynb` notebookban.\n",
    "- A **halálfejes (☠)** feladatokhoz, **hozz létre** a kötelező feladatokhoz hasonlóan egy új notebookot a MEGOLDÁSOK könyvtárban.\n",
    "- Csak azok a feladatok kerülnek elbírálásra amelyek a MEGOLDASOK mappában vannak!\n",
    "- A megoldás tartalmazza a megoldandó **feladat szövegét** a megoldás notebook első `markdown` cellájában!\n",
    "- **Kommentekkel** illetve `markdown` cellákkal magyarázd hogy éppen mit csinál az adott kódrészlet!<br> **Magyarázat nélkül a beküldött feladatok csak fél feladatnak számítanak!**\n",
    "- Az elkészített ábrák minden esetben rendelkezzenek **ábrafeliratokkal** (cím, tengelyfeliratok és amennyiben indokolt jelmagyarázat)!\n",
    "**Amennyiben a beadott ábrákon nincsenek feliratok az adott feladat automatikusan csak fél feladatnak számít**!\n",
    "\n",
    "----\n"
   ]
  },
  {
   "cell_type": "markdown",
   "metadata": {
    "collapsed": false,
    "deletable": true,
    "editable": true,
    "run_control": {
     "frozen": false,
     "read_only": false
    }
   },
   "source": [
    "# 1. feladat\n",
    "\n",
    "#### Kalasszikus fájlbeolvasás\n",
    "\n",
    "Olvassuk be a **data/szeptember_vegen.txt** fájlt, és mondjuk meg hány karakterből áll a fájl tartalma."
   ]
  },
  {
   "cell_type": "markdown",
   "metadata": {
    "deletable": true,
    "editable": true,
    "run_control": {
     "frozen": false,
     "read_only": false
    }
   },
   "source": [
    "# 2. feladat\n",
    "\n",
    "#### Karakterkeresés\n",
    "\n",
    "Írjunk meg a saját grep függvényünket!\n",
    "\n",
    "Kérjen egy fájlnevet, illetve egy karakterláncot, majd írja ki azokat a sorokat, amikben a karakterlánc megtalálható.\n",
    "A grep parancshoz hasonlóan a függvény ne használjon sok memóriát gigantikus fájlok esetén sem! \n",
    "\n",
    "**A feladat megoldása során a `numpy` csomag `loadtxt()` parancsa nem használható!**"
   ]
  },
  {
   "cell_type": "code",
   "execution_count": null,
   "metadata": {
    "collapsed": false,
    "deletable": true,
    "editable": true,
    "run_control": {
     "frozen": false,
     "read_only": false
    }
   },
   "outputs": [],
   "source": [
    "def grep(fn,s):\n",
    "    \"\"\"Keresd meg stringet a fajlban, es ird ki a sort amiben megvan.\"\"\""
   ]
  },
  {
   "cell_type": "markdown",
   "metadata": {
    "deletable": true,
    "editable": true,
    "run_control": {
     "frozen": false,
     "read_only": false
    }
   },
   "source": [
    "# 3. feladat\n",
    "\n",
    "#### Klasszikuis adatbeolvasás - I.\n",
    "\n",
    "A **data/ebola.txt** file tartalmazza a 2014-es Ebola járvány fertőzöttségi és kumulatív (adott napig hányan haltak meg összesen) halálozási adatait. \n",
    "- Ábrázoljuk a file-ban szereplő összes országra külön-külön az elhalálozottak számát az idő függvényében!\n",
    "- A járványterjedések jó közelítéssel exponenciális függvényalakkal jellemezhatőek, azaz az alábbi függvény $$f(t)=A e^{\\alpha t} $$ jól szokott illeni ezen adatokra. Átlagképzés és numerikus deriválás segítségével határozzuk meg az $A$ és $\\alpha$ együtthatókat az összes elhalálozások számából! Mivel $$\\frac{\\mathrm{d}f}{\\mathrm{d}t}=\\alpha f(t)$$ ezért $\\alpha$ a halálozási idősor és annak idő-deriváltjának hányadosának az átlagával közelíthető. Az $\\alpha$ ráta ismeretében az  $A$ eggyütható értékét becsüljük meg az adatsor utólsó napjához tartozó adatokból!\n",
    "- Ábrázoljuk a meghatározott paraméter értékek segítségével az $f(t)$ függvényt és az adatokat egyszerre!"
   ]
  },
  {
   "cell_type": "markdown",
   "metadata": {
    "deletable": true,
    "editable": true,
    "run_control": {
     "frozen": false,
     "read_only": false
    }
   },
   "source": [
    "# 4. feladat\n",
    "\n",
    "#### Fits fájlok - I.\n",
    "\n",
    "Adott a **data/hf.fits** állomány. A tanult módon olvasd be a pythonba, majd végezd el a következő feladatokat:\n",
    "\n",
    "- Listázd ki a fájlban levő HDU-kat.\n",
    "- Válaszd ki a 'BAT_IMAGE_2' nevő blokkot\n",
    "- A kiválasztott blokk fejlécéből olvasd ki a következő változók értékét: \n",
    "\"E_MIN\", \"E_MAX\", \"EXPOSURE\", \"TSTART\", TSTOP\", \"DATE-OBS\"\n",
    "- Add meg, hogy a kiválaszott adattömb, hanyadik energiabinnek felel meg, az \"EBOUNDS\" hdu adatai alapján.\n",
    "- Ábrázold (`imshow`) a kiválaszott adatsort égi kordinátarendszerben a következő paraméterekkel:\n",
    "`cmap=\"jet\", origin='lower', vmin=-0.001, vmax=0.001`"
   ]
  },
  {
   "cell_type": "markdown",
   "metadata": {
    "deletable": true,
    "editable": true,
    "run_control": {
     "frozen": false,
     "read_only": false
    }
   },
   "source": [
    "# 5. feladat\n",
    "\n",
    "Adott a **data/hf.hdf5** állomány. A tanult módon olvasd be a pythonba, majd végezd el a következő feladatokat:\n",
    "\n",
    "- Keresd meg benne a csoportok neveit!\n",
    "- Keresd meg azt az adattömböt, melynek dimenziói: 64x64x64\n",
    "- Ábrázold ennek a tömbnek a 3. koordináta szerinti 32.-dik szeletét\n",
    "- Az ábra az `imshow` használatával, \"viridis\" színséma beállítással készüljön."
   ]
  },
  {
   "cell_type": "markdown",
   "metadata": {
    "deletable": true,
    "editable": true,
    "run_control": {
     "frozen": false,
     "read_only": false
    }
   },
   "source": [
    "# ☠ 6. feladat\n",
    "\n",
    "#### Fits fájlok - II.\n",
    "\n",
    "Adott a **data/source.fits** állomány. A tanult módon olvasd be a pythonba, majd végezd el a következő feladatokat:\n",
    "\n",
    "- Listázd ki a fájlban levő HDU-kat.\n",
    "- Válaszd ki azt az extension-t, ami adatokat tárol!\n",
    "- Írasd ki a \"NAME\" adatokat, és a `unique` parancs segítségével derítsd ki hány különböző objektum található az adattáblában.\n",
    "- Válogasd le azokat a sorokat, melyek neve \"FRB\". \n",
    "- A kiválogatott adatsorokból a \"RATE\" adatokat keresd meg, majd ábrázold a következő módon:\n",
    "  1. A vízszintes tengely 0-tól az FRB adatok hosszáig menjen\n",
    "  2. A függőleges tengelyen legyen ábrázolva az előbb kiválogatott RATE, sorbarendezés után. \n",
    "  3. Az ábra címe legyen \"Kumulatív eloszlás\"."
   ]
  },
  {
   "cell_type": "markdown",
   "metadata": {
    "deletable": true,
    "editable": true,
    "run_control": {
     "frozen": false,
     "read_only": false
    }
   },
   "source": [
    "# ☠ 7. feladat\n",
    "\n",
    "#### Adatbeolvasás saját függvénnyel\n",
    "\n",
    "Írjunk meg a saját adatbeolvasó függvényünket!\n",
    "\n",
    "Kérjen egy fájlnevet, és olvassa be a whitespace-el elválasztott adatokat. Egy numpy tömbbel térjen vissza.\n",
    "\n",
    "Teszteljük le a megírt függvényünk sebességét a beolvasott sorok számának függvényében. Próbáljunk olyan megoldást írni, aminek a futásideje lineárisan függ a sorok számától.\n",
    "\n",
    "- A sebességtesztet 20 oszlopos fájlokkal végezzük.\n",
    "- A fájlok hossza 4000 sorig fusson 200-asával.\n",
    "\n",
    "**A feladat megoldása során a `numpy` csomag `loadtxt()` parancsa nem használható!**"
   ]
  },
  {
   "cell_type": "code",
   "execution_count": 1,
   "metadata": {
    "collapsed": false,
    "deletable": true,
    "editable": true,
    "run_control": {
     "frozen": false,
     "read_only": false
    }
   },
   "outputs": [],
   "source": [
    "def read_txt(fn):\n",
    "    \"\"\"Olvasd be fn szöveges adatfájlt egy tömbbe.\"\"\""
   ]
  },
  {
   "cell_type": "markdown",
   "metadata": {
    "deletable": true,
    "editable": true
   },
   "source": [
    "# ☠ 8. feladat\n",
    "\n",
    "#### Joblib/Pickle\n",
    "\n",
    "Hasonlítsuk össze a Joblib és a Pickle csomagok hatékonyságát.\n",
    "\n",
    "A feladat megoldásához telepíteni kell a `joblib` modult!\n",
    "\n",
    "```!pip install joblib --user```\n",
    "\n",
    "Vizsgáljuk meg az alábbi 3 fajta adatstuktúra írási sebességét és a kapott fájlok méretét az adatstruktúra dimenziójának (N) függvényében!\n",
    "  1. Egész számok sorozata: 0 és `N` között\n",
    "  2. Random számok: `N` darab normál eloszlású valós szám\n",
    "  3. `sin(x)` mintaételezése: `N` és `k` periódus mintavételezés ($ k=1, k=5, k=20, k=100$)\n",
    "\n",
    "Az `N` értéke rendre legyen: $10^2$,$10^3$,$10^4$,$10^5$,$10^6$\n",
    "\n"
   ]
  },
  {
   "cell_type": "markdown",
   "metadata": {
    "collapsed": false,
    "deletable": true,
    "editable": true,
    "run_control": {
     "frozen": false,
     "read_only": false
    }
   },
   "source": [
    "# ☠ 9. feladat\n",
    "\n",
    "### Mekegünk vagy nem mekegünk?\n",
    "\n",
    "Gyakran mondják, hogy a magyar nyelv aránytalanul sok e-betűt használ, idegen hallgatóság úgy érzékeli, mintha sokat \"mekegnénk\".\n",
    "- Vizsgáljuk meg, mi a 10 leggyakoribb magyar betű Mikszáth Kálmán A fekete város c. regényében (**data/fekete_varos.txt**)!\n",
    "- Figyeljünk arra, hogy számlálás közben mindent kisbetűssé alakítsunk.\n",
    "- Benne van-e az első 10 betű között az \"e\"?\n",
    "- A két- és háromjegyű mássalhangzókat most kezeljük két külön betűnek."
   ]
  },
  {
   "cell_type": "markdown",
   "metadata": {
    "collapsed": false,
    "deletable": true,
    "editable": true,
    "run_control": {
     "frozen": false,
     "read_only": false
    }
   },
   "source": [
    "# ☠ 10. feladat\n",
    "\n",
    "#### Rímdetektor\n",
    "\n",
    "- Olvassuk be Petőfi Sándor Szeptember végén c. versének sorait egy listába (**data/szeptember_vegen.txt**)!\n",
    "- Írjunk egy függvényt, amelynek ha beadunk két sort, akkor \"megméri\", hogy azok mennyire rímelnek!\n",
    "- A \"mérés\" úgy történik, hogy vesszük mindkét sor utolsó szavát, majd a két szó közös karaktereinek számának a kétszeresét elosztjuk a két szó hosszának összegével.\n",
    "- A mérés előtt a szavakből távolítsuk el az írásjeleket!\n",
    "- Ezután vizsgáljuk meg, hogy a versen végigmenve a rímdetektor páros rímre (aabb) vagy keresztrímre (abab) ad-e nagyobb átlagos \"rímmértéket\"!"
   ]
  }
 ],
 "metadata": {
  "hide_input": false,
  "kernelspec": {
   "display_name": "Python 3",
   "language": "python",
   "name": "python3"
  },
  "language_info": {
   "codemirror_mode": {
    "name": "ipython",
    "version": 3
   },
   "file_extension": ".py",
   "mimetype": "text/x-python",
   "name": "python",
   "nbconvert_exporter": "python",
   "pygments_lexer": "ipython3",
   "version": "3.5.2"
  }
 },
 "nbformat": 4,
 "nbformat_minor": 1
}
